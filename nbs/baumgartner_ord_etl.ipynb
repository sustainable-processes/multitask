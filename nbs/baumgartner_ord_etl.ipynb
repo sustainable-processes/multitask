{
 "cells": [
  {
   "cell_type": "markdown",
   "metadata": {},
   "source": [
    "# Baumgartner Suzuki\n",
    "\n",
    "Based on a [paper](https://pubs.rsc.org/en/content/articlelanding/2018/RE/C8RE00032H#!divAbstract) from L. Baumgartner et al. The catalyst complex, catalyst loading, temperature, and residence time and optimizing yield and TON. Figure below is taken from the paper. They run two optimization campaigns, each with a different version of their MINLP optimizer.\n",
    "\n",
    "\n",
    "This notebook is for exploration and figuring out the conversion.  See `src/etl_baumgartner_suzuki.py` for the code to actually run.\n",
    "\n",
    "From the methods section:\n",
    ">Individual stock solutions of the eight precatalyst combinations 1–8, 3-chloropyridine 9 with naphthalene as an internal standard and the boronic acid ester 10 were prepared in THF under nitrogen atmosphere. Together with vials containing the pure solvents water and THF, solutions were placed in the liquid handler (Gilson GX-241) rack under argon atmosphere during the optimization run. Glass syringes used for online injection of base and quench solutions were primed and mounted on the syringe pumps (Harvard Apparatus PHD Ultra). Protocols of stock solution preparation are provided in the ESI.†\n",
    "\n",
    "From the SI\n",
    "> For the reagents 2-fluoropyridine-3-boronic acid pincacol ester (0.996 M) and 3-chloropyridine (1.434 M),\n",
    "5 mL stock solutions were prepared in THF and transferred to flat bottom glass vials."
   ]
  },
  {
   "cell_type": "code",
   "execution_count": 1,
   "metadata": {},
   "outputs": [],
   "source": [
    "import ord_schema\n",
    "from datetime import datetime\n",
    "from ord_schema.proto.reaction_pb2 import *\n",
    "from ord_schema.units import UnitResolver\n",
    "from ord_schema import validations\n",
    "from ord_schema import message_helpers\n",
    "from ord_schema.message_helpers import find_submessages, build_compound\n",
    "\n",
    "import pandas as pd\n",
    "from pathlib import Path"
   ]
  },
  {
   "cell_type": "code",
   "execution_count": 2,
   "metadata": {},
   "outputs": [],
   "source": [
    "# Units\n",
    "unit_resolver = UnitResolver()\n",
    "\n",
    "# Paths\n",
    "data_path = Path(\"../data\")"
   ]
  },
  {
   "cell_type": "code",
   "execution_count": 3,
   "metadata": {},
   "outputs": [],
   "source": [
    "baumgartner_suzuki_path = data_path / \"baumgartner_suzuki\""
   ]
  },
  {
   "cell_type": "code",
   "execution_count": 4,
   "metadata": {},
   "outputs": [],
   "source": [
    "# Read in data\n",
    "dfs = [pd.read_excel(\n",
    "            baumgartner_suzuki_path / \"c8re00032h2.xlsx\", \n",
    "            sheet_name=f\"MINLP{i+1} optimization\"\n",
    "       ) \n",
    "       for i in range(2)]"
   ]
  },
  {
   "cell_type": "code",
   "execution_count": 5,
   "metadata": {},
   "outputs": [
    {
     "data": {
      "text/plain": [
       "(95, 28)"
      ]
     },
     "execution_count": 5,
     "metadata": {},
     "output_type": "execute_result"
    }
   ],
   "source": [
    "dfs[0].shape"
   ]
  },
  {
   "cell_type": "code",
   "execution_count": 6,
   "metadata": {},
   "outputs": [
    {
     "data": {
      "text/plain": [
       "(60, 26)"
      ]
     },
     "execution_count": 6,
     "metadata": {},
     "output_type": "execute_result"
    }
   ],
   "source": [
    "dfs[1].shape"
   ]
  },
  {
   "cell_type": "code",
   "execution_count": 5,
   "metadata": {},
   "outputs": [
    {
     "data": {
      "text/plain": [
       "Index(['Number', 'Reagent 1 ID', 'Reagent 1 Conc. (M)', 'Reagent 2 ID',\n",
       "       'Reagent 2 Conc. (M)', 'Reagent 3 ID', 'Reagent 3 Conc. (M)',\n",
       "       'Reagent 4 ID', 'Reagent 4 Conc. (M)', 'Make-Up Solvent ID',\n",
       "       'Inlet Injection (µL)', 'Outlet Injection (µL)', 'Temperature (°C)',\n",
       "       'Residence Time Actual (s)', 'DBU Conc (M)',\n",
       "       'Internal Standard Conc. (g/L)', 'Reaction Yield',\n",
       "       'Objective Function Value', 'Naphthalene Retention time in min',\n",
       "       '3-Chloropyridine Retention time in min',\n",
       "       '2-Fluoro-3,3'-bipyridine Retention time in min',\n",
       "       'Naphthalene Peak area in a.u. at 270 nm',\n",
       "       '3-Chloropyridine Peak area in a.u. at 270 nm',\n",
       "       '2-Fluoro-3,3'-bipyridine Peak area in a.u. at 300 nm', 'TON',\n",
       "       'Reagent 3 Conc in mol%', 'Predicted Yield Std', 'Predicted TON Std'],\n",
       "      dtype='object')"
      ]
     },
     "execution_count": 5,
     "metadata": {},
     "output_type": "execute_result"
    }
   ],
   "source": [
    "dfs[0].columns"
   ]
  },
  {
   "cell_type": "code",
   "execution_count": 10,
   "metadata": {},
   "outputs": [
    {
     "data": {
      "text/plain": [
       "array(['P1L3 RuPhos OMs', 'P1L2 SPhos OMs', 'P1L6 PPh3 OMs',\n",
       "       'P1L7 PtBu3 OMs', 'P1L4 XantPhos OMs', 'P1L5 PCy3 OMs',\n",
       "       'P1L1 XPhos OMs', 'P2L1 XPhos Cl'], dtype=object)"
      ]
     },
     "execution_count": 10,
     "metadata": {},
     "output_type": "execute_result"
    }
   ],
   "source": [
    "dfs[0][\"Reagent 3 ID\"].unique()"
   ]
  },
  {
   "cell_type": "code",
   "execution_count": 6,
   "metadata": {},
   "outputs": [],
   "source": [
    "def add_thf_solvent(\n",
    "    stock: ReactionInput,\n",
    "    final_solute_conc: float,\n",
    "    stock_conc: float,\n",
    "    droplet_volume: float=40.0,\n",
    ")-> None:\n",
    "    \"\"\"\n",
    "    final_solute_conc is in molar\n",
    "    droplet volume in microliters\n",
    "    stock_conc in molar\n",
    "    \"\"\"\n",
    "    thf = stock.components.add()\n",
    "    thf.identifiers.add(\n",
    "        value=\"THF\",\n",
    "        type=CompoundIdentifier.NAME\n",
    "    )\n",
    "    thf.identifiers.add(\n",
    "        value=r\"C1CCOC1\",\n",
    "        type=CompoundIdentifier.SMILES\n",
    "    )\n",
    "    thf.reaction_role = ReactionRole.SOLVENT\n",
    "    thf.amount.volume.units=Volume.MICROLITER\n",
    "    thf.amount.volume.value=final_solute_conc*droplet_volume/stock_conc\n",
    "    thf.amount.volume_includes_solutes=True    "
   ]
  },
  {
   "cell_type": "code",
   "execution_count": 18,
   "metadata": {},
   "outputs": [
    {
     "data": {
      "text/plain": [
       "type: NAME\n",
       "value: \"Suzuki Coupling\""
      ]
     },
     "execution_count": 18,
     "metadata": {},
     "output_type": "execute_result"
    }
   ],
   "source": [
    "row = dfs[0].iloc[0]\n",
    "# Define reaction\n",
    "reaction = Reaction()\n",
    "reaction.identifiers.add(\n",
    "    value=r\"Suzuki Coupling\", type=5\n",
    ")"
   ]
  },
  {
   "cell_type": "code",
   "execution_count": 8,
   "metadata": {},
   "outputs": [],
   "source": [
    "# Chloropyridine\n",
    "chloropyridine_stock = reaction.inputs[\"Electrophile\"]\n",
    "chloropyridine_stock.addition_order = 1\n",
    "\n",
    "# Reactant\n",
    "chloropyridine = chloropyridine_stock.components.add()\n",
    "chloropyridine.reaction_role = ReactionRole.REACTANT\n",
    "chloropyridine.identifiers.add(\n",
    "    value=\"3-Chloropyridine\",\n",
    "    type=CompoundIdentifier.NAME\n",
    ")\n",
    "chloropyridine.identifiers.add(\n",
    "    value=r\"C1=CC(=CN=C1)Cl\",\n",
    "    type=CompoundIdentifier.SMILES\n",
    ")\n",
    "chloropyridine_conc = row[\"Reagent 1 Conc. (M)\"]\n",
    "amount = chloropyridine.amount\n",
    "amount.moles.units = Moles.MICROMOLE\n",
    "amount.moles.value=chloropyridine_conc*40.0 #40 µL droplet\n",
    "chloropyridine.is_limiting = True\n",
    "\n",
    "# Internal standard\n",
    "internal_std = chloropyridine_stock.components.add()\n",
    "internal_std.reaction_role = ReactionRole.INTERNAL_STANDARD\n",
    "internal_std.identifiers.add(\n",
    "    value=\"Naphthelene\",\n",
    "    type=CompoundIdentifier.NAME\n",
    ")\n",
    "internal_std.identifiers.add(\n",
    "    value=r\"c1c2ccccc2ccc1\",\n",
    "    type=CompoundIdentifier.SMILES\n",
    ")\n",
    "istd_conc = row[\"Internal Standard Conc. (g/L)\"]\n",
    "amount = internal_std.amount\n",
    "amount.mass.units = Mass.MICROGRAM\n",
    "amount.mass.value=istd_conc*40.0\n",
    "\n",
    "# Solvent\n",
    "add_thf_solvent(\n",
    "    chloropyridine_stock,\n",
    "    chloropyridine_conc,\n",
    "    stock_conc=1.434\n",
    ")"
   ]
  },
  {
   "cell_type": "code",
   "execution_count": 9,
   "metadata": {},
   "outputs": [],
   "source": [
    "# Pinacol ester\n",
    "pinacol_ester_stock = reaction.inputs[\"Nucleophile\"]\n",
    "pinacol_ester_stock.addition_order = 1\n",
    "\n",
    "# Solute\n",
    "pinacol_ester = pinacol_ester_stock.components.add()\n",
    "pinacol_ester.reaction_role = ReactionRole.REACTANT\n",
    "pinacol_ester.identifiers.add(\n",
    "    value=\"2-fluoropyridine-3-boronic acid pincacol ester\", \n",
    "    type=CompoundIdentifier.NAME\n",
    ")\n",
    "pinacol_ester.identifiers.add(\n",
    "    value=r\"CC1(C)OB(OC1(C)C)c2ccc(F)nc2\",\n",
    "    type=CompoundIdentifier.SMILES\n",
    ")\n",
    "pe_conc = row[\"Reagent 1 Conc. (M)\"]\n",
    "amount = pinacol_ester.amount\n",
    "amount.moles.units = Moles.MICROMOLE\n",
    "amount.moles.value=pe_conc*40.0 #40 µL droplet\n",
    "\n",
    "# Solvent\n",
    "add_thf_solvent(\n",
    "    pinacol_ester_stock,\n",
    "    pe_conc,\n",
    "    stock_conc=0.996\n",
    ")"
   ]
  },
  {
   "cell_type": "code",
   "execution_count": 10,
   "metadata": {},
   "outputs": [],
   "source": [
    "pre_catalysts = {\n",
    "    \"P1\": {\n",
    "        \"SMILES\": \"CS(=O)(=O)O[Pd]c1ccccc1-c2ccccc2N\",\n",
    "        \"name\": \"Pd G3 µ-OMS\"\n",
    "    },\n",
    "    \"P2\": {\n",
    "        \"SMILES\": \"Cl[Pd]c1ccccc1-c2ccccc2N\",\n",
    "        \"name\": \"Pd G3 Cl\"\n",
    "    }\n",
    "}"
   ]
  },
  {
   "cell_type": "code",
   "execution_count": 11,
   "metadata": {},
   "outputs": [],
   "source": [
    "ligands = {\n",
    "    \"L1\": {\n",
    "        \"SMILES\": \"CC(C)c1cc(C(C)C)c(c(c1)C(C)C)-c2ccccc2P(C3CCCCC3)C4CCCCC4\",\n",
    "        \"name\": \"XPhos\"\n",
    "    },\n",
    "    \"L2\": {\n",
    "        \"SMILES\": \"COc1cccc(OC)c1-c2ccccc2P(C3CCCCC3)C4CCCCC4\",\n",
    "        \"name\": \"SPhos\",\n",
    "    },\n",
    "    \"L3\": {\n",
    "        \"SMILES\": \"CC(C)Oc1cccc(OC(C)C)c1-c2ccccc2P(C3CCCCC3)C4CCCCC4\",\n",
    "        \"name\": \"RuPhos\"\n",
    "    },\n",
    "    \"L4\": {\n",
    "        \"SMILES\": \"CC1(C)c2cccc(P(c3ccccc3)c4ccccc4)c2Oc5c(cccc15)P(c6ccccc6)c7ccccc7\",\n",
    "        \"name\": \"XantPhos\"\n",
    "    },\n",
    "    \"L5\": {\n",
    "        \"SMILES\": \"C1CCC(CC1)P(C2CCCCC2)C3CCCCC3\",\n",
    "        \"name\": \"tricyclohexylphosphine\"\n",
    "    },\n",
    "    \"L6\": {\n",
    "        \"SMILES\": \"c1ccc(cc1)P(c2ccccc2)c3ccccc3\",\n",
    "        \"name\": \"triphenylphosphine\"\n",
    "    },\n",
    "    \"L7\": {\n",
    "        \"SMILES\": \"CC(C)(C)P(C(C)(C)C)C(C)(C)C\",\n",
    "        \"name\": \"tri-tert-butylphosphine\"\n",
    "    }\n",
    "}\n",
    "def catalyst_details(pre_catalyst_id:str, ligand_id:str)-> (str, str):\n",
    "    pre_cat = pre_catalysts[pre_catalyst_id]\n",
    "    ligand = ligands[ligand_id]\n",
    "    smiles = f\"\"\"{pre_cat[\"SMILES\"]}.{ligand[\"SMILES\"]}\"\"\"\n",
    "    name = pre_cat[\"name\"] + \" \" + pre_cat[\"name\"]\n",
    "    return name, smiles"
   ]
  },
  {
   "cell_type": "code",
   "execution_count": 12,
   "metadata": {},
   "outputs": [],
   "source": [
    "# Catalyst\n",
    "catalyst_stock = reaction.inputs[\"Catalyst\"]\n",
    "catalyst_stock.addition_order = 1\n",
    "\n",
    "# Solute\n",
    "catalyst = catalyst_stock.components.add()\n",
    "catalyst.reaction_role = ReactionRole.CATALYST\n",
    "cat_id = row[\"Reagent 3 ID\"]\n",
    "name, smiles = catalyst_details(cat_id[:2], cat_id[2:4])\n",
    "catalyst.identifiers.add(\n",
    "    value=name,\n",
    "    type=CompoundIdentifier.NAME\n",
    ")\n",
    "catalyst.identifiers.add(\n",
    "    value=smiles,\n",
    "    type=CompoundIdentifier.SMILES\n",
    ")\n",
    "cat_conc = row[\"Reagent 3 Conc. (M)\"]\n",
    "catalyst.amount.moles.units = Moles.MICROMOLE\n",
    "catalyst.amount.moles.value=cat_conc*40.0\n",
    "\n",
    "# Solvent\n",
    "add_thf_solvent(\n",
    "    catalyst_stock,\n",
    "    cat_conc,\n",
    "    stock_conc=0.017\n",
    ")"
   ]
  },
  {
   "cell_type": "code",
   "execution_count": 13,
   "metadata": {},
   "outputs": [],
   "source": [
    "# Solvent\n",
    "solvent_mix = reaction.inputs[\"Solvent\"]\n",
    "solvent_mix.addition_order = 1\n",
    "\n",
    "# Calculate volume of solvent needed for 40 microliter droplet\n",
    "reactaants = [\n",
    "    reaction.inputs[v] \n",
    "    for v in \n",
    "    [\"Electrophile\", \"Nucleophile\", \"Catalyst\"]\n",
    "]\n",
    "reactants_volume = sum([r.components[1].amount.volume.value for r in reactants])\n",
    "solvent_volume = 40.0 - reactants_volume\n",
    "thf_volume = 5/6*solvent_volume\n",
    "water_volume = 1/6*solvent_volume\n",
    "\n",
    "# THF\n",
    "thf = solvent_mix.components.add()\n",
    "thf.identifiers.add(\n",
    "    value=\"THF\",\n",
    "    type=CompoundIdentifier.NAME\n",
    ")\n",
    "thf.identifiers.add(\n",
    "    value=r\"C1CCOC1\",\n",
    "    type=CompoundIdentifier.SMILES\n",
    ")\n",
    "thf.reaction_role = ReactionRole.SOLVENT\n",
    "thf.amount.volume.value = thf_volume\n",
    "thf.amount.volume.units = Volume.MICROLITER\n",
    "\n",
    "# Water\n",
    "water = solvent_mix.components.add()\n",
    "water.identifiers.add(\n",
    "    value=\"water\",\n",
    "    type=CompoundIdentifier.NAME\n",
    ")\n",
    "water.identifiers.add(\n",
    "    value=\"O\",\n",
    "    type=CompoundIdentifier.SMILES\n",
    ")\n",
    "water.reaction_role = ReactionRole.SOLVENT\n",
    "water.amount.volume.value = water_volume\n",
    "water.amount.volume.units = Volume.MICROLITER"
   ]
  },
  {
   "cell_type": "code",
   "execution_count": 14,
   "metadata": {},
   "outputs": [],
   "source": [
    "# Base\n",
    "base_stock = reaction.inputs[\"Base\"]\n",
    "base_stock.addition_order = 2\n",
    "\n",
    "# Solute\n",
    "base = base_stock.components.add()\n",
    "base.reaction_role = ReactionRole.REAGENT\n",
    "base.identifiers.add(\n",
    "    value=\"DBU\",\n",
    "    type=CompoundIdentifier.NAME\n",
    ")\n",
    "base.identifiers.add(\n",
    "    value=r\"N\\2=C1\\N(CCCCC1)CCC/2\",\n",
    "    type=CompoundIdentifier.SMILES\n",
    ")\n",
    "base.amount.moles.value = row[\"Inlet Injection (µL)\"]*1.645\n",
    "base.amount.moles.units = Moles.MICROMOLE\n",
    "\n",
    "# Solvent\n",
    "thf = base_stock.components.add()\n",
    "thf.identifiers.add(\n",
    "    value=\"THF\",\n",
    "    type=CompoundIdentifier.NAME\n",
    ")\n",
    "thf.identifiers.add(\n",
    "    value=r\"C1CCOC1\",\n",
    "    type=CompoundIdentifier.SMILES\n",
    ")\n",
    "thf.reaction_role = ReactionRole.SOLVENT\n",
    "thf.amount.volume.value = row[\"Inlet Injection (µL)\"]\n",
    "thf.amount.volume.units = Volume.MICROLITER"
   ]
  },
  {
   "cell_type": "code",
   "execution_count": 15,
   "metadata": {},
   "outputs": [],
   "source": [
    "# Temperature\n",
    "temp_conditions = reaction.conditions.temperature\n",
    "details = \"Oscillatory flow reactor with two cartridge heaters and a thermocouple\"\n",
    "control = temp_conditions.control \n",
    "control.type = TemperatureConditions.TemperatureControl.DRY_ALUMINUM_PLATE\n",
    "control.details = details\n",
    "temp_conditions.setpoint.value = row[\"Temperature (°C)\"]\n",
    "temp_conditions.setpoint.units = Temperature.TemperatureUnit.CELSIUS"
   ]
  },
  {
   "cell_type": "code",
   "execution_count": 16,
   "metadata": {},
   "outputs": [],
   "source": [
    "flow_conditions = reaction.conditions.flow\n",
    "flow_conditions.type = FlowConditions.CUSTOM\n",
    "flow_conditions.details = (\n",
    "    \"A droplet flow reactor system consisting of a liquid handler\"\n",
    "    \" and oscillatory flow reactor. Each droplet is like a mini-batch reactor.\"\n",
    ")\n",
    "flow_conditions.tubing.type = FlowConditions.Tubing.PFA\n",
    "flow_conditions.tubing.diameter.value = 1/16\n",
    "flow_conditions.tubing.details = \"\"\"1/16 in. ID tubing for main reactor.\"\"\"\n",
    "flow_conditions.tubing.diameter.units = Length.INCH"
   ]
  },
  {
   "cell_type": "code",
   "execution_count": 17,
   "metadata": {},
   "outputs": [
    {
     "ename": "NameError",
     "evalue": "name 'np' is not defined",
     "output_type": "error",
     "traceback": [
      "\u001b[0;31m---------------------------------------------------------------------------\u001b[0m",
      "\u001b[0;31mNameError\u001b[0m                                 Traceback (most recent call last)",
      "\u001b[0;32m<ipython-input-17-100c6b19135b>\u001b[0m in \u001b[0;36m<module>\u001b[0;34m\u001b[0m\n\u001b[1;32m      9\u001b[0m \u001b[0;34m\u001b[0m\u001b[0m\n\u001b[1;32m     10\u001b[0m \u001b[0;31m# Check that reaction volume adds up properly\u001b[0m\u001b[0;34m\u001b[0m\u001b[0;34m\u001b[0m\u001b[0;34m\u001b[0m\u001b[0m\n\u001b[0;32m---> 11\u001b[0;31m \u001b[0;32massert\u001b[0m \u001b[0mnp\u001b[0m\u001b[0;34m.\u001b[0m\u001b[0misclose\u001b[0m\u001b[0;34m(\u001b[0m\u001b[0mreaction_volume\u001b[0m\u001b[0;34m,\u001b[0m \u001b[0;36m43.5\u001b[0m\u001b[0;34m,\u001b[0m \u001b[0mrtol\u001b[0m\u001b[0;34m=\u001b[0m\u001b[0;36m1e-3\u001b[0m\u001b[0;34m)\u001b[0m\u001b[0;34m\u001b[0m\u001b[0;34m\u001b[0m\u001b[0m\n\u001b[0m",
      "\u001b[0;31mNameError\u001b[0m: name 'np' is not defined"
     ]
    }
   ],
   "source": [
    "# Calculate total reaction volume\n",
    "reactants = [\n",
    "    reaction.inputs[v] \n",
    "    for v in \n",
    "    [\"Electrophile\", \"Nucleophile\", \"Catalyst\", \"Base\"]\n",
    "]\n",
    "reaction_volume = sum([r.components[1].amount.volume.value for r in reactants])\n",
    "reaction_volume += sum([s.value for s in find_submessages(solvent_mix, Volume)])\n",
    "\n",
    "# Check that reaction volume adds up properly\n",
    "assert np.isclose(reaction_volume, 43.5, rtol=1e-3)"
   ]
  },
  {
   "cell_type": "code",
   "execution_count": null,
   "metadata": {},
   "outputs": [],
   "source": [
    "# Cross-check concentration calculations using catalyst mol%\n",
    "mol_electrophile = reaction.inputs[\"Electrophile\"].components[0].amount.moles.value\n",
    "cat_mols_check = mol_electrophile*row[\"Reagent 3 Conc in mol%\"]\n",
    "assert np.isclose(catalyst.amount.moles.value, cat_mols_check)"
   ]
  },
  {
   "cell_type": "markdown",
   "metadata": {},
   "source": [
    ">The quench solution was prepared mixing equal volumes of deoxygenated\n",
    "acetone and water in a 50 mL vial and withdrawing them with a 10 mL glass syringe\n",
    "\n",
    "> As soon as the slug leaves the reactor and is detected at PS2, a quench solution volume equal to the reaction slug volume (prepared slug volume + base injection volume) is injected into the reaction slug"
   ]
  },
  {
   "cell_type": "code",
   "execution_count": null,
   "metadata": {},
   "outputs": [],
   "source": [
    "# Quench\n",
    "quench = reaction.inputs[\"Quench\"]\n",
    "quench.addition_order=3\n",
    "\n",
    "# Acetone\n",
    "acetone = quench.components.add()\n",
    "acetone.reaction_role = ReactionRole.WORKUP\n",
    "acetone.identifiers.add(\n",
    "    value=\"acetone\",\n",
    "    type=CompoundIdentifier.NAME\n",
    ")\n",
    "acetone.identifiers.add(\n",
    "    value=\"CC(=O)C\",\n",
    "    type=CompoundIdentifier.SMILES\n",
    ")\n",
    "acetone.amount.volume.value = 0.5*reaction_volume\n",
    "acetone.amount.volume.value = Volume.MICROLITER\n",
    "\n",
    "# Water\n",
    "water = quench.components.add()\n",
    "water.reaction_role = ReactionRole.WORKUP\n",
    "water.identifiers.add(\n",
    "    value=\"water\",\n",
    "    type=CompoundIdentifier.NAME\n",
    ")\n",
    "water.identifiers.add(\n",
    "    value=\"O\",\n",
    "    type=CompoundIdentifier.SMILES\n",
    ")\n",
    "water.amount.volume.value = 0.5*reaction_volume\n",
    "water.amount.volume.value = Volume.MICROLITER\n",
    "\n",
    "# Workup specification\n",
    "workup = reaction.workups.add()\n",
    "workup.amount.volume.value = reaction_volume\n",
    "workup.amount.volume.units = Volume.MICROLITER\n",
    "workup.type = ReactionWorkup.ADDITION\n",
    "details = (\n",
    "    \"As soon as the slug leaves the reactor and is detected at PS2,\"\n",
    "    \"a quench solution volume equal to the reaction slug volume\"\n",
    "    \"(prepared slug volume + base injection volume) is injected into the reaction slug\"\n",
    ")\n",
    "workup.details = details\n",
    "workup.input.CopyFrom(quench)"
   ]
  },
  {
   "cell_type": "code",
   "execution_count": null,
   "metadata": {},
   "outputs": [],
   "source": [
    "# Reaction Outcome\n",
    "outcome = reaction.outcomes.add()\n",
    "\n",
    "# Time \n",
    "outcome.reaction_time.value = row[\"Residence Time Actual (s)\"]\n",
    "outcome.reaction_time.units = Time.SECOND\n",
    "\n",
    "# TODO: conversion calculation\n",
    "\n",
    "# Product\n",
    "product = outcome.products.add()\n",
    "product.identifiers.add(\n",
    "    value=\"2'-fluoro-2,3'-bipyridine\",\n",
    "    type=CompoundIdentifier.NAME\n",
    ")\n",
    "product.identifiers.add(\n",
    "    value=\"FC1=C(C2=NC=CC=C2)C=CC=N1\",\n",
    "    type=CompoundIdentifier.SMILES\n",
    ")\n",
    "product.is_desired_product = True\n",
    "product.reaction_role = ReactionRole.PRODUCT\n",
    "measurement = product.measurements.add()\n",
    "measurement.type = ProductMeasurement.YIELD\n",
    "measurement.percentage.value = row[\"Reaction Yield\"]\n",
    "measurement.retention_time.value = row[\"2-Fluoro-3,3'-bipyridine Retention time in min\"]\n",
    "measurement.retention_time.units = Time.MINUTE\n",
    "\n",
    "8\n",
    "\n",
    "# Standard\n",
    "measurement.uses_internal_standard = True\n",
    "measurement.uses_authentic_standard = True\n",
    "standard = measurement.authentic_standard\n",
    "standard.identifiers.add(\n",
    "    value=\"2'-fluoro-2,3'-bipyridine\",\n",
    "    type=CompoundIdentifier.NAME\n",
    ")\n",
    "standard.identifiers.add(\n",
    "    value=\"FC1=C(C2=NC=CC=C2)C=CC=N1\",\n",
    "    type=CompoundIdentifier.SMILES\n",
    ")\n",
    "standard.reaction_role = ReactionRole.AUTHENTIC_STANDARD\n",
    "standard_prep = standard.preparations.add()\n",
    "standard_prep.type = CompoundPreparation.SYNTHESIZED"
   ]
  },
  {
   "cell_type": "code",
   "execution_count": null,
   "metadata": {},
   "outputs": [],
   "source": [
    "# TODO: make this another reaction record\n",
    "details = (\n",
    "    \"The product 2-fluoro-3,3’-bipyridine 11 was synthesized in batch following the procedure of Reizman et al. \"\n",
    "    \"A magnetic stir bar, SPhos Pd G2 (72 mg, 0.10 mmol, 0.05 equiv.), THF (8 mL) and water (2 mL) was added \"\n",
    "    \"to a dry and nitrogen-filled 20-mL septum vial under nitrogen atmosphere. Using syringes, 3-chloropyridine 9 \"\n",
    "    \"(190 µL, 2.0 mmol, 1.0 equiv.) and DBU (598 µL, 4.0 mmol, 2.0 equiv.) were added sequentially. The reaction\"\n",
    "    \"mixture was then heated to 65 ◦C, followed by addition of the THF (1 mL) solution of 2-fluoropyridine-3-\"\n",
    "    \"boronic acid pincol ester 10 (669 mg, 3.0 mmol, 1.5 equiv.). The reaction mixture was allowed to stir overnight.\"\n",
    "    \" The next day, the reaction was diluted with ethyl acetate, washed with brine and dried over Na2SO4\"\n",
    "    \" , filtered and concentrated under reduced pressure. The resulting residue was then purifed by flash column chromatography\"\n",
    "    \"(ethyl acetate/heptane = 1:1) to afford the desired product 11 (330 mg, 95% yield) as a white solid. The purity\"\n",
    "    \"was confirmed with LC/MS (m/z = 174.06, Fig. 6) and NMR (Fig. 7 and Fig. 8). 1H NMR (400 MHz, CDCl3)\"\n",
    "    \"δ 8.86-8.84 (m, 1H), 8.70 (dt, J = 4.8, 1.2 Hz, 1H), 8.32-8.30 (m, 1H), 7.99-7.94 (m, 1H), 7.93-7.91 (m, 1H),\"\n",
    "    \"7.50-7.46 (m, 1H), 7.37 (ddt, J = 7.3, 4.9, 1.3 Hz, 1H).\"\n",
    ")\n",
    "standard_prep.details = details"
   ]
  },
  {
   "cell_type": "code",
   "execution_count": 21,
   "metadata": {},
   "outputs": [],
   "source": [
    "provenance = reaction.provenance\n",
    "provenance.doi = \"10.1039/c8re00032h\"\n",
    "provenance.publication_url = \"http://doi.org/10.1039/c8re00032h\"\n",
    "creator = provenance.record_created.person\n",
    "creator.username = \"maracosfelt\"\n",
    "creator.name = \"Kobi Felton\"\n",
    "creator.orcid = \"0000-0002-3616-4766\"\n",
    "creator.organization = \"University of Cambridge\"\n",
    "creator.email = \"kobi.c.f@gmail.com\""
   ]
  }
 ],
 "metadata": {
  "kernelspec": {
   "display_name": "Multitask",
   "language": "python",
   "name": "multitask"
  },
  "language_info": {
   "codemirror_mode": {
    "name": "ipython",
    "version": 3
   },
   "file_extension": ".py",
   "mimetype": "text/x-python",
   "name": "python",
   "nbconvert_exporter": "python",
   "pygments_lexer": "ipython3",
   "version": "3.7.3"
  }
 },
 "nbformat": 4,
 "nbformat_minor": 4
}
