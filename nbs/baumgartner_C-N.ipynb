{
 "cells": [
  {
   "cell_type": "markdown",
   "id": "e5141662",
   "metadata": {
    "toc": true
   },
   "source": [
    "<h1>Table of Contents<span class=\"tocSkip\"></span></h1>\n",
    "<div class=\"toc\"><ul class=\"toc-item\"><li><span><a href=\"#Imports\" data-toc-modified-id=\"Imports-1\"><span class=\"toc-item-num\">1&nbsp;&nbsp;</span>Imports</a></span></li><li><span><a href=\"#View-Baumgartner_C-N.pb-file\" data-toc-modified-id=\"View-Baumgartner_C-N.pb-file-2\"><span class=\"toc-item-num\">2&nbsp;&nbsp;</span>View Baumgartner_C-N.pb file</a></span></li><li><span><a href=\"#Train-ML-model-on-Baumgartner_C-N\" data-toc-modified-id=\"Train-ML-model-on-Baumgartner_C-N-3\"><span class=\"toc-item-num\">3&nbsp;&nbsp;</span>Train ML model on Baumgartner_C-N</a></span><ul class=\"toc-item\"><li><span><a href=\"#Create-datasets\" data-toc-modified-id=\"Create-datasets-3.1\"><span class=\"toc-item-num\">3.1&nbsp;&nbsp;</span>Create datasets</a></span></li><li><span><a href=\"#Set-up-model-using-Tensorflow\" data-toc-modified-id=\"Set-up-model-using-Tensorflow-3.2\"><span class=\"toc-item-num\">3.2&nbsp;&nbsp;</span>Set up model using Tensorflow</a></span></li></ul></li><li><span><a href=\"#Train-Benchmarks\" data-toc-modified-id=\"Train-Benchmarks-4\"><span class=\"toc-item-num\">4&nbsp;&nbsp;</span>Train Benchmarks</a></span><ul class=\"toc-item\"><li><span><a href=\"#Baumgartner_C-N\" data-toc-modified-id=\"Baumgartner_C-N-4.1\"><span class=\"toc-item-num\">4.1&nbsp;&nbsp;</span>Baumgartner_C-N</a></span><ul class=\"toc-item\"><li><span><a href=\"#Set-up-domain\" data-toc-modified-id=\"Set-up-domain-4.1.1\"><span class=\"toc-item-num\">4.1.1&nbsp;&nbsp;</span>Set up domain</a></span></li><li><span><a href=\"#Create-Dataset\" data-toc-modified-id=\"Create-Dataset-4.1.2\"><span class=\"toc-item-num\">4.1.2&nbsp;&nbsp;</span>Create Dataset</a></span></li><li><span><a href=\"#Save-and-load-the-benchmark\" data-toc-modified-id=\"Save-and-load-the-benchmark-4.1.3\"><span class=\"toc-item-num\">4.1.3&nbsp;&nbsp;</span>Save and load the benchmark</a></span></li></ul></li><li><span><a href=\"#Ahneman\" data-toc-modified-id=\"Ahneman-4.2\"><span class=\"toc-item-num\">4.2&nbsp;&nbsp;</span>Ahneman</a></span><ul class=\"toc-item\"><li><span><a href=\"#Set-up-domain\" data-toc-modified-id=\"Set-up-domain-4.2.1\"><span class=\"toc-item-num\">4.2.1&nbsp;&nbsp;</span>Set up domain</a></span></li><li><span><a href=\"#Create-Dataset\" data-toc-modified-id=\"Create-Dataset-4.2.2\"><span class=\"toc-item-num\">4.2.2&nbsp;&nbsp;</span>Create Dataset</a></span></li><li><span><a href=\"#Define-pretraining-Dataset\" data-toc-modified-id=\"Define-pretraining-Dataset-4.2.3\"><span class=\"toc-item-num\">4.2.3&nbsp;&nbsp;</span>Define pretraining Dataset</a></span></li></ul></li><li><span><a href=\"#Buitrago-Santinilla\" data-toc-modified-id=\"Buitrago-Santinilla-4.3\"><span class=\"toc-item-num\">4.3&nbsp;&nbsp;</span>Buitrago-Santinilla</a></span><ul class=\"toc-item\"><li><span><a href=\"#Define-pretraining-Dataset\" data-toc-modified-id=\"Define-pretraining-Dataset-4.3.1\"><span class=\"toc-item-num\">4.3.1&nbsp;&nbsp;</span>Define pretraining Dataset</a></span></li></ul></li></ul></li><li><span><a href=\"#Optimisation\" data-toc-modified-id=\"Optimisation-5\"><span class=\"toc-item-num\">5&nbsp;&nbsp;</span>Optimisation</a></span><ul class=\"toc-item\"><li><span><a href=\"#Learning-how-the-Random-strategy-works\" data-toc-modified-id=\"Learning-how-the-Random-strategy-works-5.1\"><span class=\"toc-item-num\">5.1&nbsp;&nbsp;</span>Learning how the Random strategy works</a></span></li><li><span><a href=\"#Run-strategies\" data-toc-modified-id=\"Run-strategies-5.2\"><span class=\"toc-item-num\">5.2&nbsp;&nbsp;</span>Run strategies</a></span></li><li><span><a href=\"#Plot-results\" data-toc-modified-id=\"Plot-results-5.3\"><span class=\"toc-item-num\">5.3&nbsp;&nbsp;</span>Plot results</a></span></li></ul></li></ul></div>"
   ]
  },
  {
   "cell_type": "markdown",
   "id": "f61fd97c",
   "metadata": {},
   "source": [
    "# Imports"
   ]
  },
  {
   "cell_type": "code",
   "execution_count": 20,
   "id": "bc2a597e",
   "metadata": {
    "ExecuteTime": {
     "end_time": "2021-08-26T12:21:10.354807Z",
     "start_time": "2021-08-26T12:21:10.342894Z"
    }
   },
   "outputs": [],
   "source": [
    "# Import modules\n",
    "import ord_schema\n",
    "from ord_schema import message_helpers, validations\n",
    "from ord_schema.proto import dataset_pb2\n",
    "\n",
    "import math\n",
    "import pandas as pd\n",
    "import numpy as np\n",
    "import tensorflow as tf\n",
    "import matplotlib.pyplot as plt\n",
    "import os\n",
    "#import wget\n",
    "\n",
    "from rdkit import Chem\n",
    "from rdkit.Chem import AllChem\n",
    "from sklearn import model_selection, metrics\n",
    "from glob import glob\n",
    "from IPython.display import clear_output\n",
    "\n",
    "#summit\n",
    "import summit\n",
    "from summit.benchmarks import ExperimentalEmulator\n",
    "from summit.domain import *\n",
    "from summit.utils.dataset import DataSet\n",
    "from summit import Runner\n",
    "from summit.strategies import Random, SOBO, MultitoSingleObjective, STBO, MTBO\n",
    "from summit.benchmarks import SnarBenchmark\n",
    "import pkg_resources\n",
    "import pathlib\n"
   ]
  },
  {
   "cell_type": "markdown",
   "id": "8bb11a15",
   "metadata": {},
   "source": [
    "# View Baumgartner_C-N.pb file"
   ]
  },
  {
   "cell_type": "code",
   "execution_count": null,
   "id": "1ab52b5b",
   "metadata": {
    "ExecuteTime": {
     "end_time": "2021-08-24T15:54:32.116948Z",
     "start_time": "2021-08-24T15:54:29.949559Z"
    }
   },
   "outputs": [],
   "source": [
    "pb = '../data/baumgartner_C-N/baumgartner_C-N.pb'\n",
    "\n",
    "# Load Dataset message\n",
    "data = message_helpers.load_message(pb, dataset_pb2.Dataset)\n",
    "\n",
    "# Ensure dataset validates\n",
    "valid_output = validations.validate_message(data)\n",
    "\n",
    "# Convert dataset to pandas dataframe\n",
    "df = message_helpers.messages_to_dataframe(data.reactions, \n",
    "                                           drop_constant_columns=True)\n",
    "\n",
    "# View dataframe\n",
    "df"
   ]
  },
  {
   "cell_type": "code",
   "execution_count": null,
   "id": "592b3e63",
   "metadata": {
    "ExecuteTime": {
     "end_time": "2021-08-24T15:54:33.633100Z",
     "start_time": "2021-08-24T15:54:33.621035Z"
    }
   },
   "outputs": [],
   "source": [
    "# Check for NaN values\n",
    "print(f'number of NaN values: {df.isnull().sum().sum()}')\n",
    "\n",
    "# Show column counts\n",
    "df.info()"
   ]
  },
  {
   "cell_type": "code",
   "execution_count": null,
   "id": "06dbadf7",
   "metadata": {
    "ExecuteTime": {
     "end_time": "2021-08-24T15:54:35.217439Z",
     "start_time": "2021-08-24T15:54:35.205613Z"
    }
   },
   "outputs": [],
   "source": [
    "# Create new dataframe containing only columns to be used in modeling\n",
    "model_cols = ['inputs[\"Catalyst\"].components[0].identifiers[0].value',\n",
    "              'inputs[\"Base\"].components[0].identifiers[0].value',\n",
    "              'inputs[\"Solvent\"].components[0].identifiers[0].value',\n",
    "              'inputs[\"Nucleophile\"].components[0].identifiers[0].value',\n",
    "              'outcomes[0].reaction_time.value',\n",
    "              'conditions.temperature.setpoint.value',\n",
    "              'outcomes[0].products[0].measurements[0].percentage.value',\n",
    "             ]\n",
    "df = df[model_cols]\n",
    "df"
   ]
  },
  {
   "cell_type": "markdown",
   "id": "8e1aa8f5",
   "metadata": {
    "ExecuteTime": {
     "end_time": "2021-08-17T14:58:53.822872Z",
     "start_time": "2021-08-17T14:58:53.819744Z"
    }
   },
   "source": [
    "# Train ML model on Baumgartner_C-N"
   ]
  },
  {
   "cell_type": "markdown",
   "id": "6f30d6a4",
   "metadata": {},
   "source": [
    "Following example 'Granda_Perera_ml_example' from ORD example"
   ]
  },
  {
   "cell_type": "code",
   "execution_count": null,
   "id": "a5a6f09e",
   "metadata": {
    "ExecuteTime": {
     "end_time": "2021-08-24T14:03:20.779274Z",
     "start_time": "2021-08-24T14:03:20.761660Z"
    }
   },
   "outputs": [],
   "source": [
    "# Show dataset statistics for numerical fields\n",
    "df.describe()"
   ]
  },
  {
   "cell_type": "code",
   "execution_count": null,
   "id": "419ec940",
   "metadata": {
    "ExecuteTime": {
     "end_time": "2021-08-24T14:03:44.169819Z",
     "start_time": "2021-08-24T14:03:44.138442Z"
    }
   },
   "outputs": [],
   "source": [
    "# Convert reaction input labels to one-hot encoding\n",
    "input_cols = model_cols[:-1]\n",
    "\n",
    "# Assign names for each input\n",
    "prefix = ['catalyst',\n",
    "          'base',\n",
    "          'solvent',\n",
    "          'nucleophile'\n",
    "]\n",
    "\n",
    "# Create one-hot encoded input dataset\n",
    "ohe_df = pd.get_dummies(df[input_cols], prefix=prefix)\n",
    "\n",
    "# Add yield column to ohe dataset\n",
    "ohe_df['yield'] = df[model_cols[-1]]/100\n",
    "\n",
    "# View dataset\n",
    "ohe_df"
   ]
  },
  {
   "cell_type": "markdown",
   "id": "379e9271",
   "metadata": {
    "ExecuteTime": {
     "end_time": "2021-08-18T11:53:06.501206Z",
     "start_time": "2021-08-18T11:53:06.498182Z"
    }
   },
   "source": [
    "## Create datasets"
   ]
  },
  {
   "cell_type": "code",
   "execution_count": null,
   "id": "93691be4",
   "metadata": {
    "ExecuteTime": {
     "end_time": "2021-08-24T14:04:49.965513Z",
     "start_time": "2021-08-24T14:04:49.958847Z"
    }
   },
   "outputs": [],
   "source": [
    "# Create numpy arrays for inputs and outputs \n",
    "X = ohe_df.drop(columns=['yield']).values\n",
    "y = ohe_df['yield'].values\n",
    "\n",
    "# Verify array shapes\n",
    "print(X.shape, y.shape)"
   ]
  },
  {
   "cell_type": "code",
   "execution_count": null,
   "id": "511e98d0",
   "metadata": {
    "ExecuteTime": {
     "end_time": "2021-08-24T14:04:53.324743Z",
     "start_time": "2021-08-24T14:04:53.317115Z"
    }
   },
   "outputs": [],
   "source": [
    "# Set training, validation, and test sets with random_state for reproducibility\n",
    "_X_train, X_test, _y_train, y_test = model_selection.train_test_split(\n",
    "    X, y, test_size=0.3, random_state=0)\n",
    "X_train, X_valid, y_train, y_valid = model_selection.train_test_split(\n",
    "    _X_train, _y_train, test_size=(0.1/0.7), shuffle=False)\n",
    "\n",
    "# Check lengths\n",
    "print(X_train.shape, y_train.shape)\n",
    "print(X_valid.shape, y_valid.shape)\n",
    "print(X_test.shape, y_test.shape)\n",
    "print(len(ohe_df) == X_train.shape[0] + X_valid.shape[0] + X_test.shape[0])"
   ]
  },
  {
   "cell_type": "code",
   "execution_count": null,
   "id": "83aee473",
   "metadata": {
    "ExecuteTime": {
     "end_time": "2021-08-24T14:04:57.322576Z",
     "start_time": "2021-08-24T14:04:57.278092Z"
    }
   },
   "outputs": [],
   "source": [
    "# Create training, validation, and test sets as tf Datasets and batch\n",
    "batch_size = 100\n",
    "train_dataset = tf.data.Dataset.from_tensor_slices(\n",
    "    (X_train, y_train)).batch(batch_size)\n",
    "valid_dataset = tf.data.Dataset.from_tensor_slices(\n",
    "    (X_valid, y_valid)).batch(batch_size)\n",
    "test_dataset = tf.data.Dataset.from_tensor_slices(\n",
    "    (X_test, y_test)).batch(batch_size)\n",
    "\n",
    "# Check length (in batches)\n",
    "print(train_dataset.cardinality().numpy())\n",
    "print(valid_dataset.cardinality().numpy())\n",
    "print(test_dataset.cardinality().numpy())"
   ]
  },
  {
   "cell_type": "markdown",
   "id": "f3e55f3d",
   "metadata": {
    "ExecuteTime": {
     "end_time": "2021-08-18T12:13:04.129662Z",
     "start_time": "2021-08-18T12:13:04.124610Z"
    }
   },
   "source": [
    "## Set up model using Tensorflow\n",
    "Using hyperparameters from Granda et al. Nature 2018, 559, 377, DOI: 10.1038/s41586-018-0307-8."
   ]
  },
  {
   "cell_type": "code",
   "execution_count": null,
   "id": "fdbd0851",
   "metadata": {
    "ExecuteTime": {
     "end_time": "2021-08-24T14:05:44.299775Z",
     "start_time": "2021-08-24T14:05:02.509787Z"
    }
   },
   "outputs": [],
   "source": [
    "# Set model parameters\n",
    "epochs = 300\n",
    "\n",
    "# Construct model\n",
    "model = tf.keras.Sequential([\n",
    "    tf.keras.layers.InputLayer(input_shape=X_train.shape[1]),\n",
    "    tf.keras.layers.Dense(50, activation='sigmoid'),\n",
    "    tf.keras.layers.Dense(7, activation='sigmoid'),\n",
    "    tf.keras.layers.Dropout(0.2),\n",
    "    tf.keras.layers.Dense(1),\n",
    "])\n",
    "\n",
    "# Compile model\n",
    "model.compile(optimizer=tf.keras.optimizers.Adam(0.005),\n",
    "              loss=tf.keras.losses.MeanSquaredError(),\n",
    "              metrics=[tf.keras.metrics.RootMeanSquaredError()])\n",
    "\n",
    "# Setup callback to load weights from best epoch later on\n",
    "# Saving model weights from epoch with lowest validation loss\n",
    "checkpoint_filepath = os.path.join(os.getcwd(), 'saved_model')\n",
    "model_checkpoint_callback = tf.keras.callbacks.ModelCheckpoint(\n",
    "    filepath=checkpoint_filepath,\n",
    "    monitor='val_loss',\n",
    "    mode='min',\n",
    "    save_best_only=True)\n",
    "\n",
    "# Train model\n",
    "history = model.fit(train_dataset,\n",
    "                    epochs=epochs,\n",
    "                    callbacks=[model_checkpoint_callback],\n",
    "                    validation_data=valid_dataset)"
   ]
  },
  {
   "cell_type": "code",
   "execution_count": null,
   "id": "8dd7ed74",
   "metadata": {
    "ExecuteTime": {
     "end_time": "2021-08-24T14:05:44.454841Z",
     "start_time": "2021-08-24T14:05:44.451094Z"
    }
   },
   "outputs": [],
   "source": [
    "# Show best epoch\n",
    "best_epoch = np.argmin(np.array(history.history['val_loss']))\n",
    "best_epoch"
   ]
  },
  {
   "cell_type": "code",
   "execution_count": null,
   "id": "d89160fe",
   "metadata": {
    "ExecuteTime": {
     "end_time": "2021-08-24T14:05:44.932183Z",
     "start_time": "2021-08-24T14:05:44.598676Z"
    }
   },
   "outputs": [],
   "source": [
    "# Load model weights from best epoch\n",
    "model.load_weights(os.path.join(checkpoint_filepath, 'variables/variables'))\n",
    "\n",
    "# Generate predictions for test set and measure test RMSE and R2\n",
    "preds = model.predict(test_dataset)\n",
    "evals = model.evaluate(x=test_dataset, return_dict=True)\n",
    "r2 = metrics.r2_score(y_test, preds)\n",
    "rmse = evals['root_mean_squared_error']\n",
    "print(f'Test RMSE: {evals}')\n",
    "print(f'Test R2: {r2}')\n",
    "\n",
    "# Plot model performance\n",
    "fig, (ax1, ax2) = plt.subplots(1, 2, figsize=(18,6))\n",
    "fig.suptitle('Baumgartner C-N HTE MLP Model Performance')\n",
    "\n",
    "# Plot loss through training\n",
    "ax1.plot(history.history['loss'], 'b', label='training loss')\n",
    "ax1.plot(history.history['val_loss'], 'g', label='validation loss')\n",
    "ax1.legend()\n",
    "ax1.set_ylabel('loss (MSE)')\n",
    "ax1.set_xlabel('epoch')\n",
    "ax1.set_title('loss curves')\n",
    "\n",
    "# Plot predictions vs ground truth\n",
    "ax2.plot(y_test, preds, 'bo')\n",
    "ax2.plot([0, 1], 'r')\n",
    "ax2.set_ylabel('predicted yield')\n",
    "ax2.set_xlabel('ground truth yield')\n",
    "ax2.set_title('predictions vs ground truth')\n",
    "ax2.text(0.6, 0, f'test_RMSE: {round(rmse, 3)}')\n",
    "ax2.text(0.6, -0.05, f'test_R2: {round(r2, 3)}')\n",
    "\n",
    "# View performance plots\n",
    "plt.show()"
   ]
  },
  {
   "cell_type": "code",
   "execution_count": null,
   "id": "72dcd439",
   "metadata": {
    "ExecuteTime": {
     "end_time": "2021-08-24T14:05:45.364078Z",
     "start_time": "2021-08-24T14:05:45.115901Z"
    }
   },
   "outputs": [],
   "source": [
    "# Show ground truth and predicted yield distributions\n",
    "fig, (ax1, ax2) = plt.subplots(1, 2, figsize=(12,6))\n",
    "fig.suptitle('Ground Truth and Predicted Yield Distributions')\n",
    "\n",
    "# Plot ground truth histogram\n",
    "ax1.hist(ohe_df['yield'], bins=20, rwidth=0.93, color='navy')\n",
    "ax1.set_title('ground truth')\n",
    "ax1.set_xlabel('yield')\n",
    "ax1.set_ylabel('frequency (count)')\n",
    "\n",
    "# Plot predicted histogram\n",
    "ax2.hist(preds, bins=20, rwidth=0.93, color='navy')\n",
    "ax2.set_title('predictions')\n",
    "ax2.set_xlabel('yield')\n",
    "ax2.set_ylabel('frequency (count)')\n",
    "\n",
    "# View distributions\n",
    "plt.show()"
   ]
  },
  {
   "cell_type": "markdown",
   "id": "b4f19ff5",
   "metadata": {},
   "source": [
    "# Train Benchmarks\n",
    "https://gosummit.readthedocs.io/en/latest/tutorials/new_benchmarks.html"
   ]
  },
  {
   "cell_type": "markdown",
   "id": "0b454fbc",
   "metadata": {
    "ExecuteTime": {
     "end_time": "2021-08-24T14:07:08.715391Z",
     "start_time": "2021-08-24T14:07:08.712810Z"
    }
   },
   "source": [
    "## Baumgartner_C-N"
   ]
  },
  {
   "cell_type": "markdown",
   "id": "10c4a18b",
   "metadata": {},
   "source": [
    "### Set up domain"
   ]
  },
  {
   "cell_type": "markdown",
   "id": "ca930e5d",
   "metadata": {},
   "source": [
    "We are going to manipulate:\n",
    "- Ligand (precatalyst is always the same)\n",
    "- Nucleophile\n",
    "- Base\n",
    "- Solvent\n",
    "- Temperature\n",
    "- Reaction time\n",
    "\n",
    "Objective: Maximise yield"
   ]
  },
  {
   "cell_type": "code",
   "execution_count": 30,
   "id": "aa58cf1f",
   "metadata": {
    "ExecuteTime": {
     "end_time": "2021-08-26T12:29:04.798178Z",
     "start_time": "2021-08-26T12:29:04.790835Z"
    }
   },
   "outputs": [],
   "source": [
    "domain = Domain()\n",
    "\n",
    "# Decision variables\n",
    "# The precatalyst is always the same: https://www.strem.com/catalog/v/46-0308/51/palladium_225931-80-6\n",
    "# The additive is always the same: 4-Chlorotoluene\n",
    "# The ligand changes\n",
    "\n",
    "des_1 = \"Catalyst\"\n",
    "domain += CategoricalVariable(\n",
    "    name='inputs[\"Catalyst\"].components[0].identifiers[0].value',\n",
    "    description=des_1,\n",
    "    levels=[\n",
    "        'cycloPd tBuXPhos 4-Chlorotoluene', \n",
    "         'cycloPd EPhos 4-Chlorotoluene', \n",
    "         'cycloPd AlPhos 4-Chlorotoluene', \n",
    "         'cycloPd tBuBrettPhos 4-Chlorotoluene',\n",
    "    ],\n",
    ")\n",
    "\n",
    "# Decision variables\n",
    "des_2 = \"Nucleophile\"\n",
    "domain += CategoricalVariable(\n",
    "    name='inputs[\"Nucleophile\"].components[0].identifiers[0].value',\n",
    "    description=des_2,\n",
    "    levels=[\n",
    "        \"Aniline\",\n",
    "        \"Benzamide\",\n",
    "        \"Phenethylamine\",\n",
    "        \"Morpholine\",\n",
    "    ],\n",
    ")\n",
    "\n",
    "# Decision variables\n",
    "des_3 = \"Base\"\n",
    "domain += CategoricalVariable(\n",
    "    name='inputs[\"Base\"].components[0].identifiers[0].value',\n",
    "    description=des_3,\n",
    "    levels=[\n",
    "        \"TEA\",\n",
    "        \"Triethylamine\",\n",
    "        \"TMG\",\n",
    "        \"BTMG\",\n",
    "        \"DBU\",\n",
    "        \"MTBD\",\n",
    "        \"BTTP\",\n",
    "        \"P2Et\",\n",
    "    ],\n",
    ")\n",
    "\n",
    "# Decision variables\n",
    "des_4 = \"Solvent\"\n",
    "domain += CategoricalVariable(\n",
    "    name='inputs[\"Solvent\"].components[0].identifiers[0].value',\n",
    "    description=des_4,\n",
    "    levels=[\n",
    "        \"2-MeTHF\",\n",
    "        \"DMSO\",\n",
    "    ],\n",
    ")\n",
    "\n",
    "des_5 = \"Residence time in seconds (s)\"\n",
    "domain += ContinuousVariable(name=\"outcomes[0].reaction_time.value\", description=des_5, bounds=[60, 6000])\n",
    "\n",
    "des_6 = \"Reactor temperature in degrees Celsius (ºC)\"\n",
    "domain += ContinuousVariable(\n",
    "    name=\"conditions.temperature.setpoint.value\", description=des_6, bounds=[30, 110]\n",
    ")\n",
    "\n",
    "\n",
    "# Objectives\n",
    "des_7 = \"Yield\"\n",
    "domain += ContinuousVariable(\n",
    "    name=\"outcomes[0].products[0].measurements[0].percentage.value\",\n",
    "    description=des_5,\n",
    "    bounds=[0, 105],\n",
    "    is_objective=True,\n",
    "    maximize=True,\n",
    ")"
   ]
  },
  {
   "cell_type": "code",
   "execution_count": 31,
   "id": "e80eae63",
   "metadata": {
    "ExecuteTime": {
     "end_time": "2021-08-26T12:29:06.664068Z",
     "start_time": "2021-08-26T12:29:06.659229Z"
    }
   },
   "outputs": [
    {
     "data": {
      "text/html": [
       "<table id='domain' width=100%><tr><td><b>Name</b></td><td><b>Type</b></td><td><b>Description</b></td><td><b>Values</b></td></tr><tr><td>inputs[\"Catalyst\"].components[0].identifiers[0].value</td><td>categorical, input</td><td>Catalyst</td><td>4 levels</td></tr><tr><td>inputs[\"Nucleophile\"].components[0].identifiers[0].value</td><td>categorical, input</td><td>Nucleophile</td><td>4 levels</td></tr><tr><td>inputs[\"Base\"].components[0].identifiers[0].value</td><td>categorical, input</td><td>Base</td><td>8 levels</td></tr><tr><td>inputs[\"Solvent\"].components[0].identifiers[0].value</td><td>categorical, input</td><td>Solvent</td><td>2 levels</td></tr><tr><td>outcomes[0].reaction_time.value</td><td>continuous, input</td><td>Residence time in seconds (s)</td><td>[60,6000]</td></tr><tr><td>conditions.temperature.setpoint.value</td><td>continuous, input</td><td>Reactor temperature in degrees Celsius (ºC)</td><td>[30,110]</td></tr><tr><td>outcomes[0].products[0].measurements[0].percentage.value</td><td>continuous, maximize objective</td><td>Residence time in seconds (s)</td><td>[0,105]</td></tr></table>"
      ],
      "text/plain": [
       "<summit.domain.Domain at 0x166c6a8e0>"
      ]
     },
     "execution_count": 31,
     "metadata": {},
     "output_type": "execute_result"
    }
   ],
   "source": [
    "domain"
   ]
  },
  {
   "cell_type": "markdown",
   "id": "b95d552e",
   "metadata": {
    "ExecuteTime": {
     "end_time": "2021-08-19T15:17:54.262757Z",
     "start_time": "2021-08-19T15:17:54.260326Z"
    }
   },
   "source": [
    "### Create Dataset"
   ]
  },
  {
   "cell_type": "code",
   "execution_count": null,
   "id": "f3ce18d2",
   "metadata": {
    "ExecuteTime": {
     "end_time": "2021-08-24T15:54:42.562060Z",
     "start_time": "2021-08-24T15:54:42.556342Z"
    }
   },
   "outputs": [],
   "source": [
    "# shuffle df\n",
    "df_shuffle = df.sample(frac=1)\n",
    "baumgartner_cn_ds = DataSet.from_df(df_shuffle)"
   ]
  },
  {
   "cell_type": "code",
   "execution_count": null,
   "id": "630eca69",
   "metadata": {
    "ExecuteTime": {
     "end_time": "2021-08-24T15:55:58.111585Z",
     "start_time": "2021-08-24T15:54:44.142241Z"
    }
   },
   "outputs": [],
   "source": [
    "# train benchmark\n",
    "baumgartner_cn = ExperimentalEmulator(model_name='baumgartner_cn', domain=domain, dataset=baumgartner_cn_ds)\n",
    "baumgartner_cn.train(max_epochs=1000, cv_fold=2, test_size=0.1, verbose=1)\n",
    "\n",
    "#Parity plot\n",
    "fig, ax = baumgartner_cn.parity_plot(include_test=True)"
   ]
  },
  {
   "cell_type": "code",
   "execution_count": null,
   "id": "1a775b8a",
   "metadata": {
    "ExecuteTime": {
     "end_time": "2021-08-24T15:55:59.774416Z",
     "start_time": "2021-08-24T15:55:59.729385Z"
    }
   },
   "outputs": [],
   "source": [
    "#Test out a set of conditions on the benchmark\n",
    "conditions = [[\"cycloPd EPhos 4-Chlorotoluene\",'Aniline', 'BTMG', '2-MeTHF', 1324, 65.0]]\n",
    "conditions = DataSet(conditions, columns=[v.name for v in domain.input_variables])\n",
    "baumgartner_cn.run_experiments(conditions)"
   ]
  },
  {
   "cell_type": "markdown",
   "id": "5d2f8cff",
   "metadata": {
    "ExecuteTime": {
     "end_time": "2021-08-19T17:30:38.355002Z",
     "start_time": "2021-08-19T17:30:38.352264Z"
    }
   },
   "source": [
    "### Save and load the benchmark"
   ]
  },
  {
   "cell_type": "code",
   "execution_count": null,
   "id": "f59646d1",
   "metadata": {
    "ExecuteTime": {
     "end_time": "2021-08-24T15:56:01.428842Z",
     "start_time": "2021-08-24T15:56:01.420779Z"
    }
   },
   "outputs": [],
   "source": [
    "# Save it\n",
    "baumgartner_cn.save(save_dir=\"/Users/dsw46/OneDrive - University of Cambridge/Cambridge\\\n",
    "/Projects/multitask/multitask/data/baumgartner_C-N/baumgartner_C-N_emulator\")"
   ]
  },
  {
   "cell_type": "code",
   "execution_count": 22,
   "id": "7e11198d",
   "metadata": {
    "ExecuteTime": {
     "end_time": "2021-08-26T12:21:55.840057Z",
     "start_time": "2021-08-26T12:21:55.538321Z"
    }
   },
   "outputs": [],
   "source": [
    "# Load it\n",
    "baumgartner_cn = ExperimentalEmulator.load(model_name=\"baumgartner_cn\", save_dir=\"../data/baumgartner_C-N/baumgartner_C-N_emulator\")"
   ]
  },
  {
   "cell_type": "markdown",
   "id": "7832bc34",
   "metadata": {
    "ExecuteTime": {
     "end_time": "2021-08-24T14:08:10.298029Z",
     "start_time": "2021-08-24T14:08:10.295145Z"
    }
   },
   "source": [
    "## Ahneman"
   ]
  },
  {
   "cell_type": "code",
   "execution_count": 3,
   "id": "0b184d0c",
   "metadata": {
    "ExecuteTime": {
     "end_time": "2021-08-24T16:42:26.597301Z",
     "start_time": "2021-08-24T16:41:53.616282Z"
    }
   },
   "outputs": [
    {
     "data": {
      "text/html": [
       "<div>\n",
       "<style scoped>\n",
       "    .dataframe tbody tr th:only-of-type {\n",
       "        vertical-align: middle;\n",
       "    }\n",
       "\n",
       "    .dataframe tbody tr th {\n",
       "        vertical-align: top;\n",
       "    }\n",
       "\n",
       "    .dataframe thead th {\n",
       "        text-align: right;\n",
       "    }\n",
       "</style>\n",
       "<table border=\"1\" class=\"dataframe\">\n",
       "  <thead>\n",
       "    <tr style=\"text-align: right;\">\n",
       "      <th></th>\n",
       "      <th>inputs[\"catalyst\"].components[0].identifiers[0].value</th>\n",
       "      <th>inputs[\"catalyst\"].components[0].identifiers[1].value</th>\n",
       "      <th>inputs[\"additive\"].components[0].identifiers[0].type</th>\n",
       "      <th>inputs[\"additive\"].components[0].identifiers[0].value</th>\n",
       "      <th>inputs[\"additive\"].components[0].identifiers[1].type</th>\n",
       "      <th>inputs[\"additive\"].components[0].identifiers[1].value</th>\n",
       "      <th>inputs[\"additive\"].components[0].amount.volume.value</th>\n",
       "      <th>inputs[\"additive\"].components[0].amount.volume.units</th>\n",
       "      <th>inputs[\"additive\"].components[0].amount.volume_includes_solutes</th>\n",
       "      <th>inputs[\"additive\"].components[0].reaction_role</th>\n",
       "      <th>...</th>\n",
       "      <th>inputs[\"additive\"].components[1].identifiers[0].type</th>\n",
       "      <th>inputs[\"additive\"].components[1].identifiers[0].value</th>\n",
       "      <th>inputs[\"additive\"].components[1].identifiers[1].type</th>\n",
       "      <th>inputs[\"additive\"].components[1].identifiers[1].value</th>\n",
       "      <th>inputs[\"additive\"].components[1].amount.volume.value</th>\n",
       "      <th>inputs[\"additive\"].components[1].amount.volume.units</th>\n",
       "      <th>inputs[\"additive\"].components[1].amount.volume_includes_solutes</th>\n",
       "      <th>inputs[\"additive\"].components[1].reaction_role</th>\n",
       "      <th>inputs[\"additive\"].components[1].preparations[0].type</th>\n",
       "      <th>inputs[\"additive\"].components[1].source.vendor</th>\n",
       "    </tr>\n",
       "  </thead>\n",
       "  <tbody>\n",
       "    <tr>\n",
       "      <th>0</th>\n",
       "      <td>XPhos</td>\n",
       "      <td>CC(C)c1cc(C(C)C)c(-c2ccccc2P(C2CCCCC2)(C2CCCCC...</td>\n",
       "      <td>NAME</td>\n",
       "      <td>DMSO</td>\n",
       "      <td>SMILES</td>\n",
       "      <td>CS(=O)C</td>\n",
       "      <td>0.2</td>\n",
       "      <td>MICROLITER</td>\n",
       "      <td>True</td>\n",
       "      <td>SOLVENT</td>\n",
       "      <td>...</td>\n",
       "      <td>NaN</td>\n",
       "      <td>NaN</td>\n",
       "      <td>NaN</td>\n",
       "      <td>NaN</td>\n",
       "      <td>NaN</td>\n",
       "      <td>NaN</td>\n",
       "      <td>NaN</td>\n",
       "      <td>NaN</td>\n",
       "      <td>NaN</td>\n",
       "      <td>NaN</td>\n",
       "    </tr>\n",
       "    <tr>\n",
       "      <th>1</th>\n",
       "      <td>XPhos</td>\n",
       "      <td>CC(C)c1cc(C(C)C)c(-c2ccccc2P(C2CCCCC2)(C2CCCCC...</td>\n",
       "      <td>NAME</td>\n",
       "      <td>DMSO</td>\n",
       "      <td>SMILES</td>\n",
       "      <td>CS(=O)C</td>\n",
       "      <td>0.2</td>\n",
       "      <td>MICROLITER</td>\n",
       "      <td>True</td>\n",
       "      <td>SOLVENT</td>\n",
       "      <td>...</td>\n",
       "      <td>NaN</td>\n",
       "      <td>NaN</td>\n",
       "      <td>NaN</td>\n",
       "      <td>NaN</td>\n",
       "      <td>NaN</td>\n",
       "      <td>NaN</td>\n",
       "      <td>NaN</td>\n",
       "      <td>NaN</td>\n",
       "      <td>NaN</td>\n",
       "      <td>NaN</td>\n",
       "    </tr>\n",
       "    <tr>\n",
       "      <th>2</th>\n",
       "      <td>XPhos</td>\n",
       "      <td>CC(C)c1cc(C(C)C)c(-c2ccccc2P(C2CCCCC2)(C2CCCCC...</td>\n",
       "      <td>NAME</td>\n",
       "      <td>DMSO</td>\n",
       "      <td>SMILES</td>\n",
       "      <td>CS(=O)C</td>\n",
       "      <td>0.2</td>\n",
       "      <td>MICROLITER</td>\n",
       "      <td>True</td>\n",
       "      <td>SOLVENT</td>\n",
       "      <td>...</td>\n",
       "      <td>NaN</td>\n",
       "      <td>NaN</td>\n",
       "      <td>NaN</td>\n",
       "      <td>NaN</td>\n",
       "      <td>NaN</td>\n",
       "      <td>NaN</td>\n",
       "      <td>NaN</td>\n",
       "      <td>NaN</td>\n",
       "      <td>NaN</td>\n",
       "      <td>NaN</td>\n",
       "    </tr>\n",
       "    <tr>\n",
       "      <th>3</th>\n",
       "      <td>XPhos</td>\n",
       "      <td>CC(C)c1cc(C(C)C)c(-c2ccccc2P(C2CCCCC2)(C2CCCCC...</td>\n",
       "      <td>NAME</td>\n",
       "      <td>DMSO</td>\n",
       "      <td>SMILES</td>\n",
       "      <td>CS(=O)C</td>\n",
       "      <td>0.2</td>\n",
       "      <td>MICROLITER</td>\n",
       "      <td>True</td>\n",
       "      <td>SOLVENT</td>\n",
       "      <td>...</td>\n",
       "      <td>NaN</td>\n",
       "      <td>NaN</td>\n",
       "      <td>NaN</td>\n",
       "      <td>NaN</td>\n",
       "      <td>NaN</td>\n",
       "      <td>NaN</td>\n",
       "      <td>NaN</td>\n",
       "      <td>NaN</td>\n",
       "      <td>NaN</td>\n",
       "      <td>NaN</td>\n",
       "    </tr>\n",
       "    <tr>\n",
       "      <th>4</th>\n",
       "      <td>XPhos</td>\n",
       "      <td>CC(C)c1cc(C(C)C)c(-c2ccccc2P(C2CCCCC2)(C2CCCCC...</td>\n",
       "      <td>NAME</td>\n",
       "      <td>DMSO</td>\n",
       "      <td>SMILES</td>\n",
       "      <td>CS(=O)C</td>\n",
       "      <td>0.2</td>\n",
       "      <td>MICROLITER</td>\n",
       "      <td>True</td>\n",
       "      <td>SOLVENT</td>\n",
       "      <td>...</td>\n",
       "      <td>NaN</td>\n",
       "      <td>NaN</td>\n",
       "      <td>NaN</td>\n",
       "      <td>NaN</td>\n",
       "      <td>NaN</td>\n",
       "      <td>NaN</td>\n",
       "      <td>NaN</td>\n",
       "      <td>NaN</td>\n",
       "      <td>NaN</td>\n",
       "      <td>NaN</td>\n",
       "    </tr>\n",
       "    <tr>\n",
       "      <th>...</th>\n",
       "      <td>...</td>\n",
       "      <td>...</td>\n",
       "      <td>...</td>\n",
       "      <td>...</td>\n",
       "      <td>...</td>\n",
       "      <td>...</td>\n",
       "      <td>...</td>\n",
       "      <td>...</td>\n",
       "      <td>...</td>\n",
       "      <td>...</td>\n",
       "      <td>...</td>\n",
       "      <td>...</td>\n",
       "      <td>...</td>\n",
       "      <td>...</td>\n",
       "      <td>...</td>\n",
       "      <td>...</td>\n",
       "      <td>...</td>\n",
       "      <td>...</td>\n",
       "      <td>...</td>\n",
       "      <td>...</td>\n",
       "      <td>...</td>\n",
       "    </tr>\n",
       "    <tr>\n",
       "      <th>4307</th>\n",
       "      <td>AdBrettPhos</td>\n",
       "      <td>COc1ccc(OC)c(P(C23CC4CC(CC(C4)C2)C3)(C23CC4CC(...</td>\n",
       "      <td>SMILES</td>\n",
       "      <td>COC(=O)c1cc(-c2cccs2)on1</td>\n",
       "      <td>NaN</td>\n",
       "      <td>NaN</td>\n",
       "      <td>NaN</td>\n",
       "      <td>NaN</td>\n",
       "      <td>NaN</td>\n",
       "      <td>REAGENT</td>\n",
       "      <td>...</td>\n",
       "      <td>NAME</td>\n",
       "      <td>DMSO</td>\n",
       "      <td>SMILES</td>\n",
       "      <td>CS(=O)C</td>\n",
       "      <td>0.2</td>\n",
       "      <td>MICROLITER</td>\n",
       "      <td>True</td>\n",
       "      <td>SOLVENT</td>\n",
       "      <td>NONE</td>\n",
       "      <td>Aldrich</td>\n",
       "    </tr>\n",
       "    <tr>\n",
       "      <th>4308</th>\n",
       "      <td>AdBrettPhos</td>\n",
       "      <td>COc1ccc(OC)c(P(C23CC4CC(CC(C4)C2)C3)(C23CC4CC(...</td>\n",
       "      <td>SMILES</td>\n",
       "      <td>COC(=O)c1cc(-c2cccs2)on1</td>\n",
       "      <td>NaN</td>\n",
       "      <td>NaN</td>\n",
       "      <td>NaN</td>\n",
       "      <td>NaN</td>\n",
       "      <td>NaN</td>\n",
       "      <td>REAGENT</td>\n",
       "      <td>...</td>\n",
       "      <td>NAME</td>\n",
       "      <td>DMSO</td>\n",
       "      <td>SMILES</td>\n",
       "      <td>CS(=O)C</td>\n",
       "      <td>0.2</td>\n",
       "      <td>MICROLITER</td>\n",
       "      <td>True</td>\n",
       "      <td>SOLVENT</td>\n",
       "      <td>NONE</td>\n",
       "      <td>Aldrich</td>\n",
       "    </tr>\n",
       "    <tr>\n",
       "      <th>4309</th>\n",
       "      <td>AdBrettPhos</td>\n",
       "      <td>COc1ccc(OC)c(P(C23CC4CC(CC(C4)C2)C3)(C23CC4CC(...</td>\n",
       "      <td>SMILES</td>\n",
       "      <td>COC(=O)c1cc(-c2cccs2)on1</td>\n",
       "      <td>NaN</td>\n",
       "      <td>NaN</td>\n",
       "      <td>NaN</td>\n",
       "      <td>NaN</td>\n",
       "      <td>NaN</td>\n",
       "      <td>REAGENT</td>\n",
       "      <td>...</td>\n",
       "      <td>NAME</td>\n",
       "      <td>DMSO</td>\n",
       "      <td>SMILES</td>\n",
       "      <td>CS(=O)C</td>\n",
       "      <td>0.2</td>\n",
       "      <td>MICROLITER</td>\n",
       "      <td>True</td>\n",
       "      <td>SOLVENT</td>\n",
       "      <td>NONE</td>\n",
       "      <td>Aldrich</td>\n",
       "    </tr>\n",
       "    <tr>\n",
       "      <th>4310</th>\n",
       "      <td>AdBrettPhos</td>\n",
       "      <td>COc1ccc(OC)c(P(C23CC4CC(CC(C4)C2)C3)(C23CC4CC(...</td>\n",
       "      <td>SMILES</td>\n",
       "      <td>COC(=O)c1cc(-c2cccs2)on1</td>\n",
       "      <td>NaN</td>\n",
       "      <td>NaN</td>\n",
       "      <td>NaN</td>\n",
       "      <td>NaN</td>\n",
       "      <td>NaN</td>\n",
       "      <td>REAGENT</td>\n",
       "      <td>...</td>\n",
       "      <td>NAME</td>\n",
       "      <td>DMSO</td>\n",
       "      <td>SMILES</td>\n",
       "      <td>CS(=O)C</td>\n",
       "      <td>0.2</td>\n",
       "      <td>MICROLITER</td>\n",
       "      <td>True</td>\n",
       "      <td>SOLVENT</td>\n",
       "      <td>NONE</td>\n",
       "      <td>Aldrich</td>\n",
       "    </tr>\n",
       "    <tr>\n",
       "      <th>4311</th>\n",
       "      <td>AdBrettPhos</td>\n",
       "      <td>COc1ccc(OC)c(P(C23CC4CC(CC(C4)C2)C3)(C23CC4CC(...</td>\n",
       "      <td>SMILES</td>\n",
       "      <td>COC(=O)c1cc(-c2cccs2)on1</td>\n",
       "      <td>NaN</td>\n",
       "      <td>NaN</td>\n",
       "      <td>NaN</td>\n",
       "      <td>NaN</td>\n",
       "      <td>NaN</td>\n",
       "      <td>REAGENT</td>\n",
       "      <td>...</td>\n",
       "      <td>NAME</td>\n",
       "      <td>DMSO</td>\n",
       "      <td>SMILES</td>\n",
       "      <td>CS(=O)C</td>\n",
       "      <td>0.2</td>\n",
       "      <td>MICROLITER</td>\n",
       "      <td>True</td>\n",
       "      <td>SOLVENT</td>\n",
       "      <td>NONE</td>\n",
       "      <td>Aldrich</td>\n",
       "    </tr>\n",
       "  </tbody>\n",
       "</table>\n",
       "<p>4312 rows × 32 columns</p>\n",
       "</div>"
      ],
      "text/plain": [
       "     inputs[\"catalyst\"].components[0].identifiers[0].value  \\\n",
       "0                                                 XPhos      \n",
       "1                                                 XPhos      \n",
       "2                                                 XPhos      \n",
       "3                                                 XPhos      \n",
       "4                                                 XPhos      \n",
       "...                                                 ...      \n",
       "4307                                        AdBrettPhos      \n",
       "4308                                        AdBrettPhos      \n",
       "4309                                        AdBrettPhos      \n",
       "4310                                        AdBrettPhos      \n",
       "4311                                        AdBrettPhos      \n",
       "\n",
       "     inputs[\"catalyst\"].components[0].identifiers[1].value  \\\n",
       "0     CC(C)c1cc(C(C)C)c(-c2ccccc2P(C2CCCCC2)(C2CCCCC...      \n",
       "1     CC(C)c1cc(C(C)C)c(-c2ccccc2P(C2CCCCC2)(C2CCCCC...      \n",
       "2     CC(C)c1cc(C(C)C)c(-c2ccccc2P(C2CCCCC2)(C2CCCCC...      \n",
       "3     CC(C)c1cc(C(C)C)c(-c2ccccc2P(C2CCCCC2)(C2CCCCC...      \n",
       "4     CC(C)c1cc(C(C)C)c(-c2ccccc2P(C2CCCCC2)(C2CCCCC...      \n",
       "...                                                 ...      \n",
       "4307  COc1ccc(OC)c(P(C23CC4CC(CC(C4)C2)C3)(C23CC4CC(...      \n",
       "4308  COc1ccc(OC)c(P(C23CC4CC(CC(C4)C2)C3)(C23CC4CC(...      \n",
       "4309  COc1ccc(OC)c(P(C23CC4CC(CC(C4)C2)C3)(C23CC4CC(...      \n",
       "4310  COc1ccc(OC)c(P(C23CC4CC(CC(C4)C2)C3)(C23CC4CC(...      \n",
       "4311  COc1ccc(OC)c(P(C23CC4CC(CC(C4)C2)C3)(C23CC4CC(...      \n",
       "\n",
       "     inputs[\"additive\"].components[0].identifiers[0].type  \\\n",
       "0                                                  NAME     \n",
       "1                                                  NAME     \n",
       "2                                                  NAME     \n",
       "3                                                  NAME     \n",
       "4                                                  NAME     \n",
       "...                                                 ...     \n",
       "4307                                             SMILES     \n",
       "4308                                             SMILES     \n",
       "4309                                             SMILES     \n",
       "4310                                             SMILES     \n",
       "4311                                             SMILES     \n",
       "\n",
       "     inputs[\"additive\"].components[0].identifiers[0].value  \\\n",
       "0                                                  DMSO      \n",
       "1                                                  DMSO      \n",
       "2                                                  DMSO      \n",
       "3                                                  DMSO      \n",
       "4                                                  DMSO      \n",
       "...                                                 ...      \n",
       "4307                           COC(=O)c1cc(-c2cccs2)on1      \n",
       "4308                           COC(=O)c1cc(-c2cccs2)on1      \n",
       "4309                           COC(=O)c1cc(-c2cccs2)on1      \n",
       "4310                           COC(=O)c1cc(-c2cccs2)on1      \n",
       "4311                           COC(=O)c1cc(-c2cccs2)on1      \n",
       "\n",
       "     inputs[\"additive\"].components[0].identifiers[1].type  \\\n",
       "0                                                SMILES     \n",
       "1                                                SMILES     \n",
       "2                                                SMILES     \n",
       "3                                                SMILES     \n",
       "4                                                SMILES     \n",
       "...                                                 ...     \n",
       "4307                                                NaN     \n",
       "4308                                                NaN     \n",
       "4309                                                NaN     \n",
       "4310                                                NaN     \n",
       "4311                                                NaN     \n",
       "\n",
       "     inputs[\"additive\"].components[0].identifiers[1].value  \\\n",
       "0                                               CS(=O)C      \n",
       "1                                               CS(=O)C      \n",
       "2                                               CS(=O)C      \n",
       "3                                               CS(=O)C      \n",
       "4                                               CS(=O)C      \n",
       "...                                                 ...      \n",
       "4307                                                NaN      \n",
       "4308                                                NaN      \n",
       "4309                                                NaN      \n",
       "4310                                                NaN      \n",
       "4311                                                NaN      \n",
       "\n",
       "      inputs[\"additive\"].components[0].amount.volume.value  \\\n",
       "0                                                   0.2      \n",
       "1                                                   0.2      \n",
       "2                                                   0.2      \n",
       "3                                                   0.2      \n",
       "4                                                   0.2      \n",
       "...                                                 ...      \n",
       "4307                                                NaN      \n",
       "4308                                                NaN      \n",
       "4309                                                NaN      \n",
       "4310                                                NaN      \n",
       "4311                                                NaN      \n",
       "\n",
       "     inputs[\"additive\"].components[0].amount.volume.units  \\\n",
       "0                                            MICROLITER     \n",
       "1                                            MICROLITER     \n",
       "2                                            MICROLITER     \n",
       "3                                            MICROLITER     \n",
       "4                                            MICROLITER     \n",
       "...                                                 ...     \n",
       "4307                                                NaN     \n",
       "4308                                                NaN     \n",
       "4309                                                NaN     \n",
       "4310                                                NaN     \n",
       "4311                                                NaN     \n",
       "\n",
       "     inputs[\"additive\"].components[0].amount.volume_includes_solutes  \\\n",
       "0                                                  True                \n",
       "1                                                  True                \n",
       "2                                                  True                \n",
       "3                                                  True                \n",
       "4                                                  True                \n",
       "...                                                 ...                \n",
       "4307                                                NaN                \n",
       "4308                                                NaN                \n",
       "4309                                                NaN                \n",
       "4310                                                NaN                \n",
       "4311                                                NaN                \n",
       "\n",
       "     inputs[\"additive\"].components[0].reaction_role  ...  \\\n",
       "0                                           SOLVENT  ...   \n",
       "1                                           SOLVENT  ...   \n",
       "2                                           SOLVENT  ...   \n",
       "3                                           SOLVENT  ...   \n",
       "4                                           SOLVENT  ...   \n",
       "...                                             ...  ...   \n",
       "4307                                        REAGENT  ...   \n",
       "4308                                        REAGENT  ...   \n",
       "4309                                        REAGENT  ...   \n",
       "4310                                        REAGENT  ...   \n",
       "4311                                        REAGENT  ...   \n",
       "\n",
       "     inputs[\"additive\"].components[1].identifiers[0].type  \\\n",
       "0                                                   NaN     \n",
       "1                                                   NaN     \n",
       "2                                                   NaN     \n",
       "3                                                   NaN     \n",
       "4                                                   NaN     \n",
       "...                                                 ...     \n",
       "4307                                               NAME     \n",
       "4308                                               NAME     \n",
       "4309                                               NAME     \n",
       "4310                                               NAME     \n",
       "4311                                               NAME     \n",
       "\n",
       "     inputs[\"additive\"].components[1].identifiers[0].value  \\\n",
       "0                                                   NaN      \n",
       "1                                                   NaN      \n",
       "2                                                   NaN      \n",
       "3                                                   NaN      \n",
       "4                                                   NaN      \n",
       "...                                                 ...      \n",
       "4307                                               DMSO      \n",
       "4308                                               DMSO      \n",
       "4309                                               DMSO      \n",
       "4310                                               DMSO      \n",
       "4311                                               DMSO      \n",
       "\n",
       "     inputs[\"additive\"].components[1].identifiers[1].type  \\\n",
       "0                                                   NaN     \n",
       "1                                                   NaN     \n",
       "2                                                   NaN     \n",
       "3                                                   NaN     \n",
       "4                                                   NaN     \n",
       "...                                                 ...     \n",
       "4307                                             SMILES     \n",
       "4308                                             SMILES     \n",
       "4309                                             SMILES     \n",
       "4310                                             SMILES     \n",
       "4311                                             SMILES     \n",
       "\n",
       "     inputs[\"additive\"].components[1].identifiers[1].value  \\\n",
       "0                                                   NaN      \n",
       "1                                                   NaN      \n",
       "2                                                   NaN      \n",
       "3                                                   NaN      \n",
       "4                                                   NaN      \n",
       "...                                                 ...      \n",
       "4307                                            CS(=O)C      \n",
       "4308                                            CS(=O)C      \n",
       "4309                                            CS(=O)C      \n",
       "4310                                            CS(=O)C      \n",
       "4311                                            CS(=O)C      \n",
       "\n",
       "     inputs[\"additive\"].components[1].amount.volume.value  \\\n",
       "0                                                   NaN     \n",
       "1                                                   NaN     \n",
       "2                                                   NaN     \n",
       "3                                                   NaN     \n",
       "4                                                   NaN     \n",
       "...                                                 ...     \n",
       "4307                                                0.2     \n",
       "4308                                                0.2     \n",
       "4309                                                0.2     \n",
       "4310                                                0.2     \n",
       "4311                                                0.2     \n",
       "\n",
       "      inputs[\"additive\"].components[1].amount.volume.units  \\\n",
       "0                                                   NaN      \n",
       "1                                                   NaN      \n",
       "2                                                   NaN      \n",
       "3                                                   NaN      \n",
       "4                                                   NaN      \n",
       "...                                                 ...      \n",
       "4307                                         MICROLITER      \n",
       "4308                                         MICROLITER      \n",
       "4309                                         MICROLITER      \n",
       "4310                                         MICROLITER      \n",
       "4311                                         MICROLITER      \n",
       "\n",
       "     inputs[\"additive\"].components[1].amount.volume_includes_solutes  \\\n",
       "0                                                   NaN                \n",
       "1                                                   NaN                \n",
       "2                                                   NaN                \n",
       "3                                                   NaN                \n",
       "4                                                   NaN                \n",
       "...                                                 ...                \n",
       "4307                                               True                \n",
       "4308                                               True                \n",
       "4309                                               True                \n",
       "4310                                               True                \n",
       "4311                                               True                \n",
       "\n",
       "     inputs[\"additive\"].components[1].reaction_role  \\\n",
       "0                                               NaN   \n",
       "1                                               NaN   \n",
       "2                                               NaN   \n",
       "3                                               NaN   \n",
       "4                                               NaN   \n",
       "...                                             ...   \n",
       "4307                                        SOLVENT   \n",
       "4308                                        SOLVENT   \n",
       "4309                                        SOLVENT   \n",
       "4310                                        SOLVENT   \n",
       "4311                                        SOLVENT   \n",
       "\n",
       "     inputs[\"additive\"].components[1].preparations[0].type  \\\n",
       "0                                                   NaN      \n",
       "1                                                   NaN      \n",
       "2                                                   NaN      \n",
       "3                                                   NaN      \n",
       "4                                                   NaN      \n",
       "...                                                 ...      \n",
       "4307                                               NONE      \n",
       "4308                                               NONE      \n",
       "4309                                               NONE      \n",
       "4310                                               NONE      \n",
       "4311                                               NONE      \n",
       "\n",
       "     inputs[\"additive\"].components[1].source.vendor  \n",
       "0                                               NaN  \n",
       "1                                               NaN  \n",
       "2                                               NaN  \n",
       "3                                               NaN  \n",
       "4                                               NaN  \n",
       "...                                             ...  \n",
       "4307                                        Aldrich  \n",
       "4308                                        Aldrich  \n",
       "4309                                        Aldrich  \n",
       "4310                                        Aldrich  \n",
       "4311                                        Aldrich  \n",
       "\n",
       "[4312 rows x 32 columns]"
      ]
     },
     "execution_count": 3,
     "metadata": {},
     "output_type": "execute_result"
    }
   ],
   "source": [
    "pb = '../data/Ahneman/ord/ahneman.pb'\n",
    "\n",
    "# Load Dataset message\n",
    "data = message_helpers.load_message(pb, dataset_pb2.Dataset)\n",
    "\n",
    "# Ensure dataset validates\n",
    "valid_output = validations.validate_message(data)\n",
    "\n",
    "# Convert dataset to pandas dataframe\n",
    "ahneman_df = message_helpers.messages_to_dataframe(data.reactions, \n",
    "                                           drop_constant_columns=True)\n",
    "\n",
    "# View dataframe\n",
    "ahneman_df"
   ]
  },
  {
   "cell_type": "code",
   "execution_count": 6,
   "id": "bd2cb0e5",
   "metadata": {
    "ExecuteTime": {
     "end_time": "2021-08-24T16:43:55.212793Z",
     "start_time": "2021-08-24T16:43:55.175257Z"
    }
   },
   "outputs": [
    {
     "name": "stdout",
     "output_type": "stream",
     "text": [
      "number of NaN values: 26952\n",
      "<class 'pandas.core.frame.DataFrame'>\n",
      "RangeIndex: 4312 entries, 0 to 4311\n",
      "Data columns (total 32 columns):\n",
      " #   Column                                                           Non-Null Count  Dtype  \n",
      "---  ------                                                           --------------  -----  \n",
      " 0   inputs[\"catalyst\"].components[0].identifiers[0].value            4312 non-null   object \n",
      " 1   inputs[\"catalyst\"].components[0].identifiers[1].value            4312 non-null   object \n",
      " 2   inputs[\"additive\"].components[0].identifiers[0].type             4312 non-null   object \n",
      " 3   inputs[\"additive\"].components[0].identifiers[0].value            4312 non-null   object \n",
      " 4   inputs[\"additive\"].components[0].identifiers[1].type             180 non-null    object \n",
      " 5   inputs[\"additive\"].components[0].identifiers[1].value            180 non-null    object \n",
      " 6   inputs[\"additive\"].components[0].amount.volume.value             180 non-null    float64\n",
      " 7   inputs[\"additive\"].components[0].amount.volume.units             180 non-null    object \n",
      " 8   inputs[\"additive\"].components[0].amount.volume_includes_solutes  180 non-null    object \n",
      " 9   inputs[\"additive\"].components[0].reaction_role                   4312 non-null   object \n",
      " 10  inputs[\"additive\"].components[0].source.vendor                   180 non-null    object \n",
      " 11  inputs[\"base\"].components[0].identifiers[0].value                4312 non-null   object \n",
      " 12  inputs[\"base\"].components[0].identifiers[1].value                4312 non-null   object \n",
      " 13  inputs[\"aryl halide\"].components[0].identifiers[0].value         4312 non-null   object \n",
      " 14  outcomes[0].products[0].identifiers[0].value                     4312 non-null   object \n",
      " 15  outcomes[0].products[0].measurements[0].percentage.value         4312 non-null   float64\n",
      " 16  provenance.record_modified[0].time.value                         4312 non-null   object \n",
      " 17  provenance.record_modified[1].time.value                         4312 non-null   object \n",
      " 18  provenance.record_modified[2].time.value                         4312 non-null   object \n",
      " 19  reaction_id                                                      4312 non-null   object \n",
      " 20  inputs[\"additive\"].components[0].amount.moles.value              4132 non-null   float64\n",
      " 21  inputs[\"additive\"].components[0].amount.moles.units              4132 non-null   object \n",
      " 22  inputs[\"additive\"].components[1].identifiers[0].type             4132 non-null   object \n",
      " 23  inputs[\"additive\"].components[1].identifiers[0].value            4132 non-null   object \n",
      " 24  inputs[\"additive\"].components[1].identifiers[1].type             4132 non-null   object \n",
      " 25  inputs[\"additive\"].components[1].identifiers[1].value            4132 non-null   object \n",
      " 26  inputs[\"additive\"].components[1].amount.volume.value             4132 non-null   float64\n",
      " 27  inputs[\"additive\"].components[1].amount.volume.units             4132 non-null   object \n",
      " 28  inputs[\"additive\"].components[1].amount.volume_includes_solutes  4132 non-null   object \n",
      " 29  inputs[\"additive\"].components[1].reaction_role                   4132 non-null   object \n",
      " 30  inputs[\"additive\"].components[1].preparations[0].type            4132 non-null   object \n",
      " 31  inputs[\"additive\"].components[1].source.vendor                   4132 non-null   object \n",
      "dtypes: float64(4), object(28)\n",
      "memory usage: 1.1+ MB\n"
     ]
    }
   ],
   "source": [
    "# Check for NaN values\n",
    "print(f'number of NaN values: {ahneman_df.isnull().sum().sum()}')\n",
    "\n",
    "# Show column counts\n",
    "ahneman_df.info()"
   ]
  },
  {
   "cell_type": "code",
   "execution_count": 7,
   "id": "980c8742",
   "metadata": {
    "ExecuteTime": {
     "end_time": "2021-08-24T16:44:12.923802Z",
     "start_time": "2021-08-24T16:44:12.910240Z"
    }
   },
   "outputs": [
    {
     "data": {
      "text/html": [
       "<div>\n",
       "<style scoped>\n",
       "    .dataframe tbody tr th:only-of-type {\n",
       "        vertical-align: middle;\n",
       "    }\n",
       "\n",
       "    .dataframe tbody tr th {\n",
       "        vertical-align: top;\n",
       "    }\n",
       "\n",
       "    .dataframe thead th {\n",
       "        text-align: right;\n",
       "    }\n",
       "</style>\n",
       "<table border=\"1\" class=\"dataframe\">\n",
       "  <thead>\n",
       "    <tr style=\"text-align: right;\">\n",
       "      <th></th>\n",
       "      <th>inputs[\"catalyst\"].components[0].identifiers[0].value</th>\n",
       "      <th>inputs[\"base\"].components[0].identifiers[0].value</th>\n",
       "      <th>inputs[\"aryl halide\"].components[0].identifiers[0].value</th>\n",
       "      <th>inputs[\"additive\"].components[0].identifiers[0].value</th>\n",
       "      <th>inputs[\"additive\"].components[1].identifiers[0].value</th>\n",
       "      <th>outcomes[0].products[0].measurements[0].percentage.value</th>\n",
       "    </tr>\n",
       "  </thead>\n",
       "  <tbody>\n",
       "    <tr>\n",
       "      <th>0</th>\n",
       "      <td>XPhos</td>\n",
       "      <td>P2Et</td>\n",
       "      <td>FC(F)(F)c1ccc(Cl)cc1</td>\n",
       "      <td>DMSO</td>\n",
       "      <td>NaN</td>\n",
       "      <td>26.888615</td>\n",
       "    </tr>\n",
       "    <tr>\n",
       "      <th>1</th>\n",
       "      <td>XPhos</td>\n",
       "      <td>P2Et</td>\n",
       "      <td>FC(F)(F)c1ccc(Br)cc1</td>\n",
       "      <td>DMSO</td>\n",
       "      <td>NaN</td>\n",
       "      <td>24.063225</td>\n",
       "    </tr>\n",
       "    <tr>\n",
       "      <th>2</th>\n",
       "      <td>XPhos</td>\n",
       "      <td>P2Et</td>\n",
       "      <td>FC(F)(F)c1ccc(I)cc1</td>\n",
       "      <td>DMSO</td>\n",
       "      <td>NaN</td>\n",
       "      <td>47.515820</td>\n",
       "    </tr>\n",
       "    <tr>\n",
       "      <th>3</th>\n",
       "      <td>XPhos</td>\n",
       "      <td>P2Et</td>\n",
       "      <td>COc1ccc(Cl)cc1</td>\n",
       "      <td>DMSO</td>\n",
       "      <td>NaN</td>\n",
       "      <td>2.126831</td>\n",
       "    </tr>\n",
       "    <tr>\n",
       "      <th>4</th>\n",
       "      <td>XPhos</td>\n",
       "      <td>P2Et</td>\n",
       "      <td>COc1ccc(Br)cc1</td>\n",
       "      <td>DMSO</td>\n",
       "      <td>NaN</td>\n",
       "      <td>47.586353</td>\n",
       "    </tr>\n",
       "    <tr>\n",
       "      <th>...</th>\n",
       "      <td>...</td>\n",
       "      <td>...</td>\n",
       "      <td>...</td>\n",
       "      <td>...</td>\n",
       "      <td>...</td>\n",
       "      <td>...</td>\n",
       "    </tr>\n",
       "    <tr>\n",
       "      <th>4307</th>\n",
       "      <td>AdBrettPhos</td>\n",
       "      <td>MTBD</td>\n",
       "      <td>Brc1ccccn1</td>\n",
       "      <td>COC(=O)c1cc(-c2cccs2)on1</td>\n",
       "      <td>DMSO</td>\n",
       "      <td>57.426670</td>\n",
       "    </tr>\n",
       "    <tr>\n",
       "      <th>4308</th>\n",
       "      <td>AdBrettPhos</td>\n",
       "      <td>MTBD</td>\n",
       "      <td>Ic1ccccn1</td>\n",
       "      <td>COC(=O)c1cc(-c2cccs2)on1</td>\n",
       "      <td>DMSO</td>\n",
       "      <td>86.233154</td>\n",
       "    </tr>\n",
       "    <tr>\n",
       "      <th>4309</th>\n",
       "      <td>AdBrettPhos</td>\n",
       "      <td>MTBD</td>\n",
       "      <td>Clc1cccnc1</td>\n",
       "      <td>COC(=O)c1cc(-c2cccs2)on1</td>\n",
       "      <td>DMSO</td>\n",
       "      <td>1.440081</td>\n",
       "    </tr>\n",
       "    <tr>\n",
       "      <th>4310</th>\n",
       "      <td>AdBrettPhos</td>\n",
       "      <td>MTBD</td>\n",
       "      <td>Brc1cccnc1</td>\n",
       "      <td>COC(=O)c1cc(-c2cccs2)on1</td>\n",
       "      <td>DMSO</td>\n",
       "      <td>43.538364</td>\n",
       "    </tr>\n",
       "    <tr>\n",
       "      <th>4311</th>\n",
       "      <td>AdBrettPhos</td>\n",
       "      <td>MTBD</td>\n",
       "      <td>Ic1cccnc1</td>\n",
       "      <td>COC(=O)c1cc(-c2cccs2)on1</td>\n",
       "      <td>DMSO</td>\n",
       "      <td>69.795906</td>\n",
       "    </tr>\n",
       "  </tbody>\n",
       "</table>\n",
       "<p>4312 rows × 6 columns</p>\n",
       "</div>"
      ],
      "text/plain": [
       "     inputs[\"catalyst\"].components[0].identifiers[0].value  \\\n",
       "0                                                 XPhos      \n",
       "1                                                 XPhos      \n",
       "2                                                 XPhos      \n",
       "3                                                 XPhos      \n",
       "4                                                 XPhos      \n",
       "...                                                 ...      \n",
       "4307                                        AdBrettPhos      \n",
       "4308                                        AdBrettPhos      \n",
       "4309                                        AdBrettPhos      \n",
       "4310                                        AdBrettPhos      \n",
       "4311                                        AdBrettPhos      \n",
       "\n",
       "     inputs[\"base\"].components[0].identifiers[0].value  \\\n",
       "0                                                 P2Et   \n",
       "1                                                 P2Et   \n",
       "2                                                 P2Et   \n",
       "3                                                 P2Et   \n",
       "4                                                 P2Et   \n",
       "...                                                ...   \n",
       "4307                                              MTBD   \n",
       "4308                                              MTBD   \n",
       "4309                                              MTBD   \n",
       "4310                                              MTBD   \n",
       "4311                                              MTBD   \n",
       "\n",
       "     inputs[\"aryl halide\"].components[0].identifiers[0].value  \\\n",
       "0                                  FC(F)(F)c1ccc(Cl)cc1         \n",
       "1                                  FC(F)(F)c1ccc(Br)cc1         \n",
       "2                                   FC(F)(F)c1ccc(I)cc1         \n",
       "3                                        COc1ccc(Cl)cc1         \n",
       "4                                        COc1ccc(Br)cc1         \n",
       "...                                                 ...         \n",
       "4307                                         Brc1ccccn1         \n",
       "4308                                          Ic1ccccn1         \n",
       "4309                                         Clc1cccnc1         \n",
       "4310                                         Brc1cccnc1         \n",
       "4311                                          Ic1cccnc1         \n",
       "\n",
       "     inputs[\"additive\"].components[0].identifiers[0].value  \\\n",
       "0                                                  DMSO      \n",
       "1                                                  DMSO      \n",
       "2                                                  DMSO      \n",
       "3                                                  DMSO      \n",
       "4                                                  DMSO      \n",
       "...                                                 ...      \n",
       "4307                           COC(=O)c1cc(-c2cccs2)on1      \n",
       "4308                           COC(=O)c1cc(-c2cccs2)on1      \n",
       "4309                           COC(=O)c1cc(-c2cccs2)on1      \n",
       "4310                           COC(=O)c1cc(-c2cccs2)on1      \n",
       "4311                           COC(=O)c1cc(-c2cccs2)on1      \n",
       "\n",
       "     inputs[\"additive\"].components[1].identifiers[0].value  \\\n",
       "0                                                   NaN      \n",
       "1                                                   NaN      \n",
       "2                                                   NaN      \n",
       "3                                                   NaN      \n",
       "4                                                   NaN      \n",
       "...                                                 ...      \n",
       "4307                                               DMSO      \n",
       "4308                                               DMSO      \n",
       "4309                                               DMSO      \n",
       "4310                                               DMSO      \n",
       "4311                                               DMSO      \n",
       "\n",
       "      outcomes[0].products[0].measurements[0].percentage.value  \n",
       "0                                             26.888615         \n",
       "1                                             24.063225         \n",
       "2                                             47.515820         \n",
       "3                                              2.126831         \n",
       "4                                             47.586353         \n",
       "...                                                 ...         \n",
       "4307                                          57.426670         \n",
       "4308                                          86.233154         \n",
       "4309                                           1.440081         \n",
       "4310                                          43.538364         \n",
       "4311                                          69.795906         \n",
       "\n",
       "[4312 rows x 6 columns]"
      ]
     },
     "execution_count": 7,
     "metadata": {},
     "output_type": "execute_result"
    }
   ],
   "source": [
    "# Create new dataframe containing only columns to be used in modeling\n",
    "model_cols = ['inputs[\"catalyst\"].components[0].identifiers[0].value',\n",
    "              'inputs[\"base\"].components[0].identifiers[0].value',\n",
    "              'inputs[\"aryl halide\"].components[0].identifiers[0].value',\n",
    "              'inputs[\"additive\"].components[0].identifiers[0].value',\n",
    "              'inputs[\"additive\"].components[1].identifiers[0].value',\n",
    "              'outcomes[0].products[0].measurements[0].percentage.value',\n",
    "             ]\n",
    "ahneman_df = ahneman_df[model_cols]\n",
    "ahneman_df"
   ]
  },
  {
   "cell_type": "code",
   "execution_count": null,
   "id": "451d4662",
   "metadata": {
    "ExecuteTime": {
     "end_time": "2021-08-24T15:33:22.423501Z",
     "start_time": "2021-08-24T15:33:22.402721Z"
    }
   },
   "outputs": [],
   "source": [
    "cat = set(ahneman_df[model_cols[0]])\n",
    "print('Catalysts: ',cat)\n",
    "base = set(ahneman_df[model_cols[1]])\n",
    "print('Bases: ',base)\n",
    "aryl_halides = set(ahneman_df[model_cols[2]])\n",
    "print('Aryl halides: ',aryl_halides)\n",
    "solvent_0 = set(ahneman_df[model_cols[3]])\n",
    "print('Solvent 0: ',solvent_0)\n",
    "solvent_1 = set(ahneman_df[model_cols[4]])\n",
    "print('Solvent 1: ',solvent_1)\n"
   ]
  },
  {
   "cell_type": "code",
   "execution_count": null,
   "id": "fea171be",
   "metadata": {
    "ExecuteTime": {
     "end_time": "2021-08-24T15:44:32.288181Z",
     "start_time": "2021-08-24T15:44:32.279837Z"
    }
   },
   "outputs": [],
   "source": [
    "set(df['inputs[\"additive\"].components[0].amount.moles.value'])"
   ]
  },
  {
   "cell_type": "markdown",
   "id": "d7a72907",
   "metadata": {
    "ExecuteTime": {
     "end_time": "2021-08-24T14:32:34.825236Z",
     "start_time": "2021-08-24T14:32:34.823026Z"
    }
   },
   "source": [
    "### Set up domain"
   ]
  },
  {
   "cell_type": "code",
   "execution_count": null,
   "id": "4c5ac4a1",
   "metadata": {
    "ExecuteTime": {
     "end_time": "2021-08-24T15:35:53.584359Z",
     "start_time": "2021-08-24T15:35:53.574813Z"
    }
   },
   "outputs": [],
   "source": [
    "ahneman_domain = Domain()\n",
    "\n",
    "# Decision variables\n",
    "\n",
    "des_1 = \"Catalyst\"\n",
    "ahneman_domain += CategoricalVariable(\n",
    "    name='inputs[\"Catalyst\"].components[0].identifiers[0].value',\n",
    "    description=des_1,\n",
    "    levels=[\n",
    "    'AdBrettPhos', 'XPhos', \n",
    "    't-BuBrettPhos', 't-BuXPhos',\n",
    "    ],\n",
    ")\n",
    "\n",
    "# Decision variables\n",
    "des_2 = \"Base\"\n",
    "ahneman_domain += CategoricalVariable(\n",
    "    name='inputs[\"Base\"].components[0].identifiers[0].value',\n",
    "    description=des_2,\n",
    "    levels=[\n",
    "    'P2Et', 'BTMG', \n",
    "    'MTBD',\n",
    "    ],\n",
    ")\n",
    "\n",
    "# Decision variables\n",
    "des_3 = \"aryl_halide\"\n",
    "ahneman_domain += CategoricalVariable(\n",
    "    name='inputs[\"Nucleophile\"].components[0].identifiers[0].value',\n",
    "    description=des_3,\n",
    "    levels=[\n",
    "    'FC(F)(F)c1ccc(Cl)cc1', 'FC(F)(F)c1ccc(Br)cc1', 'COc1ccc(Cl)cc1', \n",
    "    'Brc1cccnc1', 'Ic1ccccn1', 'COc1ccc(Br)cc1', 'CCc1ccc(I)cc1', 'Brc1ccccn1', \n",
    "    'Clc1ccccn1', 'Ic1cccnc1', 'Clc1cccnc1', 'COc1ccc(I)cc1', \n",
    "    'FC(F)(F)c1ccc(I)cc1', 'CCc1ccc(Br)cc1', 'CCc1ccc(Cl)cc1',\n",
    "    ],\n",
    ")\n",
    "\n",
    "# Decision variables\n",
    "des_4 = \"Solvent_0\"\n",
    "ahneman_domain += CategoricalVariable(\n",
    "    name='inputs[\"Solvent\"].components[0].identifiers[0].value',\n",
    "    description=des_4,\n",
    "    levels=[\n",
    "    'Cc1ccon1', 'Fc1cccc(F)c1-c1ccno1', 'c1ccc(-c2cnoc2)cc1',\n",
    "    'CCOC(=O)c1cc(C)no1', 'c1ccc(CN(Cc2ccccc2)c2ccon2)cc1', \n",
    "    'Cc1cc(C)on1', 'CCOC(=O)c1ccon1', 'CCOC(=O)c1cnoc1C', \n",
    "    'c1ccc2nocc2c1', 'COC(=O)c1ccno1', 'CCOC(=O)c1cc(OC)no1', \n",
    "    'c1ccc(-c2ccno2)cc1', 'c1ccc(CN(Cc2ccccc2)c2ccno2)cc1',\n",
    "    'c1ccc(-c2ccon2)cc1', 'Cc1cc(-c2ccccc2)on1', \n",
    "    'c1ccc2oncc2c1', 'Cc1ccno1', 'COC(=O)c1cc(-c2cccs2)on1', \n",
    "    'COC(=O)c1cc(-c2ccco2)on1', 'CCOC(=O)c1cc(C)on1', \n",
    "    'Cc1cc(-n2cccc2)no1', 'c1ccc(-c2ncno2)cc1', \n",
    "    'DMSO', 'CCOC(=O)c1cnoc1'\n",
    "    ],\n",
    ")\n",
    "\n",
    "# Decision variables\n",
    "des_5 = \"Solvent_1\"\n",
    "ahneman_domain += CategoricalVariable(\n",
    "    name='inputs[\"Solvent\"].components[0].identifiers[0].value',\n",
    "    description=des_5,\n",
    "    levels=[\n",
    "    'NaN', 'DMSO'\n",
    "    ],\n",
    ")\n",
    "\n",
    "\n",
    "# Objectives\n",
    "des_7 = \"Yield\"\n",
    "ahneman_domain += ContinuousVariable(\n",
    "    name=\"outcomes[0].products[0].measurements[0].percentage.value\",\n",
    "    description=des_5,\n",
    "    bounds=[0, 100],\n",
    "    is_objective=True,\n",
    "    maximize=True,\n",
    ")"
   ]
  },
  {
   "cell_type": "markdown",
   "id": "1089beef",
   "metadata": {
    "ExecuteTime": {
     "end_time": "2021-08-24T14:34:57.848448Z",
     "start_time": "2021-08-24T14:34:57.845529Z"
    }
   },
   "source": [
    "### Create Dataset"
   ]
  },
  {
   "cell_type": "code",
   "execution_count": null,
   "id": "b345e6ca",
   "metadata": {
    "ExecuteTime": {
     "end_time": "2021-08-24T15:38:11.024439Z",
     "start_time": "2021-08-24T15:38:10.991671Z"
    }
   },
   "outputs": [],
   "source": [
    "# shuffle df\n",
    "df_shuffle = ahneman_df.sample(frac=1)\n",
    "ahneman_cn_ds = DataSet.from_df(df_shuffle)"
   ]
  },
  {
   "cell_type": "code",
   "execution_count": null,
   "id": "da5c9558",
   "metadata": {
    "ExecuteTime": {
     "end_time": "2021-08-24T15:38:55.264614Z",
     "start_time": "2021-08-24T15:38:55.241087Z"
    }
   },
   "outputs": [],
   "source": [
    "# train benchmark\n",
    "ahneman_cn = ExperimentalEmulator(model_name='ahneman_cn', domain=ahneman_domain, dataset=ahneman_cn_ds)\n",
    "ahneman_cn.train(max_epochs=1000, cv_fold=2, test_size=0.1, verbose=1)\n",
    "\n",
    "#Parity plot\n",
    "fig, ax = ahneman_cn.parity_plot(include_test=True)"
   ]
  },
  {
   "cell_type": "code",
   "execution_count": null,
   "id": "697ab3b6",
   "metadata": {},
   "outputs": [],
   "source": [
    "#Test out a set of conditions on the benchmark\n",
    "conditions = [[\"cycloPd EPhos 4-Chlorotoluene\",'Aniline', 'BTMG', '2-MeTHF', 1324, 65.0]]\n",
    "conditions = DataSet(conditions, columns=[v.name for v in domain.input_variables])\n",
    "baumgartner_cn.run_experiments(conditions)"
   ]
  },
  {
   "cell_type": "markdown",
   "id": "b6e1942e",
   "metadata": {
    "ExecuteTime": {
     "end_time": "2021-08-24T16:39:31.407065Z",
     "start_time": "2021-08-24T16:39:31.404201Z"
    }
   },
   "source": [
    "### Define pretraining Dataset"
   ]
  },
  {
   "cell_type": "code",
   "execution_count": 10,
   "id": "abd729e4",
   "metadata": {
    "ExecuteTime": {
     "end_time": "2021-08-24T16:47:16.813734Z",
     "start_time": "2021-08-24T16:47:16.804831Z"
    }
   },
   "outputs": [],
   "source": [
    "# shuffle df\n",
    "df_shuffle = ahneman_df.sample(frac=1)\n",
    "ahneman_cn_ds = DataSet.from_df(df_shuffle)"
   ]
  },
  {
   "cell_type": "code",
   "execution_count": null,
   "id": "2300772b",
   "metadata": {},
   "outputs": [],
   "source": []
  },
  {
   "cell_type": "code",
   "execution_count": null,
   "id": "485b194f",
   "metadata": {},
   "outputs": [],
   "source": []
  },
  {
   "cell_type": "code",
   "execution_count": null,
   "id": "b60dea75",
   "metadata": {},
   "outputs": [],
   "source": []
  },
  {
   "cell_type": "code",
   "execution_count": null,
   "id": "c4007c33",
   "metadata": {},
   "outputs": [],
   "source": []
  },
  {
   "cell_type": "code",
   "execution_count": null,
   "id": "0fe4f57c",
   "metadata": {},
   "outputs": [],
   "source": []
  },
  {
   "cell_type": "markdown",
   "id": "3a4dfa58",
   "metadata": {
    "ExecuteTime": {
     "end_time": "2021-08-24T14:08:01.479494Z",
     "start_time": "2021-08-24T14:08:01.476694Z"
    }
   },
   "source": [
    "## Buitrago-Santinilla"
   ]
  },
  {
   "cell_type": "code",
   "execution_count": null,
   "id": "4da68db3",
   "metadata": {
    "ExecuteTime": {
     "end_time": "2021-08-24T16:31:47.678040Z",
     "start_time": "2021-08-24T16:31:32.660415Z"
    }
   },
   "outputs": [],
   "source": [
    "pb = '../data/Buitrago-Santinilla/ord/Buitrago-Santinilla.pb'\n",
    "\n",
    "# Load Dataset message\n",
    "data = message_helpers.load_message(pb, dataset_pb2.Dataset)\n",
    "\n",
    "# Ensure dataset validates\n",
    "valid_output = validations.validate_message(data)\n",
    "\n",
    "# Convert dataset to pandas dataframe\n",
    "df = message_helpers.messages_to_dataframe(data.reactions, \n",
    "                                           drop_constant_columns=True)\n",
    "\n",
    "# View dataframe\n",
    "df"
   ]
  },
  {
   "cell_type": "code",
   "execution_count": null,
   "id": "8748fede",
   "metadata": {
    "ExecuteTime": {
     "end_time": "2021-08-24T16:36:48.363293Z",
     "start_time": "2021-08-24T16:36:48.328768Z"
    }
   },
   "outputs": [],
   "source": [
    "df.describe()"
   ]
  },
  {
   "cell_type": "code",
   "execution_count": null,
   "id": "2deb62bc",
   "metadata": {
    "ExecuteTime": {
     "end_time": "2021-08-24T16:32:30.907196Z",
     "start_time": "2021-08-24T16:32:30.883246Z"
    }
   },
   "outputs": [],
   "source": [
    "# Check for NaN values\n",
    "print(f'number of NaN values: {df.isnull().sum().sum()}')\n",
    "\n",
    "# Show column counts\n",
    "df.info()"
   ]
  },
  {
   "cell_type": "code",
   "execution_count": null,
   "id": "09bd8796",
   "metadata": {
    "ExecuteTime": {
     "end_time": "2021-08-24T16:35:11.933083Z",
     "start_time": "2021-08-24T16:35:11.910971Z"
    }
   },
   "outputs": [],
   "source": [
    "# Create new dataframe containing only columns to be used in modeling\n",
    "model_cols = ['inputs[\"catalyst\"].components[0].identifiers[0].value',\n",
    "              'inputs[\"nucleophile\"].components[0].identifiers[0].value',\n",
    "              'inputs[\"base\"].components[0].identifiers[0].value',\n",
    "              'outcomes[0].products[0].measurements[0].percentage.value',\n",
    "             ]\n",
    "Buitrago_df = df[model_cols]\n",
    "Buitrago_df"
   ]
  },
  {
   "cell_type": "markdown",
   "id": "f179bd2e",
   "metadata": {
    "ExecuteTime": {
     "end_time": "2021-08-24T16:29:39.001138Z",
     "start_time": "2021-08-24T16:29:38.998349Z"
    }
   },
   "source": [
    "### Define pretraining Dataset"
   ]
  },
  {
   "cell_type": "code",
   "execution_count": null,
   "id": "4d2515ec",
   "metadata": {
    "ExecuteTime": {
     "end_time": "2021-08-24T16:31:55.416325Z",
     "start_time": "2021-08-24T16:31:35.018Z"
    }
   },
   "outputs": [],
   "source": [
    "Buitrago_df"
   ]
  },
  {
   "cell_type": "code",
   "execution_count": null,
   "id": "9a117d42",
   "metadata": {},
   "outputs": [],
   "source": [
    "# Get pretraining data\n",
    "exp_pt = MIT_case1(noise_level=1)\n",
    "lhs = LHS(exp_pt.domain)\n",
    "conditions = lhs.suggest_experiments(10)\n",
    "pt_data = exp_pt.run_experiments((conditions))\n",
    "pt_data[(\"task\", \"METADATA\")] = 0\n",
    "# Use MTBO on a new mechanism\n",
    "exp = MIT_case2(noise_level=1)\n",
    "strategy = MTBO(exp.domain,pretraining_data=pt_data, categorical_method=\"one-hot\",task=1)\n",
    "r = Runner(strategy=strategy, experiment=exp, max_iterations=2)\n",
    "r.run(progress_bar=False)"
   ]
  },
  {
   "cell_type": "code",
   "execution_count": null,
   "id": "432fc250",
   "metadata": {},
   "outputs": [],
   "source": []
  },
  {
   "cell_type": "code",
   "execution_count": null,
   "id": "ba32d9c5",
   "metadata": {},
   "outputs": [],
   "source": []
  },
  {
   "cell_type": "code",
   "execution_count": null,
   "id": "7ffc74d5",
   "metadata": {},
   "outputs": [],
   "source": []
  },
  {
   "cell_type": "markdown",
   "id": "f0f2da41",
   "metadata": {
    "ExecuteTime": {
     "end_time": "2021-08-20T14:26:17.426691Z",
     "start_time": "2021-08-20T14:26:17.419957Z"
    }
   },
   "source": [
    "# Optimisation"
   ]
  },
  {
   "cell_type": "markdown",
   "id": "9d9aa632",
   "metadata": {
    "ExecuteTime": {
     "end_time": "2021-08-20T14:26:27.210508Z",
     "start_time": "2021-08-20T14:26:27.207814Z"
    }
   },
   "source": [
    "## Learning how the Random strategy works"
   ]
  },
  {
   "cell_type": "code",
   "execution_count": 23,
   "id": "cb524cc7",
   "metadata": {
    "ExecuteTime": {
     "end_time": "2021-08-26T12:22:02.232401Z",
     "start_time": "2021-08-26T12:22:02.214826Z"
    }
   },
   "outputs": [
    {
     "ename": "NameError",
     "evalue": "name 'CN_benchmark' is not defined",
     "output_type": "error",
     "traceback": [
      "\u001b[0;31m---------------------------------------------------------------------------\u001b[0m",
      "\u001b[0;31mNameError\u001b[0m                                 Traceback (most recent call last)",
      "\u001b[0;32m<ipython-input-23-9f29d7ae9f7a>\u001b[0m in \u001b[0;36m<module>\u001b[0;34m\u001b[0m\n\u001b[1;32m      1\u001b[0m \u001b[0;31m#Set up the experiment\u001b[0m\u001b[0;34m\u001b[0m\u001b[0;34m\u001b[0m\u001b[0;34m\u001b[0m\u001b[0m\n\u001b[0;32m----> 2\u001b[0;31m \u001b[0mexp\u001b[0m \u001b[0;34m=\u001b[0m \u001b[0mCN_benchmark\u001b[0m\u001b[0;34m\u001b[0m\u001b[0;34m\u001b[0m\u001b[0m\n\u001b[0m\u001b[1;32m      3\u001b[0m \u001b[0mexp\u001b[0m\u001b[0;34m.\u001b[0m\u001b[0mreset\u001b[0m\u001b[0;34m(\u001b[0m\u001b[0;34m)\u001b[0m\u001b[0;34m\u001b[0m\u001b[0;34m\u001b[0m\u001b[0m\n\u001b[1;32m      4\u001b[0m \u001b[0;31m# Instantiate random sampling strategy\u001b[0m\u001b[0;34m\u001b[0m\u001b[0;34m\u001b[0m\u001b[0;34m\u001b[0m\u001b[0m\n\u001b[1;32m      5\u001b[0m \u001b[0mstrategy\u001b[0m \u001b[0;34m=\u001b[0m \u001b[0mRandom\u001b[0m\u001b[0;34m(\u001b[0m\u001b[0mexp\u001b[0m\u001b[0;34m.\u001b[0m\u001b[0mdomain\u001b[0m\u001b[0;34m)\u001b[0m\u001b[0;34m\u001b[0m\u001b[0;34m\u001b[0m\u001b[0m\n",
      "\u001b[0;31mNameError\u001b[0m: name 'CN_benchmark' is not defined"
     ]
    }
   ],
   "source": [
    "#Set up the experiment\n",
    "exp = baumgartner_cn\n",
    "exp.reset()\n",
    "# Instantiate random sampling strategy\n",
    "strategy = Random(exp.domain)\n",
    "\n",
    "# Use the runner to run closed loop optimisation\n",
    "r = Runner(strategy=strategy, experiment=exp, max_iterations=50)\n",
    "r.run()\n"
   ]
  },
  {
   "cell_type": "code",
   "execution_count": null,
   "id": "150b8580",
   "metadata": {
    "ExecuteTime": {
     "end_time": "2021-08-24T11:51:22.470111Z",
     "start_time": "2021-08-24T11:51:22.440949Z"
    },
    "scrolled": true
   },
   "outputs": [],
   "source": [
    "r.experiment.data"
   ]
  },
  {
   "cell_type": "code",
   "execution_count": null,
   "id": "741cab50",
   "metadata": {
    "ExecuteTime": {
     "end_time": "2021-08-24T11:52:04.273285Z",
     "start_time": "2021-08-24T11:52:04.148517Z"
    }
   },
   "outputs": [],
   "source": [
    "random_yield = r.experiment.data['outcomes[0].products[0].measurements[0].percentage.value']\n",
    "plt.plot(random_yield)"
   ]
  },
  {
   "cell_type": "code",
   "execution_count": null,
   "id": "ba7e929f",
   "metadata": {
    "ExecuteTime": {
     "end_time": "2021-08-24T11:51:22.803892Z",
     "start_time": "2021-08-24T11:51:22.799529Z"
    }
   },
   "outputs": [],
   "source": [
    "random_yield_max = []\n",
    "for i in range(len(random_yield)):\n",
    "    if i == 0:\n",
    "        j = random_yield[i]\n",
    "    else:\n",
    "        j = max(random_yield[i],random_yield_max[i-1])\n",
    "    random_yield_max+=[j]"
   ]
  },
  {
   "cell_type": "code",
   "execution_count": null,
   "id": "2f6f6183",
   "metadata": {
    "ExecuteTime": {
     "end_time": "2021-08-24T11:51:22.963259Z",
     "start_time": "2021-08-24T11:51:22.859581Z"
    },
    "scrolled": true
   },
   "outputs": [],
   "source": [
    "plt.plot(random_yield_max)"
   ]
  },
  {
   "cell_type": "code",
   "execution_count": null,
   "id": "83f1262b",
   "metadata": {
    "ExecuteTime": {
     "end_time": "2021-08-24T11:36:48.653576Z",
     "start_time": "2021-08-24T11:36:48.647501Z"
    }
   },
   "outputs": [],
   "source": [
    "type(exp.domain['inputs[\"Base\"].components[0].identifiers[0].value'].levels[0])"
   ]
  },
  {
   "cell_type": "code",
   "execution_count": null,
   "id": "ec92ee91",
   "metadata": {
    "ExecuteTime": {
     "end_time": "2021-08-24T11:38:14.141160Z",
     "start_time": "2021-08-24T11:38:14.136849Z"
    }
   },
   "outputs": [],
   "source": [
    "exp.domain.num_continuous_dimensions()"
   ]
  },
  {
   "cell_type": "code",
   "execution_count": null,
   "id": "29456640",
   "metadata": {
    "ExecuteTime": {
     "end_time": "2021-08-24T11:51:45.259426Z",
     "start_time": "2021-08-24T11:51:30.839659Z"
    }
   },
   "outputs": [],
   "source": [
    "#Set up the experiment\n",
    "exp.reset()\n",
    "exp = CN_benchmark\n",
    "\n",
    "# Instantiate sampling strategy\n",
    "strategy = SOBO(exp.domain)\n",
    "\n",
    "# Use the runner to run closed loop optimisation\n",
    "r = Runner(strategy=strategy, experiment=exp, max_iterations=50)\n",
    "r.run()\n"
   ]
  },
  {
   "cell_type": "code",
   "execution_count": null,
   "id": "03940906",
   "metadata": {
    "ExecuteTime": {
     "end_time": "2021-08-24T11:52:34.751874Z",
     "start_time": "2021-08-24T11:52:34.640315Z"
    }
   },
   "outputs": [],
   "source": [
    "SOBO_yield = r.experiment.data['outcomes[0].products[0].measurements[0].percentage.value']\n",
    "plt.plot(SOBO_yield)"
   ]
  },
  {
   "cell_type": "code",
   "execution_count": null,
   "id": "a9081514",
   "metadata": {
    "ExecuteTime": {
     "end_time": "2021-08-24T11:53:54.269472Z",
     "start_time": "2021-08-24T11:53:54.161496Z"
    }
   },
   "outputs": [],
   "source": [
    "SOBO_yield_max = []\n",
    "for i in range(len(SOBO_yield)):\n",
    "    if i == 0:\n",
    "        j = SOBO_yield[i]\n",
    "    else:\n",
    "        j = max(SOBO_yield[i],SOBO_yield_max[i-1])\n",
    "    SOBO_yield_max+=[j]\n",
    "plt.plot(random_yield_max)"
   ]
  },
  {
   "cell_type": "markdown",
   "id": "1320b873",
   "metadata": {
    "ExecuteTime": {
     "end_time": "2021-08-19T17:37:48.517927Z",
     "start_time": "2021-08-19T17:37:48.515098Z"
    }
   },
   "source": [
    "## Run strategies\n",
    "- Random strategy\n",
    "- SOBO: Single Objective Bayesian Optimisation\n",
    "- STBO: Single Task Bayesian Optimisation\n",
    "- MTBO: Multitask Bayesian Optimisation"
   ]
  },
  {
   "cell_type": "code",
   "execution_count": 24,
   "id": "16381604",
   "metadata": {
    "ExecuteTime": {
     "end_time": "2021-08-26T12:22:21.698971Z",
     "start_time": "2021-08-26T12:22:21.681120Z"
    }
   },
   "outputs": [],
   "source": [
    "def run_random(exp, max_iterations=10, random_state=np.random.RandomState(3)):\n",
    "    exp.reset()\n",
    "    strategy = Random(exp.domain, \n",
    "                    random_state=random_state)\n",
    "    r = summit.Runner(strategy=strategy, \n",
    "                      experiment=exp, \n",
    "                      max_iterations=max_iterations)\n",
    "    r.run()\n",
    "    return r\n",
    "\n",
    "def run_sobo(exp, max_iterations=10, categorical_method=\"one-hot\"):\n",
    "    exp.reset()\n",
    "    strategy = SOBO(exp.domain, \n",
    "                    categorical_method=categorical_method)\n",
    "    r = summit.Runner(strategy=strategy, \n",
    "                      experiment=exp, \n",
    "                      max_iterations=max_iterations)\n",
    "    r.run()\n",
    "    return r\n",
    "\n",
    "def run_mtbo(exp, pt_data, max_iterations=10, task=1):\n",
    "    strategy = MTBO(exp.domain, \n",
    "                    pretraining_data=pt_data,\n",
    "                    categorical_method=\"one-hot\", \n",
    "                    task=task)\n",
    "    r = summit.Runner(strategy=strategy,\n",
    "                      experiment=exp, \n",
    "                      max_iterations=max_iterations)\n",
    "    r.run()\n",
    "    return r\n",
    "\n",
    "def make_average_plot(results: [summit.Runner], ax, label=None, color=None):\n",
    "    objective = results[0].experiment.domain.output_variables[0].name\n",
    "    yields = [r.experiment.data[objective] for r in results]\n",
    "    yields = np.array(yields)\n",
    "    mean_yield = np.mean(yields, axis=0)\n",
    "    std_yield = np.std(yields, axis=0)\n",
    "    x = np.arange(0, len(mean_yield), 1).astype(int)\n",
    "    ax.plot(x, mean_yield, label=label, linewidth=2, color=color)\n",
    "    ax.fill_between(x, mean_yield-std_yield, mean_yield+std_yield, alpha=0.1, color=color)\n",
    "\n",
    "def make_comparison_plot(*args):\n",
    "    fig, ax = plt.subplots(1)\n",
    "    for arg in args:\n",
    "        make_average_plot(arg['results'], ax, label=arg[\"label\"], color=arg[\"color\"])\n",
    "    fontdict = fontdict={\"size\":12}\n",
    "    ax.legend(loc = \"lower right\", prop=fontdict)\n",
    "    ax.set_xlim(0,20)\n",
    "    ax.set_xticks(np.arange(0, 20, 2).astype(int))\n",
    "    ax.set_ylabel('Yield', fontdict=fontdict)\n",
    "    ax.set_xlabel('Reactions', fontdict=fontdict)\n",
    "    ax.tick_params(direction='in')\n",
    "    return fig, ax"
   ]
  },
  {
   "cell_type": "code",
   "execution_count": 26,
   "id": "b20c4b2a",
   "metadata": {
    "ExecuteTime": {
     "end_time": "2021-08-26T12:22:26.455030Z",
     "start_time": "2021-08-26T12:22:26.452377Z"
    }
   },
   "outputs": [],
   "source": [
    "N_REPEATS = 10\n",
    "MAX_ITERATIONS = 20"
   ]
  },
  {
   "cell_type": "code",
   "execution_count": 27,
   "id": "6d854286",
   "metadata": {
    "ExecuteTime": {
     "end_time": "2021-08-26T12:22:39.986028Z",
     "start_time": "2021-08-26T12:22:28.313548Z"
    }
   },
   "outputs": [
    {
     "name": "stdout",
     "output_type": "stream",
     "text": [
      "Repeat 9\n"
     ]
    },
    {
     "data": {
      "text/html": [
       "\n",
       "    <div>\n",
       "        <style>\n",
       "            /* Turns off some styling */\n",
       "            progress {\n",
       "                /* gets rid of default border in Firefox and Opera. */\n",
       "                border: none;\n",
       "                /* Needs to be in here for Safari polyfill so background images work as expected. */\n",
       "                background-size: auto;\n",
       "            }\n",
       "            .progress-bar-interrupted, .progress-bar-interrupted::-webkit-progress-bar {\n",
       "                background: #F44336;\n",
       "            }\n",
       "        </style>\n",
       "      <progress value='20' class='' max='20' style='width:300px; height:20px; vertical-align: middle;'></progress>\n",
       "      100.00% [20/20 00:00<00:00]\n",
       "    </div>\n",
       "    "
      ],
      "text/plain": [
       "<IPython.core.display.HTML object>"
      ]
     },
     "metadata": {},
     "output_type": "display_data"
    }
   ],
   "source": [
    "#Random\n",
    "for i in range(N_REPEATS):\n",
    "    print(f\"Repeat {i}\")\n",
    "    exp = baumgartner_cn\n",
    "    result = run_random(exp, max_iterations=MAX_ITERATIONS)\n",
    "    result.save(f\"../data/baumgartner_C-N/results/random_{i}.json\")\n",
    "    clear_output(wait=True)"
   ]
  },
  {
   "cell_type": "code",
   "execution_count": 28,
   "id": "375ebc12",
   "metadata": {
    "ExecuteTime": {
     "end_time": "2021-08-26T12:23:47.242416Z",
     "start_time": "2021-08-26T12:22:41.992278Z"
    },
    "scrolled": true
   },
   "outputs": [
    {
     "name": "stdout",
     "output_type": "stream",
     "text": [
      "Repeat 9\n"
     ]
    },
    {
     "data": {
      "text/html": [
       "\n",
       "    <div>\n",
       "        <style>\n",
       "            /* Turns off some styling */\n",
       "            progress {\n",
       "                /* gets rid of default border in Firefox and Opera. */\n",
       "                border: none;\n",
       "                /* Needs to be in here for Safari polyfill so background images work as expected. */\n",
       "                background-size: auto;\n",
       "            }\n",
       "            .progress-bar-interrupted, .progress-bar-interrupted::-webkit-progress-bar {\n",
       "                background: #F44336;\n",
       "            }\n",
       "        </style>\n",
       "      <progress value='20' class='' max='20' style='width:300px; height:20px; vertical-align: middle;'></progress>\n",
       "      100.00% [20/20 00:05<00:00]\n",
       "    </div>\n",
       "    "
      ],
      "text/plain": [
       "<IPython.core.display.HTML object>"
      ]
     },
     "metadata": {},
     "output_type": "display_data"
    }
   ],
   "source": [
    "#Single-Objective Bayesian Optimization\n",
    "for i in range(N_REPEATS):\n",
    "    print(f\"Repeat {i}\")\n",
    "    exp = baumgartner_cn\n",
    "    result = run_sobo(exp, max_iterations=MAX_ITERATIONS)\n",
    "    result.save(f\"../data/baumgartner_C-N/results/SOBO_{i}.json\")\n",
    "    clear_output(wait=True)"
   ]
  },
  {
   "cell_type": "code",
   "execution_count": 19,
   "id": "c506c12b",
   "metadata": {
    "ExecuteTime": {
     "end_time": "2021-08-24T16:55:48.908242Z",
     "start_time": "2021-08-24T16:55:48.864492Z"
    }
   },
   "outputs": [
    {
     "name": "stdout",
     "output_type": "stream",
     "text": [
      "Repeat 0\n"
     ]
    },
    {
     "data": {
      "text/html": [
       "\n",
       "    <div>\n",
       "        <style>\n",
       "            /* Turns off some styling */\n",
       "            progress {\n",
       "                /* gets rid of default border in Firefox and Opera. */\n",
       "                border: none;\n",
       "                /* Needs to be in here for Safari polyfill so background images work as expected. */\n",
       "                background-size: auto;\n",
       "            }\n",
       "            .progress-bar-interrupted, .progress-bar-interrupted::-webkit-progress-bar {\n",
       "                background: #F44336;\n",
       "            }\n",
       "        </style>\n",
       "      <progress value='0' class='' max='20' style='width:300px; height:20px; vertical-align: middle;'></progress>\n",
       "      0.00% [0/20 00:00<00:00]\n",
       "    </div>\n",
       "    "
      ],
      "text/plain": [
       "<IPython.core.display.HTML object>"
      ]
     },
     "metadata": {},
     "output_type": "display_data"
    },
    {
     "ename": "UnboundLocalError",
     "evalue": "local variable 'samples' referenced before assignment",
     "output_type": "error",
     "traceback": [
      "\u001b[0;31m---------------------------------------------------------------------------\u001b[0m",
      "\u001b[0;31mUnboundLocalError\u001b[0m                         Traceback (most recent call last)",
      "\u001b[0;32m<ipython-input-19-f53239fcc409>\u001b[0m in \u001b[0;36m<module>\u001b[0;34m\u001b[0m\n\u001b[1;32m      3\u001b[0m     \u001b[0mprint\u001b[0m\u001b[0;34m(\u001b[0m\u001b[0;34mf\"Repeat {i}\"\u001b[0m\u001b[0;34m)\u001b[0m\u001b[0;34m\u001b[0m\u001b[0;34m\u001b[0m\u001b[0m\n\u001b[1;32m      4\u001b[0m     \u001b[0mexp\u001b[0m \u001b[0;34m=\u001b[0m \u001b[0mbaumgartner_cn\u001b[0m\u001b[0;34m\u001b[0m\u001b[0;34m\u001b[0m\u001b[0m\n\u001b[0;32m----> 5\u001b[0;31m     \u001b[0mresult\u001b[0m \u001b[0;34m=\u001b[0m \u001b[0mrun_mtbo\u001b[0m\u001b[0;34m(\u001b[0m\u001b[0mexp\u001b[0m\u001b[0;34m,\u001b[0m \u001b[0mahneman_cn_ds\u001b[0m\u001b[0;34m,\u001b[0m \u001b[0mmax_iterations\u001b[0m\u001b[0;34m=\u001b[0m\u001b[0mMAX_ITERATIONS\u001b[0m\u001b[0;34m)\u001b[0m\u001b[0;34m\u001b[0m\u001b[0;34m\u001b[0m\u001b[0m\n\u001b[0m\u001b[1;32m      6\u001b[0m     \u001b[0mresult\u001b[0m\u001b[0;34m.\u001b[0m\u001b[0msave\u001b[0m\u001b[0;34m(\u001b[0m\u001b[0;34mf\"../data/baumgartner_C-N/results/MTBO_{i}.json\"\u001b[0m\u001b[0;34m)\u001b[0m\u001b[0;34m\u001b[0m\u001b[0;34m\u001b[0m\u001b[0m\n\u001b[1;32m      7\u001b[0m     \u001b[0mclear_output\u001b[0m\u001b[0;34m(\u001b[0m\u001b[0mwait\u001b[0m\u001b[0;34m=\u001b[0m\u001b[0;32mTrue\u001b[0m\u001b[0;34m)\u001b[0m\u001b[0;34m\u001b[0m\u001b[0;34m\u001b[0m\u001b[0m\n",
      "\u001b[0;32m<ipython-input-15-e1d1e9264019>\u001b[0m in \u001b[0;36mrun_mtbo\u001b[0;34m(exp, pt_data, max_iterations, task)\u001b[0m\n\u001b[1;32m     27\u001b[0m                       \u001b[0mexperiment\u001b[0m\u001b[0;34m=\u001b[0m\u001b[0mexp\u001b[0m\u001b[0;34m,\u001b[0m\u001b[0;34m\u001b[0m\u001b[0;34m\u001b[0m\u001b[0m\n\u001b[1;32m     28\u001b[0m                       max_iterations=max_iterations)\n\u001b[0;32m---> 29\u001b[0;31m     \u001b[0mr\u001b[0m\u001b[0;34m.\u001b[0m\u001b[0mrun\u001b[0m\u001b[0;34m(\u001b[0m\u001b[0;34m)\u001b[0m\u001b[0;34m\u001b[0m\u001b[0;34m\u001b[0m\u001b[0m\n\u001b[0m\u001b[1;32m     30\u001b[0m     \u001b[0;32mreturn\u001b[0m \u001b[0mr\u001b[0m\u001b[0;34m\u001b[0m\u001b[0;34m\u001b[0m\u001b[0m\n\u001b[1;32m     31\u001b[0m \u001b[0;34m\u001b[0m\u001b[0m\n",
      "\u001b[0;32m~/opt/anaconda3/envs/ord/lib/python3.9/site-packages/summit/run.py\u001b[0m in \u001b[0;36mrun\u001b[0;34m(self, **kwargs)\u001b[0m\n\u001b[1;32m    158\u001b[0m             \u001b[0;32mif\u001b[0m \u001b[0mi\u001b[0m \u001b[0;34m==\u001b[0m \u001b[0;36m0\u001b[0m\u001b[0;34m:\u001b[0m\u001b[0;34m\u001b[0m\u001b[0;34m\u001b[0m\u001b[0m\n\u001b[1;32m    159\u001b[0m                 \u001b[0mk\u001b[0m \u001b[0;34m=\u001b[0m \u001b[0mself\u001b[0m\u001b[0;34m.\u001b[0m\u001b[0mn_init\u001b[0m \u001b[0;32mif\u001b[0m \u001b[0mself\u001b[0m\u001b[0;34m.\u001b[0m\u001b[0mn_init\u001b[0m \u001b[0;32mis\u001b[0m \u001b[0;32mnot\u001b[0m \u001b[0;32mNone\u001b[0m \u001b[0;32melse\u001b[0m \u001b[0mself\u001b[0m\u001b[0;34m.\u001b[0m\u001b[0mbatch_size\u001b[0m\u001b[0;34m\u001b[0m\u001b[0;34m\u001b[0m\u001b[0m\n\u001b[0;32m--> 160\u001b[0;31m                 \u001b[0mnext_experiments\u001b[0m \u001b[0;34m=\u001b[0m \u001b[0mself\u001b[0m\u001b[0;34m.\u001b[0m\u001b[0mstrategy\u001b[0m\u001b[0;34m.\u001b[0m\u001b[0msuggest_experiments\u001b[0m\u001b[0;34m(\u001b[0m\u001b[0mnum_experiments\u001b[0m\u001b[0;34m=\u001b[0m\u001b[0mk\u001b[0m\u001b[0;34m)\u001b[0m\u001b[0;34m\u001b[0m\u001b[0;34m\u001b[0m\u001b[0m\n\u001b[0m\u001b[1;32m    161\u001b[0m             \u001b[0;32melse\u001b[0m\u001b[0;34m:\u001b[0m\u001b[0;34m\u001b[0m\u001b[0;34m\u001b[0m\u001b[0m\n\u001b[1;32m    162\u001b[0m                 next_experiments = self.strategy.suggest_experiments(\n",
      "\u001b[0;32m~/opt/anaconda3/envs/ord/lib/python3.9/site-packages/summit/strategies/multitask.py\u001b[0m in \u001b[0;36msuggest_experiments\u001b[0;34m(self, num_experiments, prev_res, **kwargs)\u001b[0m\n\u001b[1;32m    144\u001b[0m             \u001b[0mself\u001b[0m\u001b[0;34m.\u001b[0m\u001b[0miterations\u001b[0m \u001b[0;34m+=\u001b[0m \u001b[0;36m1\u001b[0m\u001b[0;34m\u001b[0m\u001b[0;34m\u001b[0m\u001b[0m\n\u001b[1;32m    145\u001b[0m             \u001b[0mk\u001b[0m \u001b[0;34m=\u001b[0m \u001b[0mnum_experiments\u001b[0m \u001b[0;32mif\u001b[0m \u001b[0mnum_experiments\u001b[0m \u001b[0;34m>\u001b[0m \u001b[0;36m1\u001b[0m \u001b[0;32melse\u001b[0m \u001b[0;36m2\u001b[0m\u001b[0;34m\u001b[0m\u001b[0;34m\u001b[0m\u001b[0m\n\u001b[0;32m--> 146\u001b[0;31m             \u001b[0mconditions\u001b[0m \u001b[0;34m=\u001b[0m \u001b[0mlhs\u001b[0m\u001b[0;34m.\u001b[0m\u001b[0msuggest_experiments\u001b[0m\u001b[0;34m(\u001b[0m\u001b[0mk\u001b[0m\u001b[0;34m)\u001b[0m\u001b[0;34m\u001b[0m\u001b[0;34m\u001b[0m\u001b[0m\n\u001b[0m\u001b[1;32m    147\u001b[0m             \u001b[0mconditions\u001b[0m\u001b[0;34m[\u001b[0m\u001b[0;34m(\u001b[0m\u001b[0;34m\"task\"\u001b[0m\u001b[0;34m,\u001b[0m \u001b[0;34m\"METADATA\"\u001b[0m\u001b[0;34m)\u001b[0m\u001b[0;34m]\u001b[0m \u001b[0;34m=\u001b[0m \u001b[0mself\u001b[0m\u001b[0;34m.\u001b[0m\u001b[0mtask\u001b[0m\u001b[0;34m\u001b[0m\u001b[0;34m\u001b[0m\u001b[0m\n\u001b[1;32m    148\u001b[0m             \u001b[0;32mreturn\u001b[0m \u001b[0mconditions\u001b[0m\u001b[0;34m\u001b[0m\u001b[0;34m\u001b[0m\u001b[0m\n",
      "\u001b[0;32m~/opt/anaconda3/envs/ord/lib/python3.9/site-packages/summit/strategies/random.py\u001b[0m in \u001b[0;36msuggest_experiments\u001b[0;34m(self, num_experiments, criterion, exclude, **kwargs)\u001b[0m\n\u001b[1;32m    230\u001b[0m             \u001b[0;32mif\u001b[0m \u001b[0misinstance\u001b[0m\u001b[0;34m(\u001b[0m\u001b[0mvariable\u001b[0m\u001b[0;34m,\u001b[0m \u001b[0mContinuousVariable\u001b[0m\u001b[0;34m)\u001b[0m\u001b[0;34m:\u001b[0m\u001b[0;34m\u001b[0m\u001b[0;34m\u001b[0m\u001b[0m\n\u001b[1;32m    231\u001b[0m                 \u001b[0mb\u001b[0m \u001b[0;34m=\u001b[0m \u001b[0mvariable\u001b[0m\u001b[0;34m.\u001b[0m\u001b[0mlower_bound\u001b[0m \u001b[0;34m*\u001b[0m \u001b[0mnp\u001b[0m\u001b[0;34m.\u001b[0m\u001b[0mones\u001b[0m\u001b[0;34m(\u001b[0m\u001b[0mnum_experiments\u001b[0m\u001b[0;34m)\u001b[0m\u001b[0;34m\u001b[0m\u001b[0;34m\u001b[0m\u001b[0m\n\u001b[0;32m--> 232\u001b[0;31m                 values = b + samples[:, k] * (\n\u001b[0m\u001b[1;32m    233\u001b[0m                     \u001b[0mvariable\u001b[0m\u001b[0;34m.\u001b[0m\u001b[0mupper_bound\u001b[0m \u001b[0;34m-\u001b[0m \u001b[0mvariable\u001b[0m\u001b[0;34m.\u001b[0m\u001b[0mlower_bound\u001b[0m\u001b[0;34m\u001b[0m\u001b[0;34m\u001b[0m\u001b[0m\n\u001b[1;32m    234\u001b[0m                 )\n",
      "\u001b[0;31mUnboundLocalError\u001b[0m: local variable 'samples' referenced before assignment"
     ]
    }
   ],
   "source": [
    "#Multi-Task Bayesian Optimization\n",
    "for i in range(N_REPEATS):\n",
    "    print(f\"Repeat {i}\")\n",
    "    exp = baumgartner_cn\n",
    "    result = run_mtbo(exp, ahneman_cn_ds, max_iterations=MAX_ITERATIONS)\n",
    "    result.save(f\"../data/baumgartner_C-N/results/MTBO_{i}.json\")\n",
    "    clear_output(wait=True)\n"
   ]
  },
  {
   "cell_type": "markdown",
   "id": "7580530b",
   "metadata": {
    "ExecuteTime": {
     "end_time": "2021-08-23T18:05:29.551846Z",
     "start_time": "2021-08-23T18:05:29.549636Z"
    }
   },
   "source": [
    "## Plot results"
   ]
  },
  {
   "cell_type": "code",
   "execution_count": 29,
   "id": "06b6d7ab",
   "metadata": {
    "ExecuteTime": {
     "end_time": "2021-08-26T12:23:51.722006Z",
     "start_time": "2021-08-26T12:23:49.476147Z"
    }
   },
   "outputs": [
    {
     "data": {
      "image/png": "[encoded data removed]",
      "text/plain": [
       "<Figure size 432x288 with 1 Axes>"
      ]
     },
     "metadata": {
      "needs_background": "light"
     },
     "output_type": "display_data"
    }
   ],
   "source": [
    "random_results = [summit.Runner.load(f\"../data/baumgartner_C-N/results/random_{i}.json\") for i in range(10)]\n",
    "sobo_results = [summit.Runner.load(f\"../data/baumgartner_C-N/results/SOBO_{i}.json\") for i in range(10)]\n",
    "#mtbo_results_lists = [[summit.Runner.load(f\"data/kinetics_similar/mtbo_case1-2_noise_{n}-pre-train_repeat_{i}.json\") \n",
    "#                      for i in range(10)]\n",
    "#                      for n in n_aux]\n",
    "#\n",
    "\n",
    "fig, ax = make_comparison_plot(\n",
    "    dict(results=random_results, label=\"Random\", color = 'blue'),\n",
    "    dict(results=sobo_results, label=\"SOBO\", color = 'orange'),\n",
    "#     dict(results=mtbo_results_lists[0],label=\"MTBO, n=5\"),\n",
    "#    dict(results=mtbo_results_lists[1],label=\"MTBO, n=10\"),\n",
    "#    dict(results=mtbo_results_lists[2],label=\"MTBO, n=50\")\n",
    ")\n",
    "#fig.savefig(\"figures/stbo_mtbo_kinetics_case1-2_noise_comparison.png\", bbox_inches='tight', dpi=300)"
   ]
  },
  {
   "cell_type": "code",
   "execution_count": null,
   "id": "0e630edd",
   "metadata": {},
   "outputs": [],
   "source": []
  }
 ],
 "metadata": {
  "kernelspec": {
   "display_name": "ord",
   "language": "python",
   "name": "ord"
  },
  "language_info": {
   "codemirror_mode": {
    "name": "ipython",
    "version": 3
   },
   "file_extension": ".py",
   "mimetype": "text/x-python",
   "name": "python",
   "nbconvert_exporter": "python",
   "pygments_lexer": "ipython3",
   "version": "3.9.5"
  },
  "toc": {
   "base_numbering": 1,
   "nav_menu": {},
   "number_sections": true,
   "sideBar": true,
   "skip_h1_title": false,
   "title_cell": "Table of Contents",
   "title_sidebar": "Contents",
   "toc_cell": true,
   "toc_position": {
    "height": "calc(100% - 180px)",
    "left": "10px",
    "top": "150px",
    "width": "169px"
   },
   "toc_section_display": true,
   "toc_window_display": true
  },
  "varInspector": {
   "cols": {
    "lenName": 16,
    "lenType": 16,
    "lenVar": 40
   },
   "kernels_config": {
    "python": {
     "delete_cmd_postfix": "",
     "delete_cmd_prefix": "del ",
     "library": "var_list.py",
     "varRefreshCmd": "print(var_dic_list())"
    },
    "r": {
     "delete_cmd_postfix": ") ",
     "delete_cmd_prefix": "rm(",
     "library": "var_list.r",
     "varRefreshCmd": "cat(var_dic_list()) "
    }
   },
   "types_to_exclude": [
    "module",
    "function",
    "builtin_function_or_method",
    "instance",
    "_Feature"
   ],
   "window_display": false
  }
 },
 "nbformat": 4,
 "nbformat_minor": 5
}
