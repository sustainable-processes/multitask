{
 "cells": [
  {
   "cell_type": "code",
   "execution_count": 1,
   "id": "f44f009f-8141-45e2-bcec-1d8b67e86ed3",
   "metadata": {},
   "outputs": [],
   "source": [
    "%load_ext autoreload\n",
    "%autoreload 2"
   ]
  },
  {
   "cell_type": "code",
   "execution_count": 2,
   "id": "076299ae-5b93-46d9-aca2-758e82dba6b2",
   "metadata": {},
   "outputs": [],
   "source": [
    "from multitask.benchmarks.kinetic_models import StereoSelectiveReaction, create_pcs_ds\n",
    "from summit.utils.multiobjective import pareto_efficient\n",
    "from summit import *\n",
    "import pandas as pd\n",
    "import numpy as np\n",
    "import matplotlib.pyplot as plt"
   ]
  },
  {
   "cell_type": "markdown",
   "id": "cae00b90-2eca-4d08-89cc-d7528bf7500a",
   "metadata": {},
   "source": [
    "## Load Data"
   ]
  },
  {
   "cell_type": "code",
   "execution_count": 3,
   "id": "d6ee7f03-911b-4f33-b15d-963a35308544",
   "metadata": {},
   "outputs": [],
   "source": [
    "#Constants\n",
    "DATA_PATH   =  '../data/'\n",
    "SOLVENT_DESCRIPTOR_DATA_FILE =  DATA_PATH + 'solvent_descriptors.csv'\n",
    "SOLVENT_INDEX = 'cas_number'\n",
    "SOLVENT_METADATA_VARIABLES = ['stenutz_name', 'cosmo_name', 'chemical_formula']\n",
    "UCB_PHARMA_APPROVED_LIST = DATA_PATH + 'ucb_pharma_approved_list.csv'\n",
    "SOLUBILITIES_DATA_FILE = DATA_PATH + \"solvent_solubilities.csv\"\n",
    "\n",
    "\n",
    "#Load solvent descriptor dataset\n",
    "_solvent_candidates = pd.read_csv(SOLVENT_DESCRIPTOR_DATA_FILE)\n",
    "_solvent_candidates = _solvent_candidates.set_index(SOLVENT_INDEX)\n",
    "solvent_ds = DataSet.from_df(_solvent_candidates, metadata_columns=SOLVENT_METADATA_VARIABLES)\n",
    "\n",
    "#Load UCB Pharma approved list\n",
    "ucb_list = pd.read_csv(UCB_PHARMA_APPROVED_LIST)\n",
    "ucb_list = ucb_list.set_index('cas_number')\n",
    "ucb_ds = DataSet.from_df(ucb_list, metadata_columns=['solvent_class', 'solvent_name'])\n",
    "\n",
    "# Solubilities datset\n",
    "solubilities = pd.read_csv(SOLUBILITIES_DATA_FILE)\n",
    "solubilities = solubilities.set_index(\"cas_number\")\n",
    "solubilities = DataSet.from_df(solubilities)"
   ]
  },
  {
   "cell_type": "markdown",
   "id": "6cf76991-bfe8-40c0-8043-ea35c877a672",
   "metadata": {},
   "source": [
    "## Descriptors"
   ]
  },
  {
   "cell_type": "code",
   "execution_count": 4,
   "id": "4c631a4d-7f78-4aa8-b0bd-f73590128b77",
   "metadata": {},
   "outputs": [
    {
     "name": "stdout",
     "output_type": "stream",
     "text": [
      "80 solvents for optimization\n",
      "70% of variance is explained by 3 principal components.\n"
     ]
    }
   ],
   "source": [
    "solvent_ds_pcs, pca = create_pcs_ds(\n",
    "    solvent_ds,\n",
    "    ucb_ds,\n",
    "    solubilities,\n",
    "    num_components=3, \n",
    "    ucb_filter=True, \n",
    "    verbose=True\n",
    ")"
   ]
  },
  {
   "cell_type": "code",
   "execution_count": 5,
   "id": "4b34ce72-4c34-4667-8950-30898cef5e0a",
   "metadata": {},
   "outputs": [
    {
     "data": {
      "text/html": [
       "<div>\n",
       "<style scoped>\n",
       "    .dataframe tbody tr th:only-of-type {\n",
       "        vertical-align: middle;\n",
       "    }\n",
       "\n",
       "    .dataframe tbody tr th {\n",
       "        vertical-align: top;\n",
       "    }\n",
       "\n",
       "    .dataframe thead th {\n",
       "        text-align: right;\n",
       "    }\n",
       "</style>\n",
       "<table border=\"1\" class=\"dataframe\">\n",
       "  <thead>\n",
       "    <tr style=\"text-align: right;\">\n",
       "      <th></th>\n",
       "      <th>PC_1</th>\n",
       "      <th>PC_2</th>\n",
       "      <th>PC_3</th>\n",
       "    </tr>\n",
       "  </thead>\n",
       "  <tbody>\n",
       "    <tr>\n",
       "      <th>partition_coefficient</th>\n",
       "      <td>-0.350498</td>\n",
       "      <td>-0.012300</td>\n",
       "      <td>0.252559</td>\n",
       "    </tr>\n",
       "    <tr>\n",
       "      <th>sigma_2</th>\n",
       "      <td>-0.316189</td>\n",
       "      <td>0.267132</td>\n",
       "      <td>0.074034</td>\n",
       "    </tr>\n",
       "    <tr>\n",
       "      <th>molar_volume</th>\n",
       "      <td>-0.295616</td>\n",
       "      <td>0.276469</td>\n",
       "      <td>0.047847</td>\n",
       "    </tr>\n",
       "    <tr>\n",
       "      <th>molecular_refractive_power</th>\n",
       "      <td>-0.273993</td>\n",
       "      <td>0.325531</td>\n",
       "      <td>0.106905</td>\n",
       "    </tr>\n",
       "    <tr>\n",
       "      <th>molecular_weight</th>\n",
       "      <td>-0.163227</td>\n",
       "      <td>0.390747</td>\n",
       "      <td>0.067756</td>\n",
       "    </tr>\n",
       "    <tr>\n",
       "      <th>vapour_pressure</th>\n",
       "      <td>-0.087970</td>\n",
       "      <td>-0.242292</td>\n",
       "      <td>-0.066203</td>\n",
       "    </tr>\n",
       "    <tr>\n",
       "      <th>refractive_index</th>\n",
       "      <td>-0.032506</td>\n",
       "      <td>0.205296</td>\n",
       "      <td>0.202902</td>\n",
       "    </tr>\n",
       "    <tr>\n",
       "      <th>boiling_point</th>\n",
       "      <td>0.135144</td>\n",
       "      <td>0.408971</td>\n",
       "      <td>0.104810</td>\n",
       "    </tr>\n",
       "    <tr>\n",
       "      <th>sigma_5</th>\n",
       "      <td>0.153697</td>\n",
       "      <td>0.300914</td>\n",
       "      <td>-0.261709</td>\n",
       "    </tr>\n",
       "    <tr>\n",
       "      <th>viscosity</th>\n",
       "      <td>0.156539</td>\n",
       "      <td>0.147958</td>\n",
       "      <td>0.441249</td>\n",
       "    </tr>\n",
       "    <tr>\n",
       "      <th>sigma_3</th>\n",
       "      <td>0.187435</td>\n",
       "      <td>0.262653</td>\n",
       "      <td>-0.290622</td>\n",
       "    </tr>\n",
       "    <tr>\n",
       "      <th>melting_point</th>\n",
       "      <td>0.195160</td>\n",
       "      <td>0.205470</td>\n",
       "      <td>0.165361</td>\n",
       "    </tr>\n",
       "    <tr>\n",
       "      <th>sigma_4</th>\n",
       "      <td>0.221477</td>\n",
       "      <td>-0.104187</td>\n",
       "      <td>0.490534</td>\n",
       "    </tr>\n",
       "    <tr>\n",
       "      <th>dipole_moment</th>\n",
       "      <td>0.224172</td>\n",
       "      <td>0.246363</td>\n",
       "      <td>-0.314640</td>\n",
       "    </tr>\n",
       "    <tr>\n",
       "      <th>density</th>\n",
       "      <td>0.224806</td>\n",
       "      <td>0.137744</td>\n",
       "      <td>0.123231</td>\n",
       "    </tr>\n",
       "    <tr>\n",
       "      <th>sigma_1</th>\n",
       "      <td>0.297528</td>\n",
       "      <td>-0.056591</td>\n",
       "      <td>0.347494</td>\n",
       "    </tr>\n",
       "    <tr>\n",
       "      <th>dielectric_constant</th>\n",
       "      <td>0.315595</td>\n",
       "      <td>0.063603</td>\n",
       "      <td>-0.072992</td>\n",
       "    </tr>\n",
       "    <tr>\n",
       "      <th>solubility</th>\n",
       "      <td>0.318903</td>\n",
       "      <td>0.062246</td>\n",
       "      <td>0.000688</td>\n",
       "    </tr>\n",
       "  </tbody>\n",
       "</table>\n",
       "</div>"
      ],
      "text/plain": [
       "                                PC_1      PC_2      PC_3\n",
       "partition_coefficient      -0.350498 -0.012300  0.252559\n",
       "sigma_2                    -0.316189  0.267132  0.074034\n",
       "molar_volume               -0.295616  0.276469  0.047847\n",
       "molecular_refractive_power -0.273993  0.325531  0.106905\n",
       "molecular_weight           -0.163227  0.390747  0.067756\n",
       "vapour_pressure            -0.087970 -0.242292 -0.066203\n",
       "refractive_index           -0.032506  0.205296  0.202902\n",
       "boiling_point               0.135144  0.408971  0.104810\n",
       "sigma_5                     0.153697  0.300914 -0.261709\n",
       "viscosity                   0.156539  0.147958  0.441249\n",
       "sigma_3                     0.187435  0.262653 -0.290622\n",
       "melting_point               0.195160  0.205470  0.165361\n",
       "sigma_4                     0.221477 -0.104187  0.490534\n",
       "dipole_moment               0.224172  0.246363 -0.314640\n",
       "density                     0.224806  0.137744  0.123231\n",
       "sigma_1                     0.297528 -0.056591  0.347494\n",
       "dielectric_constant         0.315595  0.063603 -0.072992\n",
       "solubility                  0.318903  0.062246  0.000688"
      ]
     },
     "execution_count": 5,
     "metadata": {},
     "output_type": "execute_result"
    }
   ],
   "source": [
    "pd.DataFrame(\n",
    "    pca.components_.T, \n",
    "    index=solvent_ds.data_columns + ['solubility'], \n",
    "    columns=solvent_ds_pcs.data_columns\n",
    ").sort_values('PC_1')"
   ]
  },
  {
   "cell_type": "markdown",
   "id": "3c60c178-9330-4867-863a-fedeebb5f07a",
   "metadata": {},
   "source": [
    "## Benchmark "
   ]
  },
  {
   "cell_type": "code",
   "execution_count": 6,
   "id": "d1604464-79ae-4faf-849e-9bfec04e7090",
   "metadata": {},
   "outputs": [
    {
     "name": "stderr",
     "output_type": "stream",
     "text": [
      "<ipython-input-6-a2e1fe9c44b0>:17: RuntimeWarning: invalid value encountered in true_divide\n",
      "  axes[1].scatter(trange, cd1/(cd1+cd2)*100, label='de')\n"
     ]
    },
    {
     "data": {
      "text/plain": [
       "Text(0, 0.5, '%')"
      ]
     },
     "execution_count": 6,
     "metadata": {},
     "output_type": "execute_result"
    },
    {
     "data": {
      "image/png": "[encoded data removed]",
      "text/plain": [
       "<Figure size 720x360 with 2 Axes>"
      ]
     },
     "metadata": {
      "needs_background": "light"
     },
     "output_type": "display_data"
    }
   ],
   "source": [
    "random_state = np.random.RandomState(100)\n",
    "exp = StereoSelectiveReaction(solvent_ds_pcs, random_state)\n",
    "x = exp._integrate_rate('616-38-6', rxn_time=25200, step_size=100)\n",
    "\n",
    "fig, axes = plt.subplots(1, 2, figsize=(10,5))\n",
    "trange = np.linspace(0, 25400, x.shape[0])\n",
    "cd1 = x[:, 0]\n",
    "cd2 = x[:, 1]\n",
    "\n",
    "axes[0].scatter(trange, 0.5-x[:,0]-x[:,1], label='ca/cb')\n",
    "axes[0].scatter(trange, cd1, label='cd1')\n",
    "axes[0].scatter(trange, cd2, label='cd2')\n",
    "axes[0].legend(); axes[0].set_xlabel('Time (s)');\n",
    "axes[0].set_ylabel('Concentration (mol/L)')\n",
    "\n",
    "axes[1].scatter(trange, cd1/0.5*100, label='conversion')\n",
    "axes[1].scatter(trange, cd1/(cd1+cd2)*100, label='de')\n",
    "axes[1].legend(); axes[1].set_xlabel('Time (s)');\n",
    "axes[1].set_ylabel('%')"
   ]
  },
  {
   "cell_type": "code",
   "execution_count": 7,
   "id": "be817533-06bb-4d36-8f05-e101fa19ea5a",
   "metadata": {
    "scrolled": true,
    "tags": []
   },
   "outputs": [],
   "source": [
    "random_state = np.random.RandomState(100)\n",
    "exp = StereoSelectiveReaction(solvent_ds_pcs, random_state)\n",
    "conditions = DataSet(solvent_ds_pcs.index.values, columns=[\"solvent\"])\n",
    "all_experiments = exp.run_experiments(conditions) "
   ]
  },
  {
   "cell_type": "code",
   "execution_count": 8,
   "id": "232d397d-58fd-42db-85c8-6a66538fd001",
   "metadata": {},
   "outputs": [
    {
     "data": {
      "text/html": [
       "<div>\n",
       "<style scoped>\n",
       "    .dataframe tbody tr th:only-of-type {\n",
       "        vertical-align: middle;\n",
       "    }\n",
       "\n",
       "    .dataframe tbody tr th {\n",
       "        vertical-align: top;\n",
       "    }\n",
       "\n",
       "    .dataframe thead th {\n",
       "        text-align: right;\n",
       "    }\n",
       "</style>\n",
       "<table border=\"1\" class=\"dataframe\">\n",
       "  <thead>\n",
       "    <tr style=\"text-align: right;\">\n",
       "      <th></th>\n",
       "      <th>solvent</th>\n",
       "      <th>conversion</th>\n",
       "      <th>de</th>\n",
       "      <th>computation_t</th>\n",
       "      <th>experiment_t</th>\n",
       "      <th>strategy</th>\n",
       "    </tr>\n",
       "  </thead>\n",
       "  <tbody>\n",
       "    <tr>\n",
       "      <th>36</th>\n",
       "      <td>110-54-3</td>\n",
       "      <td>5.496149</td>\n",
       "      <td>10.233521</td>\n",
       "      <td>0.0</td>\n",
       "      <td>0.023238</td>\n",
       "      <td>NaN</td>\n",
       "    </tr>\n",
       "    <tr>\n",
       "      <th>74</th>\n",
       "      <td>540-84-1</td>\n",
       "      <td>30.933193</td>\n",
       "      <td>46.7698</td>\n",
       "      <td>0.0</td>\n",
       "      <td>0.025093</td>\n",
       "      <td>NaN</td>\n",
       "    </tr>\n",
       "    <tr>\n",
       "      <th>33</th>\n",
       "      <td>142-82-5</td>\n",
       "      <td>32.142435</td>\n",
       "      <td>48.177143</td>\n",
       "      <td>0.0</td>\n",
       "      <td>0.025187</td>\n",
       "      <td>NaN</td>\n",
       "    </tr>\n",
       "    <tr>\n",
       "      <th>0</th>\n",
       "      <td>56-81-5</td>\n",
       "      <td>32.652662</td>\n",
       "      <td>44.998815</td>\n",
       "      <td>0.0</td>\n",
       "      <td>0.029263</td>\n",
       "      <td>NaN</td>\n",
       "    </tr>\n",
       "    <tr>\n",
       "      <th>70</th>\n",
       "      <td>111-87-5</td>\n",
       "      <td>43.528419</td>\n",
       "      <td>63.347235</td>\n",
       "      <td>0.0</td>\n",
       "      <td>0.025057</td>\n",
       "      <td>NaN</td>\n",
       "    </tr>\n",
       "    <tr>\n",
       "      <th>...</th>\n",
       "      <td>...</td>\n",
       "      <td>...</td>\n",
       "      <td>...</td>\n",
       "      <td>...</td>\n",
       "      <td>...</td>\n",
       "      <td>...</td>\n",
       "    </tr>\n",
       "    <tr>\n",
       "      <th>5</th>\n",
       "      <td>96-49-1</td>\n",
       "      <td>79.768892</td>\n",
       "      <td>93.323434</td>\n",
       "      <td>0.0</td>\n",
       "      <td>0.028063</td>\n",
       "      <td>NaN</td>\n",
       "    </tr>\n",
       "    <tr>\n",
       "      <th>55</th>\n",
       "      <td>67-64-1</td>\n",
       "      <td>81.040237</td>\n",
       "      <td>89.693131</td>\n",
       "      <td>0.0</td>\n",
       "      <td>0.029093</td>\n",
       "      <td>NaN</td>\n",
       "    </tr>\n",
       "    <tr>\n",
       "      <th>65</th>\n",
       "      <td>68-12-2</td>\n",
       "      <td>81.244445</td>\n",
       "      <td>92.247595</td>\n",
       "      <td>0.0</td>\n",
       "      <td>0.027239</td>\n",
       "      <td>NaN</td>\n",
       "    </tr>\n",
       "    <tr>\n",
       "      <th>47</th>\n",
       "      <td>126-33-0</td>\n",
       "      <td>81.275079</td>\n",
       "      <td>92.771324</td>\n",
       "      <td>0.0</td>\n",
       "      <td>0.026961</td>\n",
       "      <td>NaN</td>\n",
       "    </tr>\n",
       "    <tr>\n",
       "      <th>59</th>\n",
       "      <td>75-05-8</td>\n",
       "      <td>81.539895</td>\n",
       "      <td>91.072013</td>\n",
       "      <td>0.0</td>\n",
       "      <td>0.028965</td>\n",
       "      <td>NaN</td>\n",
       "    </tr>\n",
       "  </tbody>\n",
       "</table>\n",
       "<p>80 rows × 6 columns</p>\n",
       "</div>"
      ],
      "text/plain": [
       "NAME   solvent conversion         de computation_t experiment_t strategy\n",
       "TYPE      DATA       DATA       DATA      METADATA     METADATA METADATA\n",
       "36    110-54-3   5.496149  10.233521           0.0     0.023238      NaN\n",
       "74    540-84-1  30.933193    46.7698           0.0     0.025093      NaN\n",
       "33    142-82-5  32.142435  48.177143           0.0     0.025187      NaN\n",
       "0      56-81-5  32.652662  44.998815           0.0     0.029263      NaN\n",
       "70    111-87-5  43.528419  63.347235           0.0     0.025057      NaN\n",
       "..         ...        ...        ...           ...          ...      ...\n",
       "5      96-49-1  79.768892  93.323434           0.0     0.028063      NaN\n",
       "55     67-64-1  81.040237  89.693131           0.0     0.029093      NaN\n",
       "65     68-12-2  81.244445  92.247595           0.0     0.027239      NaN\n",
       "47    126-33-0  81.275079  92.771324           0.0     0.026961      NaN\n",
       "59     75-05-8  81.539895  91.072013           0.0     0.028965      NaN\n",
       "\n",
       "[80 rows x 6 columns]"
      ]
     },
     "execution_count": 8,
     "metadata": {},
     "output_type": "execute_result"
    }
   ],
   "source": [
    "all_experiments.sort_values(\"conversion\")"
   ]
  },
  {
   "cell_type": "code",
   "execution_count": 9,
   "id": "59bfa87c-7d6b-4a5e-8740-cda68a910e17",
   "metadata": {},
   "outputs": [
    {
     "data": {
      "image/png": "[encoded data removed]",
      "text/plain": [
       "<Figure size 432x288 with 1 Axes>"
      ]
     },
     "metadata": {
      "needs_background": "light"
     },
     "output_type": "display_data"
    }
   ],
   "source": [
    "pareto, pareto_indices = pareto_efficient(\n",
    "    all_experiments[[\"conversion\", \"de\"]].to_numpy()\n",
    ")\n",
    "pareto = pd.DataFrame(pareto).sort_values(0).to_numpy()\n",
    "ax = plt.subplot(111)\n",
    "ax.set_xlabel('Conversion (%)'); ax.set_ylabel('DE (%)')\n",
    "ax.scatter(all_experiments[\"conversion\"], all_experiments[\"de\"], marker='x')\n",
    "ax.plot(pareto[:, 0], pareto[:, 1], c='y', label='pareto front')\n",
    "ax.legend()\n",
    "ax.tick_params(direction='in')\n",
    "# plt.savefig('outputs/solvent_optimization_experiment_space.png')\n",
    "# plt.savefig('outputs/solvent_optimization_experiment_space.svg')"
   ]
  },
  {
   "cell_type": "markdown",
   "id": "9d65861a-7b13-4364-8dd4-0025d0590fa8",
   "metadata": {},
   "source": [
    "## Optimization"
   ]
  },
  {
   "cell_type": "code",
   "execution_count": 10,
   "id": "8eae954c-c33d-4088-ac72-4de60d61df4b",
   "metadata": {},
   "outputs": [
    {
     "data": {
      "text/html": [
       "\n",
       "    <div>\n",
       "        <style>\n",
       "            /* Turns off some styling */\n",
       "            progress {\n",
       "                /* gets rid of default border in Firefox and Opera. */\n",
       "                border: none;\n",
       "                /* Needs to be in here for Safari polyfill so background images work as expected. */\n",
       "                background-size: auto;\n",
       "            }\n",
       "            .progress-bar-interrupted, .progress-bar-interrupted::-webkit-progress-bar {\n",
       "                background: #F44336;\n",
       "            }\n",
       "        </style>\n",
       "      <progress value='10' class='' max='10' style='width:300px; height:20px; vertical-align: middle;'></progress>\n",
       "      100.00% [10/10 00:13<00:00]\n",
       "    </div>\n",
       "    "
      ],
      "text/plain": [
       "<IPython.core.display.HTML object>"
      ]
     },
     "metadata": {},
     "output_type": "display_data"
    }
   ],
   "source": [
    "random_state = np.random.RandomState(100)\n",
    "exp = StereoSelectiveReaction(\n",
    "    solvent_ds_pcs.iloc[:50], random_state, use_descriptors=False\n",
    ")\n",
    "strategy = TSEMO(exp.domain, n_spectral_points=100)\n",
    "r = Runner(strategy=strategy, experiment=exp, max_iterations=10, batch_size=10)\n",
    "r.run()"
   ]
  },
  {
   "cell_type": "code",
   "execution_count": 12,
   "id": "39d90e26-b479-4bbe-a2b8-2c1280dd8371",
   "metadata": {},
   "outputs": [
    {
     "name": "stderr",
     "output_type": "stream",
     "text": [
      " /Users/Kobi/Library/Caches/pypoetry/virtualenvs/multitask-k0YbXS9f-py3.9/lib/python3.9/site-packages/summit/experiment.py:234: UserWarning:No data for colormapping provided via 'c'. Parameters 'cmap' will be ignored\n"
     ]
    },
    {
     "data": {
      "text/plain": [
       "(<Figure size 432x288 with 1 Axes>,\n",
       " <AxesSubplot: xlabel='conversion', ylabel='de'>)"
      ]
     },
     "execution_count": 12,
     "metadata": {},
     "output_type": "execute_result"
    },
    {
     "data": {
      "image/png": "[encoded data removed]",
      "text/plain": [
       "<Figure size 432x288 with 1 Axes>"
      ]
     },
     "metadata": {
      "needs_background": "light"
     },
     "output_type": "display_data"
    }
   ],
   "source": [
    "r.experiment.pareto_plot()"
   ]
  },
  {
   "cell_type": "code",
   "execution_count": null,
   "id": "eb9d04c3-8bf9-4a33-8c8a-2e2308df263d",
   "metadata": {},
   "outputs": [],
   "source": []
  }
 ],
 "metadata": {
  "kernelspec": {
   "display_name": "Multitask",
   "language": "python",
   "name": "multitask"
  },
  "language_info": {
   "codemirror_mode": {
    "name": "ipython",
    "version": 3
   },
   "file_extension": ".py",
   "mimetype": "text/x-python",
   "name": "python",
   "nbconvert_exporter": "python",
   "pygments_lexer": "ipython3",
   "version": "3.9.15"
  }
 },
 "nbformat": 4,
 "nbformat_minor": 5
}
