{
 "cells": [
  {
   "cell_type": "code",
   "execution_count": 120,
   "id": "acdec4eb-52d9-4f22-8a41-3fc8f6be0bd8",
   "metadata": {},
   "outputs": [],
   "source": [
    "from multitask.benchmarks.kinetic_models import(\n",
    "    StereoSelectiveReaction, \n",
    "    create_pcs_ds,\n",
    "    MultitaskKinetics\n",
    ")\n",
    "from multitask.strategies import NewSTBO, NewMTBO\n",
    "from summit import *\n",
    "from botorch.models import SingleTaskGP\n",
    "from gpytorch.kernels.matern_kernel import MaternKernel\n",
    "from gpytorch.kernels.scale_kernel import ScaleKernel\n",
    "import torch\n",
    "from botorch.fit import fit_gpytorch_model\n",
    "from botorch.optim import optimize_acqf, optimize_acqf_mixed\n",
    "from gpytorch.mlls.exact_marginal_log_likelihood import (\n",
    "    ExactMarginalLogLikelihood,\n",
    ")\n",
    "import matplotlib.pyplot as plt\n",
    "from sklearn.model_selection import train_test_split\n",
    "from sklearn.metrics import mean_absolute_error, mean_squared_error"
   ]
  },
  {
   "cell_type": "markdown",
   "id": "003aa218-554f-469e-a268-bd2612b0dee3",
   "metadata": {},
   "source": [
    "Matern/SE kernel w/ ARD for categorical * Matern/SE kernel with ARD for continuous"
   ]
  },
  {
   "cell_type": "code",
   "execution_count": 121,
   "id": "d11ee5c7-408d-47a6-b627-2e729c69a958",
   "metadata": {},
   "outputs": [],
   "source": [
    "device = \"cpu\"\n",
    "dtype = torch.double"
   ]
  },
  {
   "cell_type": "code",
   "execution_count": 122,
   "id": "e4ea0b3b-d9bc-4cc6-bbc4-630a8c4c8de1",
   "metadata": {},
   "outputs": [],
   "source": [
    "exp = MultitaskKinetics.load_yaml(\"case_1.yaml\")"
   ]
  },
  {
   "cell_type": "code",
   "execution_count": 123,
   "id": "1ebb1f47-f810-4f9d-a7b5-27108dcf2fa8",
   "metadata": {},
   "outputs": [],
   "source": [
    "strategy = LHS(exp.domain)\n",
    "conditions = strategy.suggest_experiments(96)\n",
    "results = exp.run_experiments(conditions)"
   ]
  },
  {
   "cell_type": "code",
   "execution_count": 124,
   "id": "dc911fdb-696b-4631-9231-fe0b8deb7a20",
   "metadata": {},
   "outputs": [],
   "source": [
    "transform = Transform(exp.domain)\n",
    "inputs, output = transform.transform_inputs_outputs(\n",
    "    results,\n",
    "    categorical_method=\"one-hot\",\n",
    "    # standardize_inputs=True,\n",
    "    min_max_scale_inputs=True,\n",
    "    standardize_outputs=True,\n",
    ")"
   ]
  },
  {
   "cell_type": "code",
   "execution_count": 125,
   "id": "fb604783-d0df-4b6c-a640-a0e46ec18d91",
   "metadata": {},
   "outputs": [],
   "source": [
    "X = torch.tensor(\n",
    "    inputs.data_to_numpy().astype(float),\n",
    "    device=device,\n",
    "    dtype=dtype,\n",
    ")\n",
    "y = torch.tensor(\n",
    "    output.data_to_numpy().astype(float),\n",
    "    device=device,\n",
    "    dtype=dtype,\n",
    ")\n",
    "input_batch_shape, batch_shape = SingleTaskGP.get_batch_dimensions(X, y)"
   ]
  },
  {
   "cell_type": "code",
   "execution_count": 126,
   "id": "19ad7c59-e2e6-44ed-aed3-ed1c307a6f8c",
   "metadata": {},
   "outputs": [],
   "source": [
    "train_X, test_X, train_y, test_y = train_test_split(X, y)"
   ]
  },
  {
   "cell_type": "code",
   "execution_count": null,
   "id": "1d7d6f83-2cee-4bd9-9ba3-0add012b9da8",
   "metadata": {},
   "outputs": [],
   "source": [
    "def train_score_model(X, y kernel):"
   ]
  },
  {
   "cell_type": "code",
   "execution_count": 127,
   "id": "c12b2583-3d9e-4115-bc91-c2a180ec6b53",
   "metadata": {},
   "outputs": [],
   "source": [
    "cat_dims = list(range(13))\n",
    "ord_dims = [13,14,15]"
   ]
  },
  {
   "cell_type": "code",
   "execution_count": 128,
   "id": "92689742-70b4-4d18-8f7d-1fa9b7e96516",
   "metadata": {},
   "outputs": [],
   "source": [
    "sum_kernel = ScaleKernel(\n",
    "    MaternKernel(\n",
    "        nu=2.5,\n",
    "        batch_shape=batch_shape,\n",
    "        ard_num_dims=len(ord_dims),\n",
    "        active_dims=ord_dims,\n",
    "    )\n",
    "    + MaternKernel(\n",
    "        nu=2.5,\n",
    "        batch_shape=batch_shape,\n",
    "        ard_num_dims=len(cat_dims),\n",
    "        active_dims=cat_dims,\n",
    "    )\n",
    ")\n",
    "prod_kernel = ScaleKernel(\n",
    "    MaternKernel(\n",
    "        nu=2.5,\n",
    "        batch_shape=batch_shape,\n",
    "        ard_num_dims=len(ord_dims),\n",
    "        active_dims=ord_dims,\n",
    "    )\n",
    "    * MaternKernel(\n",
    "        nu=2.5,\n",
    "        batch_shape=batch_shape,\n",
    "        ard_num_dims=len(cat_dims),\n",
    "        active_dims=cat_dims,\n",
    "    )\n",
    ")\n",
    "covar_module = sum_kernel +  prod_kernel"
   ]
  },
  {
   "cell_type": "code",
   "execution_count": 129,
   "id": "11b97498-d350-47fc-a267-b54c801061eb",
   "metadata": {},
   "outputs": [
    {
     "data": {
      "text/plain": [
       "ExactMarginalLogLikelihood(\n",
       "  (likelihood): GaussianLikelihood(\n",
       "    (noise_covar): HomoskedasticNoise(\n",
       "      (noise_prior): GammaPrior()\n",
       "      (raw_noise_constraint): GreaterThan(1.000E-04)\n",
       "    )\n",
       "  )\n",
       "  (model): SingleTaskGP(\n",
       "    (likelihood): GaussianLikelihood(\n",
       "      (noise_covar): HomoskedasticNoise(\n",
       "        (noise_prior): GammaPrior()\n",
       "        (raw_noise_constraint): GreaterThan(1.000E-04)\n",
       "      )\n",
       "    )\n",
       "    (mean_module): ConstantMean()\n",
       "    (covar_module): ScaleKernel(\n",
       "      (base_kernel): MaternKernel(\n",
       "        (lengthscale_prior): GammaPrior()\n",
       "        (raw_lengthscale_constraint): Positive()\n",
       "        (distance_module): Distance()\n",
       "      )\n",
       "      (outputscale_prior): GammaPrior()\n",
       "      (raw_outputscale_constraint): Positive()\n",
       "    )\n",
       "  )\n",
       ")"
      ]
     },
     "execution_count": 129,
     "metadata": {},
     "output_type": "execute_result"
    }
   ],
   "source": [
    "model = SingleTaskGP(train_X, train_y)\n",
    "mll = ExactMarginalLogLikelihood(model.likelihood, model)\n",
    "fit_gpytorch_model(mll, max_retries=20)"
   ]
  },
  {
   "cell_type": "code",
   "execution_count": 130,
   "id": "8033d201-d2d7-4e1a-a400-b3241d69ce8e",
   "metadata": {},
   "outputs": [
    {
     "data": {
      "text/plain": [
       "<matplotlib.legend.Legend at 0x28e43e7c0>"
      ]
     },
     "execution_count": 130,
     "metadata": {},
     "output_type": "execute_result"
    },
    {
     "data": {
      "image/png": "[encoded data removed]",
      "text/plain": [
       "<Figure size 432x288 with 1 Axes>"
      ]
     },
     "metadata": {
      "needs_background": "light"
     },
     "output_type": "display_data"
    }
   ],
   "source": [
    "fig, ax = plt.subplots(1, figsize=(6,4))\n",
    "labels = [\"train\", \"test\"]\n",
    "for i, xi in enumerate([train_X, test_X]):\n",
    "    with torch.no_grad():\n",
    "        posterior = model.posterior(X)\n",
    "        samples = [posterior.sample() for i in range(100)]\n",
    "    samples = torch.stack(samples).squeeze()\n",
    "    pred_mean, pred_std = transform.output_means[\"yld\"], transform.output_stds[\"yld\"]\n",
    "    samples = samples*pred_std + pred_mean\n",
    "    samples_mean = samples.mean(axis=0)\n",
    "    samples_std = samples.std(axis=0)\n",
    "\n",
    "    mae = mean_absolute_error(results[\"yld\"], samples_mean)\n",
    "    rmse = mean_squared_error(results[\"yld\"], samples_mean)**(0.5)\n",
    "    ax.errorbar(\n",
    "        results[\"yld\"],\n",
    "        samples_mean,\n",
    "        yerr=1.96*samples_std,\n",
    "        label=f\"{labels[i]}, MAE={mae:.02f}, RMSE={rmse:0.02f}\",\n",
    "        linewidth=0,\n",
    "        marker=\"o\",\n",
    "        markersize=8,\n",
    "        elinewidth=0.2,\n",
    "        capsize=4.0,\n",
    "\n",
    "    )\n",
    "    \n",
    "ax.grid()\n",
    "# ax.errorbar(\n",
    "#     results[\"yld\"].iloc[-1],\n",
    "#     samples_mean[-1],\n",
    "#     yerr=1.96*samples_std[-1],\n",
    "#     label = \"Case B pred\",\n",
    "#     linewidth=0,\n",
    "#     marker=\"o\",\n",
    "#     markersize=8,\n",
    "#     elinewidth=0.2,\n",
    "#     capsize=5.0\n",
    "# )\n",
    "# ax.scatter(data[\"yld\"].iloc[23:], samples_mean[23:], label = \"Task B\", c=\"orange\")\n",
    "ax.plot([0,100],[0,100], label=\"Parity\", c=\"black\")\n",
    "ax.set_xlabel(\"Experiment\")\n",
    "ax.set_ylabel(\"Prediction\")\n",
    "ax.tick_params(direction=\"in\")\n",
    "ax.set_title(\"STBO\")\n",
    "ax.legend()"
   ]
  },
  {
   "cell_type": "code",
   "execution_count": null,
   "id": "bdd0dd5e-4861-45ba-b77f-32b211786078",
   "metadata": {},
   "outputs": [],
   "source": []
  }
 ],
 "metadata": {
  "kernelspec": {
   "display_name": "Multitask",
   "language": "python",
   "name": "multitask"
  },
  "language_info": {
   "codemirror_mode": {
    "name": "ipython",
    "version": 3
   },
   "file_extension": ".py",
   "mimetype": "text/x-python",
   "name": "python",
   "nbconvert_exporter": "python",
   "pygments_lexer": "ipython3",
   "version": "3.9.15"
  }
 },
 "nbformat": 4,
 "nbformat_minor": 5
}
