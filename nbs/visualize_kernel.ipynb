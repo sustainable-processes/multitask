{
 "cells": [
  {
   "cell_type": "code",
   "execution_count": 3,
   "metadata": {},
   "outputs": [],
   "source": [
    "from summit import *\n",
    "import matplotlib.pyplot as plt\n",
    "import numpy as np"
   ]
  },
  {
   "cell_type": "code",
   "execution_count": 2,
   "metadata": {},
   "outputs": [],
   "source": [
    "exp = SnarBenchmark()"
   ]
  },
  {
   "cell_type": "code",
   "execution_count": 4,
   "metadata": {},
   "outputs": [
    {
     "data": {
      "text/html": [
       "<table id='domain' width=100%><tr><td><b>Name</b></td><td><b>Type</b></td><td><b>Description</b></td><td><b>Values</b></td></tr><tr><td>tau</td><td>continuous, input</td><td>residence time in minutes</td><td>[0.5,2]</td></tr><tr><td>equiv_pldn</td><td>continuous, input</td><td>equivalents of pyrrolidine</td><td>[1.0,5]</td></tr><tr><td>conc_dfnb</td><td>continuous, input</td><td>concentration of 2,4 dinitrofluorobenenze at reactor inlet (after mixing) in M</td><td>[0.1,0.5]</td></tr><tr><td>temperature</td><td>continuous, input</td><td>Reactor temperature in degress celsius</td><td>[30,120]</td></tr><tr><td>sty</td><td>continuous, maximize objective</td><td>space time yield (kg/m^3/h)</td><td>[0,100]</td></tr><tr><td>e_factor</td><td>continuous, minimize objective</td><td>E-factor</td><td>[0,10]</td></tr></table>"
      ],
      "text/plain": [
       "<summit.domain.Domain at 0x7f92cf6b1b00>"
      ]
     },
     "execution_count": 4,
     "metadata": {},
     "output_type": "execute_result"
    }
   ],
   "source": [
    "exp.domain"
   ]
  },
  {
   "cell_type": "code",
   "execution_count": 7,
   "metadata": {},
   "outputs": [
    {
     "data": {
      "text/plain": [
       "array([ 30.  ,  41.25,  52.5 ,  63.75,  75.  ,  86.25,  97.5 , 108.75,\n",
       "       120.  ])"
      ]
     },
     "execution_count": 7,
     "metadata": {},
     "output_type": "execute_result"
    }
   ],
   "source": [
    "temps = np.linspace(30, 120, 9)\n",
    "temps"
   ]
  },
  {
   "cell_type": "code",
   "execution_count": 12,
   "metadata": {},
   "outputs": [],
   "source": [
    "res = [exp._integrate_equations(0.5, 2.5, 0.3, temp)[0] for temp in temps]\n"
   ]
  },
  {
   "cell_type": "code",
   "execution_count": 14,
   "metadata": {},
   "outputs": [
    {
     "data": {
      "text/plain": [
       "Text(0, 0.5, 'STY')"
      ]
     },
     "execution_count": 14,
     "metadata": {},
     "output_type": "execute_result"
    },
    {
     "data": {
      "image/png": "[encoded data removed]",
      "text/plain": [
       "<Figure size 432x288 with 1 Axes>"
      ]
     },
     "metadata": {
      "needs_background": "light"
     },
     "output_type": "display_data"
    }
   ],
   "source": [
    "plt.plot(temps, res)\n",
    "plt.xlabel(\"Temperature (deg C)\")\n",
    "plt.ylabel(\"STY\")"
   ]
  },
  {
   "cell_type": "markdown",
   "metadata": {},
   "source": [
    "## Prepare kinetic models"
   ]
  },
  {
   "cell_type": "markdown",
   "metadata": {},
   "source": [
    "## Compare different additive and multiplicative kernels"
   ]
  },
  {
   "cell_type": "markdown",
   "metadata": {},
   "source": [
    "## Compare categorical kernels"
   ]
  },
  {
   "cell_type": "markdown",
   "metadata": {},
   "source": [
    "## Understand the effect of noise"
   ]
  },
  {
   "cell_type": "markdown",
   "metadata": {},
   "source": []
  }
 ],
 "metadata": {
  "kernelspec": {
   "display_name": "Multitask",
   "language": "python",
   "name": "multitask"
  },
  "language_info": {
   "codemirror_mode": {
    "name": "ipython",
    "version": 3
   },
   "file_extension": ".py",
   "mimetype": "text/x-python",
   "name": "python",
   "nbconvert_exporter": "python",
   "pygments_lexer": "ipython3",
   "version": "3.9.12"
  }
 },
 "nbformat": 4,
 "nbformat_minor": 4
}
