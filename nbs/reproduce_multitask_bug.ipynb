{
 "cells": [
  {
   "cell_type": "code",
   "execution_count": 1,
   "metadata": {},
   "outputs": [],
   "source": [
    "from multitask import *\n",
    "import botorch\n",
    "from botorch.models import MultiTaskGP\n",
    "from gpytorch.mlls.exact_marginal_log_likelihood import ExactMarginalLogLikelihood\n",
    "import torch\n",
    "import matplotlib.pyplot as plt\n",
    "import numpy as np\n",
    "import pandas as pd\n",
    "from numpy.random import default_rng\n",
    "from sklearn.preprocessing import OneHotEncoder\n",
    "import random\n",
    "from pathlib import Path"
   ]
  },
  {
   "cell_type": "code",
   "execution_count": 2,
   "metadata": {},
   "outputs": [],
   "source": [
    "n_t1 = 10\n",
    "n_t2 = 20\n",
    "use_fixed_noise=False"
   ]
  },
  {
   "cell_type": "code",
   "execution_count": 3,
   "metadata": {},
   "outputs": [
    {
     "data": {
      "text/plain": [
       "array(['g', 'f', 'e', 'c', 'c', 'a', 'a', 'a', 'b', 'g'], dtype='<U1')"
      ]
     },
     "execution_count": 3,
     "metadata": {},
     "output_type": "execute_result"
    }
   ],
   "source": [
    "rng = default_rng(0)\n",
    "rng.choice([\"a\", \"b\", \"c\", \"d\", \"e\", \"f\", \"g\", \"h\"], n_t1)"
   ]
  },
  {
   "cell_type": "markdown",
   "metadata": {},
   "source": [
    "## Sample Function"
   ]
  },
  {
   "cell_type": "code",
   "execution_count": 4,
   "metadata": {},
   "outputs": [],
   "source": [
    "f1 = lambda X: torch.cos(5 * X[:, 0]) ** 2\n",
    "f2 = lambda X: 1.5 * torch.cos(5 * X[:, 0]) ** 2\n",
    "noise = 0.0\n",
    "gen_inputs = lambda n: torch.rand(n, 1)\n",
    "gen_obs = lambda X, f, noise: f(X) + noise * torch.rand(X.shape[0])"
   ]
  },
  {
   "cell_type": "code",
   "execution_count": 5,
   "metadata": {},
   "outputs": [],
   "source": [
    "## Data Generation\n",
    "X1, X2 = gen_inputs(n_t1), gen_inputs(n_t2)\n",
    "i1, i2 = torch.zeros(n_t1, 1), torch.ones(n_t2, 1)\n",
    "\n",
    "train_X = torch.cat([torch.cat([X1, i1], -1), torch.cat([X2, i2], -1)])\n",
    "\n",
    "train_Y_f1 = gen_obs(X1, f1, noise)\n",
    "train_Y_f2 = gen_obs(X2, f2, noise)\n",
    "train_Y = torch.cat([train_Y_f1, train_Y_f2]).unsqueeze(-1)\n",
    "train_Y_mean = train_Y.mean()\n",
    "train_Y_std = train_Y.std()\n",
    "train_Y_norm = (train_Y - train_Y_mean) / train_Y_std\n",
    "train_Yvar = noise * torch.rand(train_X.shape[0], 1)"
   ]
  },
  {
   "cell_type": "code",
   "execution_count": 6,
   "metadata": {},
   "outputs": [
    {
     "data": {
      "text/plain": [
       "ExactMarginalLogLikelihood(\n",
       "  (likelihood): GaussianLikelihood(\n",
       "    (noise_covar): HomoskedasticNoise(\n",
       "      (noise_prior): GammaPrior()\n",
       "      (raw_noise_constraint): GreaterThan(1.000E-04)\n",
       "    )\n",
       "  )\n",
       "  (model): MultiTaskGP(\n",
       "    (likelihood): GaussianLikelihood(\n",
       "      (noise_covar): HomoskedasticNoise(\n",
       "        (noise_prior): GammaPrior()\n",
       "        (raw_noise_constraint): GreaterThan(1.000E-04)\n",
       "      )\n",
       "    )\n",
       "    (mean_module): ConstantMean()\n",
       "    (covar_module): ScaleKernel(\n",
       "      (base_kernel): MaternKernel(\n",
       "        (lengthscale_prior): GammaPrior()\n",
       "        (raw_lengthscale_constraint): Positive()\n",
       "        (distance_module): Distance()\n",
       "      )\n",
       "      (outputscale_prior): GammaPrior()\n",
       "      (raw_outputscale_constraint): Positive()\n",
       "    )\n",
       "    (task_covar_module): IndexKernel(\n",
       "      (raw_var_constraint): Positive()\n",
       "    )\n",
       "  )\n",
       ")"
      ]
     },
     "execution_count": 6,
     "metadata": {},
     "output_type": "execute_result"
    }
   ],
   "source": [
    "### Model Training\n",
    "if not use_fixed_noise:\n",
    "    model = botorch.models.MultiTaskGP(train_X, train_Y_norm, task_feature=-1)\n",
    "else:\n",
    "    model = botorch.models.FixedNoiseMultiTaskGP(\n",
    "        train_X, train_Y_norm, train_Yvar, task_feature=-1\n",
    "    )\n",
    "mll = ExactMarginalLogLikelihood(model.likelihood, model)\n",
    "botorch.fit.fit_gpytorch_model(mll)"
   ]
  },
  {
   "cell_type": "code",
   "execution_count": 7,
   "metadata": {},
   "outputs": [
    {
     "name": "stderr",
     "output_type": "stream",
     "text": [
      "/Users/Kobi/Library/Caches/pypoetry/virtualenvs/multitask-k0YbXS9f-py3.9/lib/python3.9/site-packages/gpytorch/lazy/lazy_tensor.py:1741: UserWarning: torch.triangular_solve is deprecated in favor of torch.linalg.solve_triangularand will be removed in a future PyTorch release.\n",
      "torch.linalg.solve_triangular has its arguments reversed and does not return a copy of one of the inputs.\n",
      "X = torch.triangular_solve(B, A).solution\n",
      "should be replaced with\n",
      "X = torch.linalg.solve_triangular(A, B). (Triggered internally at  /Users/distiller/project/pytorch/aten/src/ATen/native/BatchLinearAlgebra.cpp:1672.)\n",
      "  Linv = torch.triangular_solve(Eye, L, upper=False).solution\n",
      "/Users/Kobi/Library/Caches/pypoetry/virtualenvs/multitask-k0YbXS9f-py3.9/lib/python3.9/site-packages/gpytorch/utils/cholesky.py:38: NumericalWarning: A not p.d., added jitter of 1.0e-06 to the diagonal\n",
      "  warnings.warn(\n",
      "/Users/Kobi/Library/Caches/pypoetry/virtualenvs/multitask-k0YbXS9f-py3.9/lib/python3.9/site-packages/gpytorch/utils/cholesky.py:38: NumericalWarning: A not p.d., added jitter of 1.0e-05 to the diagonal\n",
      "  warnings.warn(\n",
      "/Users/Kobi/Library/Caches/pypoetry/virtualenvs/multitask-k0YbXS9f-py3.9/lib/python3.9/site-packages/gpytorch/utils/cholesky.py:38: NumericalWarning: A not p.d., added jitter of 1.0e-04 to the diagonal\n",
      "  warnings.warn(\n",
      "/Users/Kobi/Library/Caches/pypoetry/virtualenvs/multitask-k0YbXS9f-py3.9/lib/python3.9/site-packages/gpytorch/lazy/lazy_tensor.py:1687: NumericalWarning: Runtime Error when computing Cholesky decomposition: Matrix not positive definite after repeatedly adding jitter up to 1.0e-04.. Using symeig method.\n",
      "  warnings.warn(\n"
     ]
    },
    {
     "data": {
      "text/plain": [
       "<matplotlib.legend.Legend at 0x1678cb490>"
      ]
     },
     "execution_count": 7,
     "metadata": {},
     "output_type": "execute_result"
    },
    {
     "data": {
      "image/png": "[encoded data removed]",
      "text/plain": [
       "<Figure size 432x288 with 1 Axes>"
      ]
     },
     "metadata": {
      "needs_background": "light"
     },
     "output_type": "display_data"
    }
   ],
   "source": [
    "### Plotting\n",
    "fig, ax = plt.subplots(1)\n",
    "\n",
    "# Ground truth\n",
    "X_plot = np.atleast_2d(np.linspace(0, 1, 100)).T\n",
    "X_plot = torch.tensor(X_plot).float()\n",
    "ax.plot(X_plot, f1(X_plot), \"--\", label=\"Task 1\", alpha=1, c=\"r\")\n",
    "ax.plot(X_plot, f2(X_plot), \"--\", label=\"Task 2\", alpha=1, c=\"b\")\n",
    "\n",
    "# Observations\n",
    "ax.scatter(X1, train_Y_f1, c=\"r\")\n",
    "ax.scatter(X2, train_Y_f2, c=\"b\")\n",
    "\n",
    "# Posterior of model\n",
    "with torch.no_grad():\n",
    "    posterior = model.posterior(X_plot)\n",
    "    for i in range(100):\n",
    "        y = posterior.sample()[0, :, 0] * train_Y_std + train_Y_mean\n",
    "        ax.plot(X_plot, y, alpha=0.01, color=\"r\")\n",
    "    for i in range(100):\n",
    "        y = posterior.sample()[0, :, 1] * train_Y_std + train_Y_mean\n",
    "        ax.plot(X_plot, y, alpha=0.01, color=\"b\")\n",
    "\n",
    "# Plot formatting\n",
    "ax.legend(loc=\"best\")"
   ]
  },
  {
   "cell_type": "code",
   "execution_count": 12,
   "metadata": {},
   "outputs": [],
   "source": [
    "torch.save(model.state_dict(), \"test.pth\")"
   ]
  },
  {
   "cell_type": "markdown",
   "metadata": {},
   "source": [
    "## Mixed Multitask Model"
   ]
  },
  {
   "cell_type": "code",
   "execution_count": 24,
   "metadata": {},
   "outputs": [],
   "source": [
    "f1 = lambda X: X[:,1]*torch.cos(5 * X[:, 0]) ** 2\n",
    "f2 = lambda X: X[:,1]*1.5 * torch.cos(5 * X[:, 0]) ** 2\n",
    "gen_inputs_cat = lambda n, c: torch.cat([torch.rand(n, 1), torch.randint(high=c,size=(n,1))],dim=1) \n",
    "gen_inputs = lambda n: torch.rand(n, 1)\n",
    "gen_obs = lambda X, f, noise: f(X) + noise * torch.rand(X.shape[0])"
   ]
  },
  {
   "cell_type": "code",
   "execution_count": 25,
   "metadata": {},
   "outputs": [],
   "source": [
    "## Data Generation\n",
    "\n",
    "X1, X2 = gen_inputs_cat(n_t1, 5), gen_inputs_cat(n_t2,5)\n",
    "i1, i2 = torch.zeros(n_t1, 1), torch.ones(n_t2, 1)\n",
    "\n",
    "train_X = torch.cat([torch.cat([X1, i1], -1), torch.cat([X2, i2], -1)])\n",
    "\n",
    "train_Y_f1 = gen_obs(X1, f1, noise)\n",
    "train_Y_f2 = gen_obs(X2, f2, noise)\n",
    "train_Y = torch.cat([train_Y_f1, train_Y_f2]).unsqueeze(-1)\n",
    "train_Y_mean = train_Y.mean()\n",
    "train_Y_std = train_Y.std()\n",
    "train_Y_norm = (train_Y - train_Y_mean) / train_Y_std\n",
    "train_Yvar = noise * torch.rand(train_X.shape[0], 1)"
   ]
  },
  {
   "cell_type": "code",
   "execution_count": 27,
   "metadata": {},
   "outputs": [
    {
     "name": "stderr",
     "output_type": "stream",
     "text": [
      "/Users/Kobi/Library/Caches/pypoetry/virtualenvs/multitask-k0YbXS9f-py3.9/lib/python3.9/site-packages/botorch/fit.py:128: NumericalWarning: A not p.d., added jitter of 1.0e-06 to the diagonal\n",
      "  warnings.warn(w.message, w.category)\n",
      "/Users/Kobi/Library/Caches/pypoetry/virtualenvs/multitask-k0YbXS9f-py3.9/lib/python3.9/site-packages/botorch/fit.py:128: NumericalWarning: A not p.d., added jitter of 1.0e-05 to the diagonal\n",
      "  warnings.warn(w.message, w.category)\n"
     ]
    },
    {
     "data": {
      "text/plain": [
       "ExactMarginalLogLikelihood(\n",
       "  (likelihood): GaussianLikelihood(\n",
       "    (noise_covar): HomoskedasticNoise(\n",
       "      (noise_prior): GammaPrior()\n",
       "      (raw_noise_constraint): GreaterThan(1.000E-05)\n",
       "    )\n",
       "  )\n",
       "  (model): MixedMultiTaskGP(\n",
       "    (likelihood): GaussianLikelihood(\n",
       "      (noise_covar): HomoskedasticNoise(\n",
       "        (noise_prior): GammaPrior()\n",
       "        (raw_noise_constraint): GreaterThan(1.000E-05)\n",
       "      )\n",
       "    )\n",
       "    (mean_module): ConstantMean()\n",
       "    (covar_module): AdditiveKernel(\n",
       "      (kernels): ModuleList(\n",
       "        (0): ScaleKernel(\n",
       "          (base_kernel): AdditiveKernel(\n",
       "            (kernels): ModuleList(\n",
       "              (0): MaternKernel(\n",
       "                (raw_lengthscale_constraint): Positive()\n",
       "                (distance_module): Distance()\n",
       "              )\n",
       "              (1): ScaleKernel(\n",
       "                (base_kernel): CategoricalKernel(\n",
       "                  (raw_lengthscale_constraint): Positive()\n",
       "                )\n",
       "                (raw_outputscale_constraint): Positive()\n",
       "              )\n",
       "            )\n",
       "          )\n",
       "          (raw_outputscale_constraint): Positive()\n",
       "        )\n",
       "        (1): ScaleKernel(\n",
       "          (base_kernel): ProductKernel(\n",
       "            (kernels): ModuleList(\n",
       "              (0): MaternKernel(\n",
       "                (raw_lengthscale_constraint): Positive()\n",
       "                (distance_module): Distance()\n",
       "              )\n",
       "              (1): CategoricalKernel(\n",
       "                (raw_lengthscale_constraint): Positive()\n",
       "              )\n",
       "            )\n",
       "          )\n",
       "          (raw_outputscale_constraint): Positive()\n",
       "        )\n",
       "      )\n",
       "    )\n",
       "    (task_covar_module): IndexKernel(\n",
       "      (raw_var_constraint): Positive()\n",
       "    )\n",
       "  )\n",
       ")"
      ]
     },
     "execution_count": 27,
     "metadata": {},
     "output_type": "execute_result"
    }
   ],
   "source": [
    "### Model Training\n",
    "model = MixedMultiTaskGP(train_X, train_Y_norm, task_feature=-1, cat_dims=[1])\n",
    "mll = ExactMarginalLogLikelihood(model.likelihood, model)\n",
    "botorch.fit.fit_gpytorch_model(mll)"
   ]
  },
  {
   "cell_type": "code",
   "execution_count": 29,
   "metadata": {},
   "outputs": [],
   "source": [
    "torch.save(model.state_dict(), \"test.pth\")"
   ]
  },
  {
   "cell_type": "markdown",
   "metadata": {
    "tags": []
   },
   "source": [
    "## Check Suzuki"
   ]
  },
  {
   "cell_type": "code",
   "execution_count": 29,
   "metadata": {},
   "outputs": [],
   "source": [
    "exp = SuzukiEmulator.load(model_name=\"baumgartner_suzuki\", save_dir=\"../data/baumgartner_suzuki/emulator\")\n",
    "ct_data_paths = [Path(\"../data/reizman_suzuki/ord/reizman_suzuki_case_1.pb\")]\n",
    "ds_list = [\n",
    "    get_suzuki_dataset(\n",
    "        ct_data_path,\n",
    "        split_catalyst=exp.split_catalyst,\n",
    "        print_warnings=False,\n",
    "    )\n",
    "    for ct_data_path in ct_data_paths\n",
    "]\n",
    "for i, ds in enumerate(ds_list):\n",
    "    ds[\"task\", \"METADATA\"] = i\n",
    "big_ds = pd.concat(ds_list)"
   ]
  },
  {
   "cell_type": "code",
   "execution_count": 36,
   "metadata": {},
   "outputs": [
    {
     "data": {
      "text/plain": [
       "0.2664000138745991"
      ]
     },
     "execution_count": 36,
     "metadata": {},
     "output_type": "execute_result"
    }
   ],
   "source": [
    "big_ds[\"reagent_concentration\"].max()"
   ]
  },
  {
   "cell_type": "code",
   "execution_count": 37,
   "metadata": {},
   "outputs": [
    {
     "data": {
      "text/plain": [
       "0.13916418346601325"
      ]
     },
     "execution_count": 37,
     "metadata": {},
     "output_type": "execute_result"
    }
   ],
   "source": [
    "big_ds[\"reagent_concentration\"].min()"
   ]
  },
  {
   "cell_type": "code",
   "execution_count": null,
   "metadata": {},
   "outputs": [],
   "source": []
  }
 ],
 "metadata": {
  "kernelspec": {
   "display_name": "Multitask",
   "language": "python",
   "name": "multitask"
  },
  "language_info": {
   "codemirror_mode": {
    "name": "ipython",
    "version": 3
   },
   "file_extension": ".py",
   "mimetype": "text/x-python",
   "name": "python",
   "nbconvert_exporter": "python",
   "pygments_lexer": "ipython3",
   "version": "3.9.12"
  }
 },
 "nbformat": 4,
 "nbformat_minor": 4
}
