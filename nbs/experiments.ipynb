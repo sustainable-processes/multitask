{
 "cells": [
  {
   "cell_type": "markdown",
   "metadata": {
    "id": "qhs_AuZVR_eq"
   },
   "source": [
    "# Optimization\n",
    "\n",
    "From the menu above, select \"Runtime\" -> \"Run All\".\n",
    "\n",
    "If you've already run this noteboook recently, click on \"Single Task Optimization\", then click \"Runtime\" -> \"Run After.\""
   ]
  },
  {
   "cell_type": "markdown",
   "metadata": {
    "id": "Dr0gJ_ceQ2o0",
    "tags": []
   },
   "source": [
    "## Setup"
   ]
  },
  {
   "cell_type": "code",
   "execution_count": 1,
   "metadata": {},
   "outputs": [],
   "source": [
    "%load_ext autoreload\n",
    "%autoreload 2"
   ]
  },
  {
   "cell_type": "code",
   "execution_count": 2,
   "metadata": {
    "id": "s0S8PEvEaeRY"
   },
   "outputs": [],
   "source": [
    "from summit import *\n",
    "from multitask import *\n",
    "import pandas as pd"
   ]
  },
  {
   "cell_type": "markdown",
   "metadata": {
    "id": "_d0cy56EQ-Aq"
   },
   "source": [
    "## Single Task Optimization\n",
    "\n",
    "Import data"
   ]
  },
  {
   "cell_type": "code",
   "execution_count": 3,
   "metadata": {
    "colab": {
     "base_uri": "https://localhost:8080/",
     "height": 90,
     "resources": {
      "http://localhost:8080/nbextensions/google.colab/files.js": {
       "data": "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",
       "headers": [
        [
         "content-type",
         "application/javascript"
        ]
       ],
       "ok": true,
       "status": 200,
       "status_text": ""
      }
     }
    },
    "id": "vUMtOAORcmt1",
    "outputId": "995c3598-03f6-4138-d5b1-a6de62eafbed"
   },
   "outputs": [],
   "source": [
    "df = pd.read_csv(\"../data/experiments/cyclopentanol_experiments.csv\")"
   ]
  },
  {
   "cell_type": "code",
   "execution_count": 4,
   "metadata": {
    "cellView": "form",
    "colab": {
     "base_uri": "https://localhost:8080/"
    },
    "id": "hZ61_7tty0oX",
    "outputId": "b45d0d51-ff98-42cf-90d4-7c3a934037c8"
   },
   "outputs": [],
   "source": [
    "num_experiments = 1"
   ]
  },
  {
   "cell_type": "markdown",
   "metadata": {
    "id": "IZ_8_z_QQEiF"
   },
   "source": [
    "### Generate Suggestions"
   ]
  },
  {
   "cell_type": "code",
   "execution_count": 5,
   "metadata": {
    "colab": {
     "base_uri": "https://localhost:8080/",
     "height": 771
    },
    "id": "RXTbDBzCzoM5",
    "outputId": "d9bc6ea7-341f-4d29-aa44-f6f4fcff351f"
   },
   "outputs": [
    {
     "data": {
      "text/html": [
       "<div>\n",
       "<style scoped>\n",
       "    .dataframe tbody tr th:only-of-type {\n",
       "        vertical-align: middle;\n",
       "    }\n",
       "\n",
       "    .dataframe tbody tr th {\n",
       "        vertical-align: top;\n",
       "    }\n",
       "\n",
       "    .dataframe thead th {\n",
       "        text-align: right;\n",
       "    }\n",
       "</style>\n",
       "<table border=\"1\" class=\"dataframe\">\n",
       "  <thead>\n",
       "    <tr style=\"text-align: right;\">\n",
       "      <th></th>\n",
       "      <th>Type</th>\n",
       "      <th>Solvent</th>\n",
       "      <th>Ligand</th>\n",
       "      <th>ResT</th>\n",
       "      <th>Temp</th>\n",
       "      <th>Mol</th>\n",
       "      <th>yld</th>\n",
       "      <th>SM area</th>\n",
       "      <th>Product area</th>\n",
       "      <th>Biphenyl area</th>\n",
       "      <th>SM conc</th>\n",
       "      <th>Product conc</th>\n",
       "    </tr>\n",
       "  </thead>\n",
       "  <tbody>\n",
       "    <tr>\n",
       "      <th>0</th>\n",
       "      <td>Training</td>\n",
       "      <td>DMA</td>\n",
       "      <td>DPPE</td>\n",
       "      <td>43</td>\n",
       "      <td>94</td>\n",
       "      <td>3</td>\n",
       "      <td>1.28</td>\n",
       "      <td>26148692</td>\n",
       "      <td>349719</td>\n",
       "      <td>1381224</td>\n",
       "      <td>0.979555</td>\n",
       "      <td>0.012732</td>\n",
       "    </tr>\n",
       "    <tr>\n",
       "      <th>1</th>\n",
       "      <td>Training</td>\n",
       "      <td>CPME</td>\n",
       "      <td>SPhos</td>\n",
       "      <td>39</td>\n",
       "      <td>188</td>\n",
       "      <td>4</td>\n",
       "      <td>6.13</td>\n",
       "      <td>20486247</td>\n",
       "      <td>1376756</td>\n",
       "      <td>1956733</td>\n",
       "      <td>0.541719</td>\n",
       "      <td>0.03538</td>\n",
       "    </tr>\n",
       "    <tr>\n",
       "      <th>2</th>\n",
       "      <td>Training</td>\n",
       "      <td>MeCN</td>\n",
       "      <td>DPPF</td>\n",
       "      <td>87</td>\n",
       "      <td>146</td>\n",
       "      <td>3</td>\n",
       "      <td>1.95</td>\n",
       "      <td>19477539</td>\n",
       "      <td>398988</td>\n",
       "      <td>870757</td>\n",
       "      <td>1.157391</td>\n",
       "      <td>0.023041</td>\n",
       "    </tr>\n",
       "    <tr>\n",
       "      <th>3</th>\n",
       "      <td>Training</td>\n",
       "      <td>MeCN</td>\n",
       "      <td>SPhos</td>\n",
       "      <td>114</td>\n",
       "      <td>90</td>\n",
       "      <td>5</td>\n",
       "      <td>1.28</td>\n",
       "      <td>22763771</td>\n",
       "      <td>303134</td>\n",
       "      <td>1277453</td>\n",
       "      <td>0.922024</td>\n",
       "      <td>0.011932</td>\n",
       "    </tr>\n",
       "    <tr>\n",
       "      <th>4</th>\n",
       "      <td>Training</td>\n",
       "      <td>THF</td>\n",
       "      <td>DPPF</td>\n",
       "      <td>55</td>\n",
       "      <td>134</td>\n",
       "      <td>1</td>\n",
       "      <td>4.51</td>\n",
       "      <td>11501266</td>\n",
       "      <td>558929</td>\n",
       "      <td>549474</td>\n",
       "      <td>1.083033</td>\n",
       "      <td>0.05115</td>\n",
       "    </tr>\n",
       "    <tr>\n",
       "      <th>5</th>\n",
       "      <td>Training</td>\n",
       "      <td>THF</td>\n",
       "      <td>XPhos</td>\n",
       "      <td>94</td>\n",
       "      <td>107</td>\n",
       "      <td>1</td>\n",
       "      <td>1.39</td>\n",
       "      <td>14675342</td>\n",
       "      <td>212567</td>\n",
       "      <td>799457</td>\n",
       "      <td>0.949809</td>\n",
       "      <td>0.01337</td>\n",
       "    </tr>\n",
       "    <tr>\n",
       "      <th>6</th>\n",
       "      <td>Training</td>\n",
       "      <td>CPME</td>\n",
       "      <td>XPhos</td>\n",
       "      <td>28</td>\n",
       "      <td>192</td>\n",
       "      <td>1</td>\n",
       "      <td>14.23</td>\n",
       "      <td>8677774</td>\n",
       "      <td>1481940</td>\n",
       "      <td>1687416</td>\n",
       "      <td>0.26609</td>\n",
       "      <td>0.044162</td>\n",
       "    </tr>\n",
       "    <tr>\n",
       "      <th>7</th>\n",
       "      <td>Training</td>\n",
       "      <td>CPME</td>\n",
       "      <td>XPhos</td>\n",
       "      <td>82</td>\n",
       "      <td>117</td>\n",
       "      <td>3</td>\n",
       "      <td>2.12</td>\n",
       "      <td>13591653</td>\n",
       "      <td>303444</td>\n",
       "      <td>785593</td>\n",
       "      <td>0.895195</td>\n",
       "      <td>0.019423</td>\n",
       "    </tr>\n",
       "    <tr>\n",
       "      <th>8</th>\n",
       "      <td>Training</td>\n",
       "      <td>DMA</td>\n",
       "      <td>DPPE</td>\n",
       "      <td>58</td>\n",
       "      <td>209</td>\n",
       "      <td>2</td>\n",
       "      <td>69.98</td>\n",
       "      <td>6036822</td>\n",
       "      <td>14481792</td>\n",
       "      <td>239634</td>\n",
       "      <td>1.303476</td>\n",
       "      <td>3.038868</td>\n",
       "    </tr>\n",
       "    <tr>\n",
       "      <th>9</th>\n",
       "      <td>Training</td>\n",
       "      <td>MeCN</td>\n",
       "      <td>XPhos</td>\n",
       "      <td>116</td>\n",
       "      <td>120</td>\n",
       "      <td>2</td>\n",
       "      <td>1.54</td>\n",
       "      <td>8335694</td>\n",
       "      <td>134341</td>\n",
       "      <td>449286</td>\n",
       "      <td>0.959979</td>\n",
       "      <td>0.015036</td>\n",
       "    </tr>\n",
       "    <tr>\n",
       "      <th>10</th>\n",
       "      <td>Training</td>\n",
       "      <td>THF</td>\n",
       "      <td>DPPE</td>\n",
       "      <td>23</td>\n",
       "      <td>197</td>\n",
       "      <td>4</td>\n",
       "      <td>6.48</td>\n",
       "      <td>36103791</td>\n",
       "      <td>2574779</td>\n",
       "      <td>2574779</td>\n",
       "      <td>0.725531</td>\n",
       "      <td>0.050285</td>\n",
       "    </tr>\n",
       "    <tr>\n",
       "      <th>11</th>\n",
       "      <td>Training</td>\n",
       "      <td>DMA</td>\n",
       "      <td>DPEPhos</td>\n",
       "      <td>72</td>\n",
       "      <td>104</td>\n",
       "      <td>5</td>\n",
       "      <td>1.36</td>\n",
       "      <td>18818018</td>\n",
       "      <td>266300</td>\n",
       "      <td>949030</td>\n",
       "      <td>1.025975</td>\n",
       "      <td>0.01411</td>\n",
       "    </tr>\n",
       "    <tr>\n",
       "      <th>12</th>\n",
       "      <td>Training</td>\n",
       "      <td>MeCN</td>\n",
       "      <td>SPhos</td>\n",
       "      <td>48</td>\n",
       "      <td>179</td>\n",
       "      <td>5</td>\n",
       "      <td>4.7</td>\n",
       "      <td>60435941</td>\n",
       "      <td>3065151</td>\n",
       "      <td>6852348</td>\n",
       "      <td>0.456351</td>\n",
       "      <td>0.022493</td>\n",
       "    </tr>\n",
       "    <tr>\n",
       "      <th>13</th>\n",
       "      <td>Training</td>\n",
       "      <td>DMA</td>\n",
       "      <td>DPEPhos</td>\n",
       "      <td>108</td>\n",
       "      <td>180</td>\n",
       "      <td>5</td>\n",
       "      <td>5.52</td>\n",
       "      <td>60775624</td>\n",
       "      <td>3656482</td>\n",
       "      <td>4857748</td>\n",
       "      <td>0.647348</td>\n",
       "      <td>0.03785</td>\n",
       "    </tr>\n",
       "    <tr>\n",
       "      <th>14</th>\n",
       "      <td>Training</td>\n",
       "      <td>CPME</td>\n",
       "      <td>DPEPhos</td>\n",
       "      <td>79</td>\n",
       "      <td>139</td>\n",
       "      <td>1</td>\n",
       "      <td>3.22</td>\n",
       "      <td>86614752</td>\n",
       "      <td>2963439</td>\n",
       "      <td>10544791</td>\n",
       "      <td>0.425008</td>\n",
       "      <td>0.014132</td>\n",
       "    </tr>\n",
       "    <tr>\n",
       "      <th>15</th>\n",
       "      <td>Training</td>\n",
       "      <td>THF</td>\n",
       "      <td>DPPF</td>\n",
       "      <td>34</td>\n",
       "      <td>171</td>\n",
       "      <td>3</td>\n",
       "      <td>20.16</td>\n",
       "      <td>39252703</td>\n",
       "      <td>10198861</td>\n",
       "      <td>3189033</td>\n",
       "      <td>0.636874</td>\n",
       "      <td>0.160817</td>\n",
       "    </tr>\n",
       "    <tr>\n",
       "      <th>16</th>\n",
       "      <td>Training</td>\n",
       "      <td>DMA</td>\n",
       "      <td>DPPE</td>\n",
       "      <td>117</td>\n",
       "      <td>93</td>\n",
       "      <td>3</td>\n",
       "      <td>2.4</td>\n",
       "      <td>0</td>\n",
       "      <td>0</td>\n",
       "      <td>0</td>\n",
       "      <td>0.0</td>\n",
       "      <td>0.0</td>\n",
       "    </tr>\n",
       "    <tr>\n",
       "      <th>17</th>\n",
       "      <td>Training</td>\n",
       "      <td>DMA</td>\n",
       "      <td>DPEPhos</td>\n",
       "      <td>28</td>\n",
       "      <td>93</td>\n",
       "      <td>3</td>\n",
       "      <td>1.3</td>\n",
       "      <td>0</td>\n",
       "      <td>0</td>\n",
       "      <td>0</td>\n",
       "      <td>0.0</td>\n",
       "      <td>0.0</td>\n",
       "    </tr>\n",
       "    <tr>\n",
       "      <th>18</th>\n",
       "      <td>Training</td>\n",
       "      <td>DMA</td>\n",
       "      <td>DPPE</td>\n",
       "      <td>43</td>\n",
       "      <td>186</td>\n",
       "      <td>3</td>\n",
       "      <td>3.37</td>\n",
       "      <td>0</td>\n",
       "      <td>0</td>\n",
       "      <td>0</td>\n",
       "      <td>0.0</td>\n",
       "      <td>0.0</td>\n",
       "    </tr>\n",
       "  </tbody>\n",
       "</table>\n",
       "</div>"
      ],
      "text/plain": [
       "NAME      Type Solvent   Ligand ResT Temp  Mol    yld   SM area Product area  \\\n",
       "TYPE      DATA    DATA     DATA DATA DATA DATA   DATA      DATA         DATA   \n",
       "0     Training     DMA     DPPE   43   94    3   1.28  26148692       349719   \n",
       "1     Training    CPME    SPhos   39  188    4   6.13  20486247      1376756   \n",
       "2     Training    MeCN     DPPF   87  146    3   1.95  19477539       398988   \n",
       "3     Training    MeCN    SPhos  114   90    5   1.28  22763771       303134   \n",
       "4     Training     THF     DPPF   55  134    1   4.51  11501266       558929   \n",
       "5     Training     THF    XPhos   94  107    1   1.39  14675342       212567   \n",
       "6     Training    CPME    XPhos   28  192    1  14.23   8677774      1481940   \n",
       "7     Training    CPME    XPhos   82  117    3   2.12  13591653       303444   \n",
       "8     Training     DMA     DPPE   58  209    2  69.98   6036822     14481792   \n",
       "9     Training    MeCN    XPhos  116  120    2   1.54   8335694       134341   \n",
       "10    Training     THF     DPPE   23  197    4   6.48  36103791      2574779   \n",
       "11    Training     DMA  DPEPhos   72  104    5   1.36  18818018       266300   \n",
       "12    Training    MeCN    SPhos   48  179    5    4.7  60435941      3065151   \n",
       "13    Training     DMA  DPEPhos  108  180    5   5.52  60775624      3656482   \n",
       "14    Training    CPME  DPEPhos   79  139    1   3.22  86614752      2963439   \n",
       "15    Training     THF     DPPF   34  171    3  20.16  39252703     10198861   \n",
       "16    Training     DMA     DPPE  117   93    3    2.4         0            0   \n",
       "17    Training     DMA  DPEPhos   28   93    3    1.3         0            0   \n",
       "18    Training     DMA     DPPE   43  186    3   3.37         0            0   \n",
       "\n",
       "NAME Biphenyl area   SM conc Product conc  \n",
       "TYPE          DATA      DATA         DATA  \n",
       "0          1381224  0.979555     0.012732  \n",
       "1          1956733  0.541719      0.03538  \n",
       "2           870757  1.157391     0.023041  \n",
       "3          1277453  0.922024     0.011932  \n",
       "4           549474  1.083033      0.05115  \n",
       "5           799457  0.949809      0.01337  \n",
       "6          1687416   0.26609     0.044162  \n",
       "7           785593  0.895195     0.019423  \n",
       "8           239634  1.303476     3.038868  \n",
       "9           449286  0.959979     0.015036  \n",
       "10         2574779  0.725531     0.050285  \n",
       "11          949030  1.025975      0.01411  \n",
       "12         6852348  0.456351     0.022493  \n",
       "13         4857748  0.647348      0.03785  \n",
       "14        10544791  0.425008     0.014132  \n",
       "15         3189033  0.636874     0.160817  \n",
       "16               0       0.0          0.0  \n",
       "17               0       0.0          0.0  \n",
       "18               0       0.0          0.0  "
      ]
     },
     "execution_count": 5,
     "metadata": {},
     "output_type": "execute_result"
    }
   ],
   "source": [
    "# Transform data\n",
    "categorical_columns = [\"Solvent\", \"Ligand\"]\n",
    "for col in categorical_columns:\n",
    "    df[col] = df[col].str.split(r\" \\(\\d\\)\", expand=True)[0]\n",
    "for col in df.columns:\n",
    "    if \"Unnamed\" in col:\n",
    "        df = df.drop(col, axis=1)\n",
    "df = df.rename(columns={\"ResT /min\": \"ResT\", \"Temp /°C\": \"Temp\", \"Mol% /%\": \"Mol\", \"Yield /%\": \"yld\"} )\n",
    "ds  = DataSet.from_df(df.dropna())\n",
    "ds"
   ]
  },
  {
   "cell_type": "code",
   "execution_count": 6,
   "metadata": {
    "colab": {
     "base_uri": "https://localhost:8080/",
     "height": 186
    },
    "id": "lAxfTnHLcf0t",
    "outputId": "6443017c-ebb8-4737-a823-a54edbd3f7da"
   },
   "outputs": [
    {
     "name": "stdout",
     "output_type": "stream",
     "text": [
      "Domain\n"
     ]
    },
    {
     "data": {
      "text/html": [
       "<table id='domain' width=100%><tr><td><b>Name</b></td><td><b>Type</b></td><td><b>Description</b></td><td><b>Values</b></td></tr><tr><td>Solvent</td><td>categorical, input</td><td>Solvent used for the reaction</td><td>5 levels</td></tr><tr><td>Ligand</td><td>categorical, input</td><td>Ligand used for the reaction</td><td>5 levels</td></tr><tr><td>ResT</td><td>continuous, input</td><td>Residence Time</td><td>[20,120]</td></tr><tr><td>Temp</td><td>continuous, input</td><td>Reaction temperature in deg C</td><td>[80,210]</td></tr><tr><td>Mol</td><td>continuous, input</td><td>Catalyst mol percent</td><td>[1,5]</td></tr><tr><td>yld</td><td>continuous, maximize objective</td><td>Reaction yield</td><td>[0,100]</td></tr></table>"
      ],
      "text/plain": [
       "<summit.domain.Domain at 0x167a432e0>"
      ]
     },
     "execution_count": 6,
     "metadata": {},
     "output_type": "execute_result"
    }
   ],
   "source": [
    "# Create domain\n",
    "domain = Domain()\n",
    "\n",
    "# Solvents: CPME, DMA, MeCN, THF, Chloroform\n",
    "# Ligand: DPPF, Sphos, Xphos, DPEPhos, DPPE\n",
    "# ResT: 20 - 120 mins\n",
    "# Temp: 80 - 210 deg\n",
    "# Mol%: 1 - 5%\n",
    "domain += CategoricalVariable(\n",
    "    \"Solvent\",\n",
    "    \"Solvent used for the reaction\", \n",
    "    levels=[\"CPME\", \"DMA\", \"MeCN\", \"THF\", \"Chloroform\"]\n",
    ")\n",
    "domain += CategoricalVariable(\n",
    "    \"Ligand\",\n",
    "    \"Ligand used for the reaction\",\n",
    "    levels=[\"DPPF\", \"SPhos\", \"XPhos\", \"DPEPhos\", \"DPPE\"]\n",
    ")\n",
    "domain += ContinuousVariable(\n",
    "    \"ResT\",\n",
    "    \"Residence Time\",\n",
    "    bounds=(20, 120)\n",
    ")\n",
    "domain += ContinuousVariable(\n",
    "    \"Temp\",\n",
    "    \"Reaction temperature in deg C\",\n",
    "    bounds=(80,210)\n",
    ")\n",
    "domain += ContinuousVariable(\n",
    "    \"Mol\",\n",
    "    \"Catalyst mol percent\",\n",
    "    bounds=(1,5)\n",
    ")\n",
    "domain += ContinuousVariable(\n",
    "    \"yld\",\n",
    "    \"Reaction yield\",\n",
    "    bounds=(0, 100),\n",
    "    is_objective=True,\n",
    "    maximize=True\n",
    ")\n",
    "print(\"Domain\")\n",
    "domain"
   ]
  },
  {
   "cell_type": "code",
   "execution_count": 7,
   "metadata": {},
   "outputs": [],
   "source": [
    "cat_mappings = {}\n",
    "cat_dimensions = []\n",
    "for i, v in enumerate(domain.input_variables):\n",
    "    if v.variable_type == \"categorical\":\n",
    "        cat_mapping = {l: i for i, l in enumerate(v.levels)}\n",
    "        cat_mappings[v.name] = cat_mapping\n",
    "        cat_dimensions.append(i)\n"
   ]
  },
  {
   "cell_type": "code",
   "execution_count": 8,
   "metadata": {},
   "outputs": [],
   "source": [
    "combos = domain.get_categorical_combinations()\n",
    "for v in domain.input_variables:\n",
    "    if v.variable_type == \"categorical\":\n",
    "        combos[v.name] = combos[v.name].replace(cat_mappings[v.name])"
   ]
  },
  {
   "cell_type": "code",
   "execution_count": 9,
   "metadata": {
    "colab": {
     "base_uri": "https://localhost:8080/",
     "height": 81
    },
    "id": "GxgTqC9hR2LX",
    "outputId": "30b28cab-f8cd-4761-eb86-89a94ebd1fea"
   },
   "outputs": [
    {
     "name": "stderr",
     "output_type": "stream",
     "text": [
      "/Users/Kobi/Documents/Research/phd_code/multitask/multitask/mt.py:735: UserWarning: Creating a tensor from a list of numpy.ndarrays is extremely slow. Please consider converting the list to a single numpy.ndarray with numpy.array() before converting to a tensor. (Triggered internally at  ../torch/csrc/utils/tensor_new.cpp:201.)\n",
      "  return torch.tensor(bounds).T.float()\n"
     ]
    },
    {
     "name": "stdout",
     "output_type": "stream",
     "text": [
      "> \u001b[0;32m/Users/Kobi/Documents/Research/phd_code/multitask/multitask/mt.py\u001b[0m(673)\u001b[0;36msuggest_experiments\u001b[0;34m()\u001b[0m\n",
      "\u001b[0;32m    672 \u001b[0;31m        \u001b[0mipdb\u001b[0m\u001b[0;34m.\u001b[0m\u001b[0mset_trace\u001b[0m\u001b[0;34m(\u001b[0m\u001b[0;34m)\u001b[0m\u001b[0;34m\u001b[0m\u001b[0;34m\u001b[0m\u001b[0m\n",
      "\u001b[0m\u001b[0;32m--> 673 \u001b[0;31m        \u001b[0;32mif\u001b[0m \u001b[0mself\u001b[0m\u001b[0;34m.\u001b[0m\u001b[0mcategorical_method\u001b[0m \u001b[0;32mis\u001b[0m \u001b[0;32mNone\u001b[0m\u001b[0;34m:\u001b[0m\u001b[0;34m\u001b[0m\u001b[0;34m\u001b[0m\u001b[0m\n",
      "\u001b[0m\u001b[0;32m    674 \u001b[0;31m            \u001b[0;32mfor\u001b[0m \u001b[0mi\u001b[0m\u001b[0;34m,\u001b[0m \u001b[0mv\u001b[0m \u001b[0;32min\u001b[0m \u001b[0menumerate\u001b[0m\u001b[0;34m(\u001b[0m\u001b[0mself\u001b[0m\u001b[0;34m.\u001b[0m\u001b[0mdomain\u001b[0m\u001b[0;34m.\u001b[0m\u001b[0minput_variables\u001b[0m\u001b[0;34m)\u001b[0m\u001b[0;34m:\u001b[0m\u001b[0;34m\u001b[0m\u001b[0;34m\u001b[0m\u001b[0m\n",
      "\u001b[0m\n"
     ]
    },
    {
     "name": "stdin",
     "output_type": "stream",
     "text": [
      "ipdb>  c\n"
     ]
    },
    {
     "data": {
      "text/html": [
       "<div>\n",
       "<style scoped>\n",
       "    .dataframe tbody tr th:only-of-type {\n",
       "        vertical-align: middle;\n",
       "    }\n",
       "\n",
       "    .dataframe tbody tr th {\n",
       "        vertical-align: top;\n",
       "    }\n",
       "\n",
       "    .dataframe thead th {\n",
       "        text-align: right;\n",
       "    }\n",
       "</style>\n",
       "<table border=\"1\" class=\"dataframe\">\n",
       "  <thead>\n",
       "    <tr style=\"text-align: right;\">\n",
       "      <th></th>\n",
       "      <th>Solvent</th>\n",
       "      <th>Ligand</th>\n",
       "      <th>ResT</th>\n",
       "      <th>Temp</th>\n",
       "      <th>Mol</th>\n",
       "      <th>strategy</th>\n",
       "    </tr>\n",
       "  </thead>\n",
       "  <tbody>\n",
       "    <tr>\n",
       "      <th>0</th>\n",
       "      <td>CPME</td>\n",
       "      <td>DPPF</td>\n",
       "      <td>120.0</td>\n",
       "      <td>210.0</td>\n",
       "      <td>1.0</td>\n",
       "      <td>STBO</td>\n",
       "    </tr>\n",
       "  </tbody>\n",
       "</table>\n",
       "</div>"
      ],
      "text/plain": [
       "NAME Solvent Ligand   ResT   Temp  Mol strategy\n",
       "TYPE    DATA   DATA   DATA   DATA DATA METADATA\n",
       "0       CPME   DPPF  120.0  210.0  1.0     STBO"
      ]
     },
     "execution_count": 9,
     "metadata": {},
     "output_type": "execute_result"
    }
   ],
   "source": [
    "strategy = NewSTBO(domain, categorical_method=None, brute_force_categorical=True)\n",
    "suggestions = strategy.suggest_experiments(int(num_experiments), prev_res=ds)\n",
    "suggestions = suggestions.round(0)\n",
    "suggestions"
   ]
  },
  {
   "cell_type": "markdown",
   "metadata": {
    "id": "hXmPqjY8RhZJ"
   },
   "source": [
    "### Download suggestions"
   ]
  }
 ],
 "metadata": {
  "colab": {
   "collapsed_sections": [],
   "name": "Multitask.ipynb",
   "provenance": []
  },
  "kernelspec": {
   "display_name": "Multitask",
   "language": "python",
   "name": "multitask"
  },
  "language_info": {
   "codemirror_mode": {
    "name": "ipython",
    "version": 3
   },
   "file_extension": ".py",
   "mimetype": "text/x-python",
   "name": "python",
   "nbconvert_exporter": "python",
   "pygments_lexer": "ipython3",
   "version": "3.9.10"
  }
 },
 "nbformat": 4,
 "nbformat_minor": 4
}
