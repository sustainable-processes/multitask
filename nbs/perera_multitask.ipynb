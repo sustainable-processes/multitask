{
 "cells": [
  {
   "cell_type": "markdown",
   "metadata": {},
   "source": [
    "# Perera Multitask Model"
   ]
  },
  {
   "cell_type": "code",
   "execution_count": 1,
   "metadata": {},
   "outputs": [],
   "source": [
    "%load_ext autoreload\n",
    "%autoreload 2"
   ]
  },
  {
   "cell_type": "code",
   "execution_count": 2,
   "metadata": {},
   "outputs": [],
   "source": [
    "from summit import *\n",
    "from multitask import *\n",
    "\n",
    "\n",
    "from botorch.models import MultiTaskGP\n",
    "from botorch.fit import fit_gpytorch_model\n",
    "from botorch.optim import optimize_acqf, optimize_acqf_mixed\n",
    "from gpytorch.mlls.exact_marginal_log_likelihood import (\n",
    "    ExactMarginalLogLikelihood,\n",
    ")\n",
    "\n",
    "\n",
    "import ord_schema\n",
    "from ord_schema import message_helpers, validations\n",
    "from ord_schema.proto.dataset_pb2 import *\n",
    "from ord_schema.proto.reaction_pb2 import *\n",
    "from ord_schema.message_helpers import find_submessages, get_reaction_smiles\n",
    "from ord_schema import units\n",
    "\n",
    "from rdkit import Chem\n",
    "import rdkit.Chem.rdChemReactions as react\n",
    "from pint import UnitRegistry\n",
    "\n",
    "from pathlib import Path\n",
    "from typing import Iterable\n",
    "import pandas as pd\n",
    "from copy import deepcopy"
   ]
  },
  {
   "cell_type": "markdown",
   "metadata": {},
   "source": [
    "## Load Data"
   ]
  },
  {
   "cell_type": "code",
   "execution_count": 3,
   "metadata": {},
   "outputs": [],
   "source": [
    "data_path = Path(\"../data\")\n",
    "perera_suzuki_path = data_path / \"perera_suzuki\" / \"ord\""
   ]
  },
  {
   "cell_type": "code",
   "execution_count": 4,
   "metadata": {},
   "outputs": [],
   "source": [
    "# Load datasets\n",
    "perera_datasets = [\n",
    "    message_helpers.load_message(\n",
    "        str(path), \n",
    "        dataset_pb2.Dataset\n",
    "    )\n",
    "    for path in perera_suzuki_path.glob(\"*.pb\")\n",
    "]"
   ]
  },
  {
   "cell_type": "code",
   "execution_count": 5,
   "metadata": {},
   "outputs": [],
   "source": [
    "def change_pd_acetate_representation(dataset: Dataset, copy=True):\n",
    "    if copy:\n",
    "        dataset = deepcopy(dataset)\n",
    "    for reaction in dataset.reactions:\n",
    "        inputs = reaction.inputs\n",
    "        for inp in inputs:\n",
    "            components = inputs[inp].components\n",
    "            for c in components:\n",
    "                if c is not None:\n",
    "                    if c.reaction_role == ReactionRole.CATALYST:\n",
    "                        for id_ in c.identifiers:\n",
    "                            if id_.type == CompoundIdentifier.SMILES:\n",
    "                                if \"CC(=O)[O-].CC(=O)[O-].[Pd+2]\" in id_.value:\n",
    "                                     id_.value = \"CC(=O)O[Pd]OC(=O)C\"\n",
    "    return dataset"
   ]
  },
  {
   "cell_type": "code",
   "execution_count": 6,
   "metadata": {},
   "outputs": [],
   "source": [
    "# Correct Pd acetate representation\n",
    "perera_datasets = [\n",
    "    change_pd_acetate_representation(dataset)\n",
    "    for dataset in perera_datasets\n",
    "]"
   ]
  },
  {
   "cell_type": "markdown",
   "metadata": {},
   "source": [
    "## Create Summit DataSets"
   ]
  },
  {
   "cell_type": "code",
   "execution_count": 15,
   "metadata": {},
   "outputs": [],
   "source": [
    "perera_ds_list = [\n",
    "    suzuki_reaction_to_dataframe(\n",
    "        dataset.reactions\n",
    "    )\n",
    "    for dataset in perera_datasets\n",
    "]"
   ]
  },
  {
   "cell_type": "code",
   "execution_count": 31,
   "metadata": {},
   "outputs": [],
   "source": [
    "# Remove non-phosphorus containing ligands\n",
    "# Which are just encoded as empty strings\n",
    "for i, df in enumerate(perera_ds_list):\n",
    "    perera_ds_list[i] = df[df[\"ligand_smiles\"] != \"\"]"
   ]
  },
  {
   "cell_type": "code",
   "execution_count": 16,
   "metadata": {},
   "outputs": [],
   "source": [
    "approved_ligands = [\n",
    "    'CC(C)Oc1cccc(OC(C)C)c1-c1ccccc1P(C1CCCCC1)C1CCCCC1',\n",
    "    'COc1cccc(OC)c1-c1ccccc1P(C1CCCCC1)C1CCCCC1',\n",
    "    'c1ccc(P(c2ccccc2)c2ccccc2)cc1', 'CC(C)(C)P(C(C)(C)C)C(C)(C)C',\n",
    "    'CC1(C)c2cccc(P(c3ccccc3)c3ccccc3)c2Oc2c(P(c3ccccc3)c3ccccc3)cccc21',\n",
    "    'C1CCC(P(C2CCCCC2)C2CCCCC2)CC1',\n",
    "    'CC(C)c1cc(C(C)C)c(-c2ccccc2P(C2CCCCC2)C2CCCCC2)c(C(C)C)c1'\n",
    "]"
   ]
  },
  {
   "cell_type": "code",
   "execution_count": 17,
   "metadata": {},
   "outputs": [
    {
     "name": "stdout",
     "output_type": "stream",
     "text": [
      "Number of unique ligands in DataSet: 12\n",
      "Matching approved ligands: 6\n"
     ]
    }
   ],
   "source": [
    "df = perera_ds_list[0]\n",
    "ligands = df[\"ligand_smiles\"].unique()\n",
    "print(f\"Number of unique ligands in DataSet: {len(ligands)}\")\n",
    "count = 0\n",
    "for ligand in ligands:\n",
    "    if ligand in approved_ligands:\n",
    "        count += 1\n",
    "print(f\"Matching approved ligands: {count}\")"
   ]
  },
  {
   "cell_type": "code",
   "execution_count": 18,
   "metadata": {},
   "outputs": [
    {
     "data": {
      "text/plain": [
       "                                                                                 32\n",
       "c1ccc(P(c2ccccc2)[c-]2cccc2)cc1                                                  32\n",
       "CC(C)(C)P(C(C)(C)C)C(C)(C)C                                                      32\n",
       "CC(C)(C)P([C]1[CH][CH][CH][CH]1)C(C)(C)C                                         32\n",
       "c1ccc(P(c2ccccc2)c2ccccc2)cc1                                                    32\n",
       "Cc1ccccc1P(c1ccccc1C)c1ccccc1C                                                   32\n",
       "CN(C)c1ccc(P(C(C)(C)C)C(C)(C)C)cc1                                               32\n",
       "CCCCP([C@]12C[C@H]3C[C@H](C[C@H](C3)C1)C2)[C@]12C[C@H]3C[C@H](C[C@H](C3)C1)C2    32\n",
       "CC(C)c1cc(C(C)C)c(-c2ccccc2P(C2CCCCC2)C2CCCCC2)c(C(C)C)c1                        32\n",
       "COc1cccc(OC)c1-c1ccccc1P(C1CCCCC1)C1CCCCC1                                       32\n",
       "C1CCC(P(C2CCCCC2)C2CCCCC2)CC1                                                    32\n",
       "CC1(C)c2cccc(P(c3ccccc3)c3ccccc3)c2Oc2c(P(c3ccccc3)c3ccccc3)cccc21               32\n",
       "Name: ligand_smiles, dtype: int64"
      ]
     },
     "execution_count": 18,
     "metadata": {},
     "output_type": "execute_result"
    }
   ],
   "source": [
    "df[\"ligand_smiles\"].value_counts()"
   ]
  },
  {
   "cell_type": "markdown",
   "metadata": {},
   "source": [
    "## Train Single Models"
   ]
  },
  {
   "cell_type": "markdown",
   "metadata": {},
   "source": [
    "## Train Multitask Model"
   ]
  }
 ],
 "metadata": {
  "kernelspec": {
   "display_name": "Multitask",
   "language": "python",
   "name": "multitask"
  },
  "language_info": {
   "codemirror_mode": {
    "name": "ipython",
    "version": 3
   },
   "file_extension": ".py",
   "mimetype": "text/x-python",
   "name": "python",
   "nbconvert_exporter": "python",
   "pygments_lexer": "ipython3",
   "version": "3.7.3"
  }
 },
 "nbformat": 4,
 "nbformat_minor": 4
}
