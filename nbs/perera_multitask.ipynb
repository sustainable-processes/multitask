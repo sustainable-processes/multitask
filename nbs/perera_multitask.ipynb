{
 "cells": [
  {
   "cell_type": "markdown",
   "metadata": {},
   "source": [
    "# Perera Multitask Model"
   ]
  },
  {
   "cell_type": "code",
   "execution_count": 1,
   "metadata": {},
   "outputs": [],
   "source": [
    "%load_ext autoreload\n",
    "%autoreload 2"
   ]
  },
  {
   "cell_type": "code",
   "execution_count": 2,
   "metadata": {},
   "outputs": [],
   "source": [
    "from summit import *\n",
    "from multitask import *\n",
    "\n",
    "\n",
    "from botorch.models import MultiTaskGP, SingleTaskGP, MixedSingleTaskGP\n",
    "from botorch.fit import fit_gpytorch_model\n",
    "from gpytorch.mlls.exact_marginal_log_likelihood import (\n",
    "    ExactMarginalLogLikelihood,\n",
    ")\n",
    "\n",
    "from sklearn.preprocessing import OrdinalEncoder, StandardScaler\n",
    "from sklearn.compose import ColumnTransformer\n",
    "from sklearn.model_selection import train_test_split\n",
    "\n",
    "import torch\n",
    "\n",
    "import ord_schema\n",
    "from ord_schema import message_helpers\n",
    "from ord_schema.proto.dataset_pb2 import *\n",
    "\n",
    "from rdkit import Chem\n",
    "\n",
    "import matplotlib.pyplot as plt\n",
    "from fastprogress import progress_bar\n",
    "from pathlib import Path\n",
    "from typing import Iterable\n",
    "import pandas as pd\n",
    "import numpy as np\n",
    "from numpy.random import default_rng\n",
    "from copy import deepcopy"
   ]
  },
  {
   "cell_type": "markdown",
   "metadata": {},
   "source": [
    "## Load Data"
   ]
  },
  {
   "cell_type": "code",
   "execution_count": 3,
   "metadata": {},
   "outputs": [],
   "source": [
    "data_path = Path(\"../data\")\n",
    "perera_suzuki_path = data_path / \"perera_suzuki\" / \"ord\""
   ]
  },
  {
   "cell_type": "code",
   "execution_count": 4,
   "metadata": {},
   "outputs": [],
   "source": [
    "# Load datasets\n",
    "perera_datasets = [\n",
    "    message_helpers.load_message(\n",
    "        str(path), \n",
    "        dataset_pb2.Dataset\n",
    "    )\n",
    "    for path in perera_suzuki_path.glob(\"*.pb\")\n",
    "]"
   ]
  },
  {
   "cell_type": "code",
   "execution_count": 5,
   "metadata": {},
   "outputs": [],
   "source": [
    "def change_pd_acetate_representation(dataset: Dataset, copy=True):\n",
    "    if copy:\n",
    "        dataset = deepcopy(dataset)\n",
    "    for reaction in dataset.reactions:\n",
    "        inputs = reaction.inputs\n",
    "        for inp in inputs:\n",
    "            components = inputs[inp].components\n",
    "            for c in components:\n",
    "                if c is not None:\n",
    "                    if c.reaction_role == ReactionRole.CATALYST:\n",
    "                        for id_ in c.identifiers:\n",
    "                            if id_.type == CompoundIdentifier.SMILES:\n",
    "                                if \"CC(=O)[O-].CC(=O)[O-].[Pd+2]\" in id_.value:\n",
    "                                     id_.value = \"CC(=O)O[Pd]OC(=O)C\"\n",
    "    return dataset"
   ]
  },
  {
   "cell_type": "code",
   "execution_count": 6,
   "metadata": {},
   "outputs": [],
   "source": [
    "# Correct Pd acetate representation\n",
    "perera_datasets = [\n",
    "    change_pd_acetate_representation(dataset)\n",
    "    for dataset in perera_datasets\n",
    "]"
   ]
  },
  {
   "cell_type": "markdown",
   "metadata": {},
   "source": [
    "## Create pandas dataframes"
   ]
  },
  {
   "cell_type": "code",
   "execution_count": 7,
   "metadata": {},
   "outputs": [],
   "source": [
    "perera_df_list = [\n",
    "    suzuki_reaction_to_dataframe(\n",
    "        dataset.reactions\n",
    "    )\n",
    "    for dataset in perera_datasets\n",
    "]"
   ]
  },
  {
   "cell_type": "code",
   "execution_count": 8,
   "metadata": {},
   "outputs": [],
   "source": [
    "approved_ligands = [\n",
    "    'CC(C)Oc1cccc(OC(C)C)c1-c1ccccc1P(C1CCCCC1)C1CCCCC1',\n",
    "    'COc1cccc(OC)c1-c1ccccc1P(C1CCCCC1)C1CCCCC1',\n",
    "    'c1ccc(P(c2ccccc2)c2ccccc2)cc1', 'CC(C)(C)P(C(C)(C)C)C(C)(C)C',\n",
    "    'CC1(C)c2cccc(P(c3ccccc3)c3ccccc3)c2Oc2c(P(c3ccccc3)c3ccccc3)cccc21',\n",
    "    'C1CCC(P(C2CCCCC2)C2CCCCC2)CC1',\n",
    "    'CC(C)c1cc(C(C)C)c(-c2ccccc2P(C2CCCCC2)C2CCCCC2)c(C(C)C)c1'\n",
    "]"
   ]
  },
  {
   "cell_type": "code",
   "execution_count": 9,
   "metadata": {},
   "outputs": [],
   "source": [
    "perera_df_list = [\n",
    "    df[df[\"ligand_smiles\"].isin(approved_ligands)]\n",
    "    for df in perera_df_list\n",
    "]"
   ]
  },
  {
   "cell_type": "code",
   "execution_count": 10,
   "metadata": {},
   "outputs": [],
   "source": [
    "perera_df_list = [\n",
    "    df.fillna(\"\")\n",
    "    for df in perera_df_list\n",
    "]"
   ]
  },
  {
   "cell_type": "code",
   "execution_count": 11,
   "metadata": {},
   "outputs": [
    {
     "name": "stdout",
     "output_type": "stream",
     "text": [
      "Number of unique ligands in DataSet: 6\n",
      "Matching approved ligands: 6\n"
     ]
    }
   ],
   "source": [
    "df = perera_df_list[0]\n",
    "ligands = df[\"ligand_smiles\"].unique()\n",
    "print(f\"Number of unique ligands in DataSet: {len(ligands)}\")\n",
    "count = 0\n",
    "for ligand in ligands:\n",
    "    if ligand in approved_ligands:\n",
    "        count += 1\n",
    "print(f\"Matching approved ligands: {count}\")"
   ]
  },
  {
   "cell_type": "code",
   "execution_count": 13,
   "metadata": {},
   "outputs": [
    {
     "data": {
      "text/plain": [
       "c1ccc(P(c2ccccc2)c2ccccc2)cc1                                         32\n",
       "CC(C)c1cc(C(C)C)c(-c2ccccc2P(C2CCCCC2)C2CCCCC2)c(C(C)C)c1             32\n",
       "CC(C)(C)P(C(C)(C)C)C(C)(C)C                                           32\n",
       "COc1cccc(OC)c1-c1ccccc1P(C1CCCCC1)C1CCCCC1                            32\n",
       "CC1(C)c2cccc(P(c3ccccc3)c3ccccc3)c2Oc2c(P(c3ccccc3)c3ccccc3)cccc21    32\n",
       "C1CCC(P(C2CCCCC2)C2CCCCC2)CC1                                         32\n",
       "Name: ligand_smiles, dtype: int64"
      ]
     },
     "execution_count": 13,
     "metadata": {},
     "output_type": "execute_result"
    }
   ],
   "source": [
    "df[\"ligand_smiles\"].value_counts()"
   ]
  },
  {
   "cell_type": "markdown",
   "metadata": {},
   "source": [
    "## Train Single Models"
   ]
  },
  {
   "cell_type": "code",
   "execution_count": 12,
   "metadata": {},
   "outputs": [],
   "source": [
    "# Transform inputs\n",
    "def get_ct():\n",
    "    continuous_features = [\n",
    "        \"catalyst_loading\",\n",
    "        \"ligand_ratio\",\n",
    "        \"temperature\",\n",
    "        \"time\"\n",
    "    ]\n",
    "    categorical_features = [\n",
    "        \"base_smiles\",\n",
    "        \"ligand_smiles\",\n",
    "        \"solvent\",\n",
    "    ]\n",
    "    transformers = []\n",
    "    transformers.append(\n",
    "        (\n",
    "            \"continuous\",\n",
    "            StandardScaler(),\n",
    "            continuous_features\n",
    "        )\n",
    "    )\n",
    "    transformers.append(\n",
    "        (\n",
    "            \"ordinal\",\n",
    "            OrdinalEncoder(),\n",
    "            categorical_features\n",
    "        )\n",
    "    )\n",
    "    return ColumnTransformer(transformers)"
   ]
  },
  {
   "cell_type": "code",
   "execution_count": 32,
   "metadata": {},
   "outputs": [],
   "source": [
    "def train_single_task_model(df, include_continuous=True):\n",
    "    continuous_features = [\n",
    "        \"catalyst_loading\",\n",
    "        \"ligand_ratio\",\n",
    "        \"temperature\",\n",
    "        \"time\"\n",
    "    ]\n",
    "    categorical_features = [\n",
    "        \"base_smiles\",\n",
    "        \"ligand_smiles\",\n",
    "        \"solvent\",\n",
    "    ]\n",
    "    features = categorical_features\n",
    "    if include_continuous:\n",
    "        features += continuous_features\n",
    "    features.append(\"yld\")\n",
    "    df = df.copy()[features]\n",
    "\n",
    "    if include_continuous:\n",
    "        input_transform = get_ct()\n",
    "    else:   \n",
    "        input_transform = OrdinalEncoder()\n",
    "        \n",
    "    train_X = input_transform.fit_transform(df)\n",
    "    output_scaler = StandardScaler()\n",
    "    train_y = output_scaler.fit_transform(df[[\"yld\"]])\n",
    "\n",
    "    model = MixedSingleTaskGP(\n",
    "        train_X=torch.tensor(train_X),\n",
    "        train_Y=torch.tensor(train_y),\n",
    "        cat_dims=[0,1,2]\n",
    "    )\n",
    "    mll = ExactMarginalLogLikelihood(model.likelihood, model)\n",
    "    fit_gpytorch_model(mll)\n",
    "    \n",
    "    return {\n",
    "        \"input_transform\": input_transform,\n",
    "        \"output_transform\": output_scaler,\n",
    "        \"train_X\": train_X,\n",
    "        \"train_y\": train_y,\n",
    "        \"model\": model\n",
    "    }"
   ]
  },
  {
   "cell_type": "code",
   "execution_count": 34,
   "metadata": {},
   "outputs": [
    {
     "data": {
      "text/html": [
       "\n",
       "    <div>\n",
       "        <style>\n",
       "            /* Turns off some styling */\n",
       "            progress {\n",
       "                /* gets rid of default border in Firefox and Opera. */\n",
       "                border: none;\n",
       "                /* Needs to be in here for Safari polyfill so background images work as expected. */\n",
       "                background-size: auto;\n",
       "            }\n",
       "            .progress-bar-interrupted, .progress-bar-interrupted::-webkit-progress-bar {\n",
       "                background: #F44336;\n",
       "            }\n",
       "        </style>\n",
       "      <progress value='15' class='' max='15' style='width:300px; height:20px; vertical-align: middle;'></progress>\n",
       "      100.00% [15/15 00:22<00:00]\n",
       "    </div>\n",
       "    "
      ],
      "text/plain": [
       "<IPython.core.display.HTML object>"
      ]
     },
     "metadata": {},
     "output_type": "display_data"
    }
   ],
   "source": [
    "# Categorical only\n",
    "results_categorical_only = [\n",
    "    train_single_task_model(df, include_continuous=False)\n",
    "    for df in progress_bar(perera_df_list)\n",
    "]"
   ]
  },
  {
   "cell_type": "code",
   "execution_count": 95,
   "metadata": {},
   "outputs": [
    {
     "data": {
      "text/html": [
       "\n",
       "    <div>\n",
       "        <style>\n",
       "            /* Turns off some styling */\n",
       "            progress {\n",
       "                /* gets rid of default border in Firefox and Opera. */\n",
       "                border: none;\n",
       "                /* Needs to be in here for Safari polyfill so background images work as expected. */\n",
       "                background-size: auto;\n",
       "            }\n",
       "            .progress-bar-interrupted, .progress-bar-interrupted::-webkit-progress-bar {\n",
       "                background: #F44336;\n",
       "            }\n",
       "        </style>\n",
       "      <progress value='15' class='' max='15' style='width:300px; height:20px; vertical-align: middle;'></progress>\n",
       "      100.00% [15/15 00:28<00:00]\n",
       "    </div>\n",
       "    "
      ],
      "text/plain": [
       "<IPython.core.display.HTML object>"
      ]
     },
     "metadata": {},
     "output_type": "display_data"
    }
   ],
   "source": [
    "# Categorical only\n",
    "results_categorical_continuous = [\n",
    "    train_single_task_model(df, include_continuous=True)\n",
    "    for df in progress_bar(perera_df_list)\n",
    "]"
   ]
  },
  {
   "cell_type": "code",
   "execution_count": 16,
   "metadata": {},
   "outputs": [],
   "source": [
    "def parity_plot(result: dict, ax: plt.Axes = None):\n",
    "    # Train resultss\n",
    "    model = result[\"model\"]\n",
    "    train_posterior = model.posterior(torch.tensor(result[\"train_X\"]))\n",
    "    train_y_pred_mean = train_posterior.mean.detach()\n",
    "    train_y_pred_std = train_posterior.variance.sqrt()\n",
    "    train_y_pred_mean = result[\"output_transform\"].inverse_transform(train_y_pred_mean)\n",
    "    train_y = result[\"output_transform\"].inverse_transform(result[\"train_y\"])\n",
    "    \n",
    "\n",
    "    # Plotting\n",
    "    if ax is None:\n",
    "        fig, ax = plt.subplots(1)\n",
    "    ax.plot([0,100], [0,100], \"--\")\n",
    "    ax.scatter(train_y, train_y_pred_mean)\n",
    "    ax.set_xlim(0,100)\n",
    "    ax.set_ylim(0,100)"
   ]
  },
  {
   "cell_type": "code",
   "execution_count": 35,
   "metadata": {},
   "outputs": [
    {
     "data": {
      "text/plain": [
       "Text(0.5, 0.98, 'Categorical only')"
      ]
     },
     "execution_count": 35,
     "metadata": {},
     "output_type": "execute_result"
    },
    {
     "data": {
      "image/png": "[encoded data removed]",
      "text/plain": [
       "<Figure size 720x720 with 15 Axes>"
      ]
     },
     "metadata": {
      "needs_background": "light"
     },
     "output_type": "display_data"
    }
   ],
   "source": [
    "fig = plt.figure(figsize=(10,10))\n",
    "fig.subplots_adjust(wspace=0.3, hspace=0.3)\n",
    "for i, result in enumerate(results_categorical_only):\n",
    "    ax = fig.add_subplot(5,3, i+1)\n",
    "    parity_plot(result, ax)\n",
    "fig.suptitle(\"Categorical only\")"
   ]
  },
  {
   "cell_type": "code",
   "execution_count": 97,
   "metadata": {},
   "outputs": [
    {
     "data": {
      "text/plain": [
       "Text(0.5, 0.98, 'Categorical + Continuous')"
      ]
     },
     "execution_count": 97,
     "metadata": {},
     "output_type": "execute_result"
    },
    {
     "data": {
      "image/png": "[encoded data removed]",
      "text/plain": [
       "<Figure size 720x720 with 15 Axes>"
      ]
     },
     "metadata": {
      "needs_background": "light"
     },
     "output_type": "display_data"
    }
   ],
   "source": [
    "fig = plt.figure(figsize=(10,10))\n",
    "fig.subplots_adjust(wspace=0.3, hspace=0.3)\n",
    "for i, result in enumerate(results_categorical_continuous):\n",
    "    ax = fig.add_subplot(5,3, i+1)\n",
    "    parity_plot(result, ax)\n",
    "fig.suptitle(\"Categorical + Continuous\")"
   ]
  },
  {
   "cell_type": "markdown",
   "metadata": {},
   "source": [
    "## Train Multitask Model"
   ]
  },
  {
   "cell_type": "code",
   "execution_count": 40,
   "metadata": {},
   "outputs": [
    {
     "name": "stderr",
     "output_type": "stream",
     "text": [
      "/Users/Kobi/Library/Caches/pypoetry/virtualenvs/multitask-z7ErTcQa-py3.7/lib/python3.7/site-packages/ipykernel_launcher.py:51: DeprecationWarning: `np.float` is a deprecated alias for the builtin `float`. To silence this warning, use `float` by itself. Doing this will not modify any behavior and is safe. If you specifically wanted the numpy scalar type, use `np.float64` here.\n",
      "Deprecated in NumPy 1.20; for more details and guidance: https://numpy.org/devdocs/release/1.20.0-notes.html#deprecations\n"
     ]
    },
    {
     "data": {
      "text/plain": [
       "ExactMarginalLogLikelihood(\n",
       "  (likelihood): GaussianLikelihood(\n",
       "    (noise_covar): HomoskedasticNoise(\n",
       "      (noise_prior): GammaPrior()\n",
       "      (raw_noise_constraint): GreaterThan(1.000E-06)\n",
       "    )\n",
       "  )\n",
       "  (model): MixedMultiTaskGP(\n",
       "    (likelihood): GaussianLikelihood(\n",
       "      (noise_covar): HomoskedasticNoise(\n",
       "        (noise_prior): GammaPrior()\n",
       "        (raw_noise_constraint): GreaterThan(1.000E-06)\n",
       "      )\n",
       "    )\n",
       "    (mean_module): ConstantMean()\n",
       "    (covar_module): AdditiveKernel(\n",
       "      (kernels): ModuleList(\n",
       "        (0): ScaleKernel(\n",
       "          (base_kernel): AdditiveKernel(\n",
       "            (kernels): ModuleList(\n",
       "              (0): MaternKernel(\n",
       "                (raw_lengthscale_constraint): Positive()\n",
       "                (distance_module): Distance()\n",
       "              )\n",
       "              (1): ScaleKernel(\n",
       "                (base_kernel): CategoricalKernel(\n",
       "                  (raw_lengthscale_constraint): Positive()\n",
       "                )\n",
       "                (raw_outputscale_constraint): Positive()\n",
       "              )\n",
       "            )\n",
       "          )\n",
       "          (raw_outputscale_constraint): Positive()\n",
       "        )\n",
       "        (1): ScaleKernel(\n",
       "          (base_kernel): ProductKernel(\n",
       "            (kernels): ModuleList(\n",
       "              (0): MaternKernel(\n",
       "                (raw_lengthscale_constraint): Positive()\n",
       "                (distance_module): Distance()\n",
       "              )\n",
       "              (1): CategoricalKernel(\n",
       "                (raw_lengthscale_constraint): Positive()\n",
       "              )\n",
       "            )\n",
       "          )\n",
       "          (raw_outputscale_constraint): Positive()\n",
       "        )\n",
       "      )\n",
       "    )\n",
       "    (task_covar_module): IndexKernel(\n",
       "      (raw_var_constraint): Positive()\n",
       "    )\n",
       "  )\n",
       ")"
      ]
     },
     "execution_count": 40,
     "metadata": {},
     "output_type": "execute_result"
    }
   ],
   "source": [
    "# Parameters\n",
    "task_number = 1\n",
    "df = perera_df_list[task_number]\n",
    "include_continuous=True\n",
    "\n",
    "# Choose ligand to hold out\n",
    "rng = default_rng(10)\n",
    "ligands = df[\"ligand_smiles\"].unique()\n",
    "hold_out_ligand = rng.choice(ligands)\n",
    "\n",
    "# Create train and test dataframes\n",
    "train_df = df[df[\"ligand_smiles\"] != hold_out_ligand]\n",
    "test_df = df[df[\"ligand_smiles\"] == hold_out_ligand]\n",
    "\n",
    "# Create multitask train df\n",
    "train_df = train_df.copy()\n",
    "train_df[\"task\"] = task_number\n",
    "for i, co_train_df  in enumerate(perera_df_list):\n",
    "    if i == task_number:\n",
    "        continue\n",
    "    co_train_df = co_train_df.copy()\n",
    "    co_train_df[\"task\"] = i\n",
    "    train_df = pd.concat([train_df, co_train_df])\n",
    "\n",
    "# Preprocessing\n",
    "categorical_features = [\n",
    "    \"ligand_smiles\",\n",
    "    \"base_smiles\",\n",
    "    \"solvent\",\n",
    "]\n",
    "continuous_features = [\n",
    "    \"catalyst_loading\",\n",
    "    \"ligand_ratio\",\n",
    "    \"temperature\",\n",
    "    \"time\"\n",
    "]\n",
    "\n",
    "features = deepcopy(categorical_features)\n",
    "if include_continuous:\n",
    "    features += continuous_features\n",
    "features.extend([\"yld\", \"task\"])\n",
    "train_df = train_df.copy()[features]\n",
    "\n",
    "if include_continuous:\n",
    "    input_transform = get_ct()\n",
    "else:   \n",
    "    input_transform = OrdinalEncoder()\n",
    "    \n",
    "train_X = input_transform.fit_transform(train_df[categorical_features+continuous_features])\n",
    "train_X = np.append(train_X, train_df[[\"task\"]], axis=1).astype(\n",
    "    np.float\n",
    ")\n",
    "output_scaler = StandardScaler()\n",
    "train_y = output_scaler.fit_transform(train_df[[\"yld\"]])\n",
    "\n",
    "\n",
    "# Train model\n",
    "model = MixedMultiTaskGP(\n",
    "    train_X=torch.tensor(train_X),\n",
    "    train_Y=torch.tensor(train_y),\n",
    "    task_feature=-1,\n",
    "    cat_dims=[0,1,2],\n",
    "    output_tasks=[task_number]\n",
    ")\n",
    "mll = ExactMarginalLogLikelihood(model.likelihood, model)\n",
    "fit_gpytorch_model(mll)"
   ]
  },
  {
   "cell_type": "code",
   "execution_count": null,
   "metadata": {},
   "outputs": [],
   "source": [
    "result = {\n",
    "    \"input_transform\": input_transform,\n",
    "    \"output_transform\": output_scaler,\n",
    "    \"train_X\": train_X[:160, :-1],\n",
    "    \"train_y\": train_y[:160],\n",
    "    \"model\": model\n",
    "}"
   ]
  },
  {
   "cell_type": "code",
   "execution_count": 41,
   "metadata": {},
   "outputs": [
    {
     "data": {
      "text/plain": [
       "(0.0, 100.0)"
      ]
     },
     "execution_count": 41,
     "metadata": {},
     "output_type": "execute_result"
    },
    {
     "data": {
      "image/png": "[encoded data removed]",
      "text/plain": [
       "<Figure size 432x288 with 1 Axes>"
      ]
     },
     "metadata": {
      "needs_background": "light"
     },
     "output_type": "display_data"
    }
   ],
   "source": [
    "with torch.no_grad():\n",
    "    train_posterior = model.posterior(torch.tensor(train_X[:160,:-1]))\n",
    "    train_y_pred_mean = train_posterior.mean.detach()\n",
    "    train_y_pred_std = train_posterior.variance.sqrt()\n",
    "train_y_pred_mean = result[\"output_transform\"].inverse_transform(train_y_pred_mean)\n",
    "t_y = result[\"output_transform\"].inverse_transform(train_y[:160])\n",
    "\n",
    "\n",
    "# Plotting\n",
    "fig, ax = plt.subplots(1)\n",
    "ax.plot([0,100], [0,100], \"--\")\n",
    "ax.scatter(t_y, train_y_pred_mean)\n",
    "ax.set_xlim(0,100)\n",
    "ax.set_ylim(0,100)"
   ]
  },
  {
   "cell_type": "code",
   "execution_count": 39,
   "metadata": {},
   "outputs": [
    {
     "data": {
      "text/plain": [
       "<AxesSubplot:>"
      ]
     },
     "execution_count": 39,
     "metadata": {},
     "output_type": "execute_result"
    },
    {
     "data": {
      "image/png": "[encoded data removed]",
      "text/plain": [
       "<Figure size 432x288 with 1 Axes>"
      ]
     },
     "metadata": {
      "needs_background": "light"
     },
     "output_type": "display_data"
    }
   ],
   "source": [
    "pd.Series(train_y_pred_mean[:,0]).hist()"
   ]
  },
  {
   "cell_type": "code",
   "execution_count": 63,
   "metadata": {},
   "outputs": [
    {
     "name": "stderr",
     "output_type": "stream",
     "text": [
      "/Users/Kobi/Library/Caches/pypoetry/virtualenvs/multitask-z7ErTcQa-py3.7/lib/python3.7/site-packages/ipykernel_launcher.py:10: FutureWarning: Using a non-tuple sequence for multidimensional indexing is deprecated; use `arr[tuple(seq)]` instead of `arr[seq]`. In the future this will be interpreted as an array index, `arr[np.array(seq)]`, which will result either in an error or a different result.\n",
      "  # Remove the CWD from sys.path while we load stuff.\n"
     ]
    },
    {
     "ename": "IndexError",
     "evalue": "only integers, slices (`:`), ellipsis (`...`), numpy.newaxis (`None`) and integer or boolean arrays are valid indices",
     "output_type": "error",
     "traceback": [
      "\u001b[0;31m---------------------------------------------------------------------------\u001b[0m",
      "\u001b[0;31mIndexError\u001b[0m                                Traceback (most recent call last)",
      "\u001b[0;32m<ipython-input-63-61f19b261946>\u001b[0m in \u001b[0;36m<module>\u001b[0;34m\u001b[0m\n\u001b[1;32m      8\u001b[0m     \u001b[0;34m\"input_transform\"\u001b[0m\u001b[0;34m:\u001b[0m \u001b[0minput_transform\u001b[0m\u001b[0;34m,\u001b[0m\u001b[0;34m\u001b[0m\u001b[0;34m\u001b[0m\u001b[0m\n\u001b[1;32m      9\u001b[0m     \u001b[0;34m\"output_transform\"\u001b[0m\u001b[0;34m:\u001b[0m \u001b[0moutput_scaler\u001b[0m\u001b[0;34m,\u001b[0m\u001b[0;34m\u001b[0m\u001b[0;34m\u001b[0m\u001b[0m\n\u001b[0;32m---> 10\u001b[0;31m     \u001b[0;34m\"train_X\"\u001b[0m\u001b[0;34m:\u001b[0m \u001b[0mtest_X\u001b[0m\u001b[0;34m[\u001b[0m\u001b[0mfeatures\u001b[0m\u001b[0;34m]\u001b[0m\u001b[0;34m,\u001b[0m\u001b[0;34m\u001b[0m\u001b[0;34m\u001b[0m\u001b[0m\n\u001b[0m\u001b[1;32m     11\u001b[0m     \u001b[0;34m\"train_y\"\u001b[0m\u001b[0;34m:\u001b[0m \u001b[0mtest_y\u001b[0m\u001b[0;34m,\u001b[0m\u001b[0;34m\u001b[0m\u001b[0;34m\u001b[0m\u001b[0m\n\u001b[1;32m     12\u001b[0m     \u001b[0;34m\"model\"\u001b[0m\u001b[0;34m:\u001b[0m \u001b[0mmodel\u001b[0m\u001b[0;34m\u001b[0m\u001b[0;34m\u001b[0m\u001b[0m\n",
      "\u001b[0;31mIndexError\u001b[0m: only integers, slices (`:`), ellipsis (`...`), numpy.newaxis (`None`) and integer or boolean arrays are valid indices"
     ]
    }
   ],
   "source": [
    "input_transform.fit(train_df[categorical_features])\n",
    "test_X = input_transform.transform(test_df[categorical_features])\n",
    "output_scaler = StandardScaler()\n",
    "output_scaler.fit(train_df[[\"yld\"]])\n",
    "test_y = output_scaler.transform(test_df[[\"yld\"]])\n",
    "\n",
    "result = {\n",
    "    \"input_transform\": input_transform,\n",
    "    \"output_transform\": output_scaler,\n",
    "    \"train_X\": test_X,\n",
    "    \"train_y\": test_y,\n",
    "    \"model\": model\n",
    "}\n",
    "parity_plot(result)"
   ]
  },
  {
   "cell_type": "code",
   "execution_count": null,
   "metadata": {},
   "outputs": [],
   "source": [
    "# Parameters\n",
    "df = perera_df_list[0]\n",
    "include_continuous=False\n",
    "\n",
    "# Choose ligand to hold out\n",
    "rng = default_rng(10)\n",
    "ligands = df[\"ligand_smiles\"].unique()\n",
    "hold_out_ligand = rng.choice(ligands)\n",
    "\n",
    "# Create train and test dataframes\n",
    "train_df = df[df[\"ligand_smiles\"] != hold_out_ligand]\n",
    "test_df = df[df[\"ligand_smiles\"] == hold_out_ligand]\n",
    "\n",
    "# Create multitask train df\n",
    "train_df = train_df.copy()\n",
    "train_df[\"task\"] = 0\n",
    "for i, co_train_df  in enumerate(perera_df_list[1:]):\n",
    "    co_train_df = co_train_df.copy()\n",
    "    co_train_df[\"task\"] = i+1\n",
    "    train_df = pd.concat([train_df, co_train_df])\n",
    "\n",
    "# Preprocessing\n",
    "categorical_features = [\n",
    "    \"ligand_smiles\",\n",
    "    \"base_smiles\",\n",
    "    \"solvent\",\n",
    "]\n",
    "continuous_features = [\n",
    "    \"catalyst_loading\",\n",
    "    \"ligand_ratio\",\n",
    "    \"temperature\",\n",
    "    \"time\"\n",
    "]\n",
    "\n",
    "features = deepcopy(categorical_features)\n",
    "if include_continuous:\n",
    "    features += continuous_features\n",
    "features.extend([\"yld\", \"task\"])\n",
    "train_df = train_df.copy()[features]\n",
    "\n",
    "if include_continuous:\n",
    "    input_transform = get_ct()\n",
    "else:   \n",
    "    input_transform = OrdinalEncoder()\n",
    "    \n",
    "train_X = input_transform.fit_transform(train_df[categorical_features])\n",
    "output_scaler = StandardScaler()\n",
    "train_y = output_scaler.fit_transform(train_df[[\"yld\"]])\n",
    "\n",
    "\n",
    "# Train model\n",
    "model = MixedSingleTaskGP(\n",
    "    train_X=torch.tensor(train_X),\n",
    "    train_Y=torch.tensor(train_y),\n",
    "    cat_dims=[0,1,2],\n",
    "    output_tasks=[0]\n",
    ")\n",
    "mll = ExactMarginalLogLikelihood(model.likelihood, model)\n",
    "fit_gpytorch_model(mll)"
   ]
  }
 ],
 "metadata": {
  "kernelspec": {
   "display_name": "Multitask",
   "language": "python",
   "name": "multitask"
  },
  "language_info": {
   "codemirror_mode": {
    "name": "ipython",
    "version": 3
   },
   "file_extension": ".py",
   "mimetype": "text/x-python",
   "name": "python",
   "nbconvert_exporter": "python",
   "pygments_lexer": "ipython3",
   "version": "3.7.3"
  }
 },
 "nbformat": 4,
 "nbformat_minor": 4
}
