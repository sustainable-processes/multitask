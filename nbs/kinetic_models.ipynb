{
 "cells": [
  {
   "cell_type": "code",
   "execution_count": 1,
   "metadata": {},
   "outputs": [],
   "source": [
    "%load_ext autoreload\n",
    "%autoreload 2"
   ]
  },
  {
   "cell_type": "code",
   "execution_count": 2,
   "metadata": {},
   "outputs": [],
   "source": [
    "from summit import *\n",
    "from multitask import *\n",
    "\n",
    "import pandas as pd\n",
    "import numpy as np\n",
    "import matplotlib.pyplot as plt\n",
    "\n",
    "from botorch.models import MultiTaskGP, SingleTaskGP, MixedSingleTaskGP\n",
    "from botorch.fit import fit_gpytorch_model\n",
    "from gpytorch.mlls.exact_marginal_log_likelihood import (\n",
    "    ExactMarginalLogLikelihood,\n",
    ")\n",
    "\n",
    "import torch\n",
    "\n",
    "from sklearn.preprocessing import OrdinalEncoder, StandardScaler\n",
    "from sklearn.compose import ColumnTransformer\n",
    "from sklearn.model_selection import train_test_split\n",
    "from sklearn.decomposition import PCA\n",
    "from sklearn.metrics import mean_squared_error, mean_absolute_error, r2_score"
   ]
  },
  {
   "cell_type": "markdown",
   "metadata": {},
   "source": [
    "## Functions"
   ]
  },
  {
   "cell_type": "code",
   "execution_count": 3,
   "metadata": {},
   "outputs": [],
   "source": [
    "# Transform inputs\n",
    "def get_ct(continuous_features, ordinal_features):\n",
    "    transformers = []\n",
    "    transformers.append(\n",
    "        (\n",
    "            \"continuous\",\n",
    "            StandardScaler(),\n",
    "            continuous_features\n",
    "        )\n",
    "    )\n",
    "    if type(ordinal_features) == list:\n",
    "        transformers.append(\n",
    "            (\n",
    "                \"ordinal\",\n",
    "                OrdinalEncoder(),\n",
    "                ordinal_features\n",
    "            )\n",
    "        )\n",
    "    elif type(ordinal_features) == dict:\n",
    "        categories = [cats for cats in ordinal_features.values()]\n",
    "        transformers.append(\n",
    "            (\n",
    "                \"ordinal\",\n",
    "                OrdinalEncoder(categories=categories),\n",
    "                list(ordinal_features.keys())\n",
    "            )\n",
    "        )\n",
    "    return ColumnTransformer(transformers)"
   ]
  },
  {
   "cell_type": "code",
   "execution_count": 4,
   "metadata": {},
   "outputs": [],
   "source": [
    "def parity_plot(result: dict, ax: plt.Axes = None):\n",
    "    # Train resultss\n",
    "    model = result[\"model\"]\n",
    "    train_posterior = model.posterior(torch.tensor(result[\"train_X\"]))\n",
    "    train_y_pred_mean = train_posterior.mean.detach()\n",
    "    train_y_pred_std = train_posterior.variance.sqrt()\n",
    "    train_y_pred_mean = result[\"output_transform\"].inverse_transform(train_y_pred_mean)\n",
    "    print(train_y_pred_mean.shape)\n",
    "    train_y = result[\"output_transform\"].inverse_transform(result[\"train_y\"])\n",
    "    print(train_y.shape)\n",
    "\n",
    "    # Plotting\n",
    "    if ax is None:\n",
    "        fig, ax = plt.subplots(1)\n",
    "    ax.plot([0,100], [0,100], \"--\")\n",
    "    ax.scatter(train_y, train_y_pred_mean, label=\"Train\")\n",
    "    ax.set_xlim(0,1)\n",
    "    ax.set_ylim(0,1)\n",
    "    \n",
    "    if result.get(\"test_X\") is not None and result.get(\"test_y\") is not None:\n",
    "        test_posterior = model.posterior(torch.tensor(result[\"test_X\"]))\n",
    "        test_y_pred_mean = test_posterior.mean.detach()\n",
    "        test_y_pred_std = test_posterior.variance.sqrt()\n",
    "        test_y_pred_mean = result[\"output_transform\"].inverse_transform(test_y_pred_mean)\n",
    "        test_y = result[\"output_transform\"].inverse_transform(result[\"test_y\"])\n",
    "        ax.scatter(test_y, test_y_pred_mean, label=\"Test\")\n",
    "        mae = mean_absolute_error(test_y, test_y_pred_mean)\n",
    "        print(f\"Test MAE: {mae}\")\n",
    "        \n",
    "    #Format\n",
    "    ax.legend()"
   ]
  },
  {
   "cell_type": "markdown",
   "metadata": {},
   "source": [
    "## Generate Data"
   ]
  },
  {
   "cell_type": "code",
   "execution_count": 5,
   "metadata": {},
   "outputs": [
    {
     "data": {
      "text/html": [
       "<table id='domain' width=100%><tr><td><b>Name</b></td><td><b>Type</b></td><td><b>Description</b></td><td><b>Values</b></td></tr><tr><td>conc_cat</td><td>continuous, input</td><td>catalyst concentration</td><td>[0.000835,0.004175]</td></tr><tr><td>t</td><td>continuous, input</td><td>reaction time</td><td>[60,600]</td></tr><tr><td>cat_index</td><td>categorical, input</td><td>Choice of catalyst</td><td>8 levels</td></tr><tr><td>temperature</td><td>continuous, input</td><td>Reactor temperature in degress celsius</td><td>[30,110]</td></tr><tr><td>y</td><td>continuous, maximize objective</td><td>yield (%)</td><td>[0,100]</td></tr></table>"
      ],
      "text/plain": [
       "<summit.domain.Domain at 0x7fc2e39d1898>"
      ]
     },
     "execution_count": 5,
     "metadata": {},
     "output_type": "execute_result"
    }
   ],
   "source": [
    "exp_pt = MIT_case1(noise_level=1)\n",
    "exp_pt.domain"
   ]
  },
  {
   "cell_type": "markdown",
   "metadata": {},
   "source": [
    "We first generate different amounts of data using latin hypercube sampling."
   ]
  },
  {
   "cell_type": "markdown",
   "metadata": {},
   "source": [
    "Now, we can run single-task and multi-task Bayesian optimization."
   ]
  },
  {
   "cell_type": "code",
   "execution_count": 6,
   "metadata": {},
   "outputs": [],
   "source": [
    "def generate_mit_case_1_data(n_points):\n",
    "    exp_pt = MIT_case1(noise_level=1)\n",
    "    rs = np.random.RandomState(100)\n",
    "    lhs = LHS(exp_pt.domain, random_state=rs)\n",
    "    conditions = lhs.suggest_experiments(n_points)\n",
    "    exp_pt.run_experiments(conditions)\n",
    "    pt_data = exp_pt.data\n",
    "    pt_data['task', 'METADATA'] = 0\n",
    "    return pt_data\n",
    "\n",
    "n_aux = [5, 10, 50]\n",
    "aux_datasets = [generate_mit_case_1_data(n) for n in n_aux]"
   ]
  },
  {
   "cell_type": "code",
   "execution_count": 21,
   "metadata": {},
   "outputs": [],
   "source": [
    "def generate_mit_case_2_data(n_points):\n",
    "    exp_pt = MIT_case2(noise_level=1)\n",
    "    rs = np.random.RandomState(100)\n",
    "    lhs = LHS(exp_pt.domain, random_state=rs)\n",
    "    conditions = lhs.suggest_experiments(n_points)\n",
    "    exp_pt.run_experiments(conditions)\n",
    "    pt_data = exp_pt.data\n",
    "    pt_data['task', 'METADATA'] = 1\n",
    "    return pt_data\n",
    "\n",
    "data = generate_mit_case_2_data(20)"
   ]
  },
  {
   "cell_type": "code",
   "execution_count": 26,
   "metadata": {},
   "outputs": [],
   "source": [
    "df = pd.DataFrame(data.data_to_numpy(), columns=data.data_columns)\n",
    "continuous_features = [\n",
    "    \"conc_cat\", \"temperature\", \"t\"\n",
    "]\n",
    "ordinal_features = [\"cat_index\"]\n",
    "features = continuous_features + ordinal_features\n",
    "features.append(\"y\")\n",
    "\n",
    "df = df.copy()[features]\n",
    "\n",
    "input_transform = get_ct(\n",
    "    continuous_features=continuous_features,\n",
    "    ordinal_features=ordinal_features\n",
    ")\n",
    "\n",
    "train_df, test_df = train_test_split(df, test_size=0.75)\n",
    "train_X = input_transform.fit_transform(train_df)\n",
    "test_X = input_transform.fit_transform(test_df)\n",
    "output_scaler = StandardScaler()\n",
    "train_y = output_scaler.fit_transform(train_df[[\"y\"]])\n",
    "test_y = output_scaler.fit_transform(test_df[[\"y\"]])"
   ]
  },
  {
   "cell_type": "markdown",
   "metadata": {},
   "source": [
    "## Train Single Task Model"
   ]
  },
  {
   "cell_type": "code",
   "execution_count": 29,
   "metadata": {},
   "outputs": [],
   "source": [
    "model = MixedSingleTaskGP(\n",
    "    train_X=torch.tensor(train_X),\n",
    "    train_Y=torch.tensor(train_y),\n",
    "    cat_dims=[-1]\n",
    ")\n",
    "mll = ExactMarginalLogLikelihood(model.likelihood, model)\n",
    "_ = fit_gpytorch_model(mll)"
   ]
  },
  {
   "cell_type": "code",
   "execution_count": 30,
   "metadata": {},
   "outputs": [],
   "source": [
    "result =  {\n",
    "    \"input_transform\": input_transform,\n",
    "    \"output_transform\": output_scaler,\n",
    "    \"train_X\": train_X,\n",
    "    \"train_y\": train_y,\n",
    "    \"test_X\": test_X,\n",
    "    \"test_y\": test_y,\n",
    "    \"model\": model\n",
    "}"
   ]
  },
  {
   "cell_type": "code",
   "execution_count": 31,
   "metadata": {},
   "outputs": [
    {
     "name": "stdout",
     "output_type": "stream",
     "text": [
      "(5, 1)\n",
      "(5, 1)\n",
      "Test MAE: 0.3015026012628244\n"
     ]
    },
    {
     "data": {
      "image/png": "[encoded data removed]",
      "text/plain": [
       "<Figure size 432x288 with 1 Axes>"
      ]
     },
     "metadata": {
      "needs_background": "light"
     },
     "output_type": "display_data"
    }
   ],
   "source": [
    "fig, ax = plt.subplots(1)\n",
    "parity_plot(result, ax)"
   ]
  },
  {
   "cell_type": "markdown",
   "metadata": {},
   "source": [
    "## Compare ICM and LCM models"
   ]
  },
  {
   "cell_type": "markdown",
   "metadata": {},
   "source": [
    "### ICM "
   ]
  },
  {
   "cell_type": "code",
   "execution_count": 32,
   "metadata": {},
   "outputs": [
    {
     "name": "stderr",
     "output_type": "stream",
     "text": [
      "/Users/Kobi/Library/Caches/pypoetry/virtualenvs/multitask-z7ErTcQa-py3.7/lib/python3.7/site-packages/ipykernel_launcher.py:30: DeprecationWarning: `np.float` is a deprecated alias for the builtin `float`. To silence this warning, use `float` by itself. Doing this will not modify any behavior and is safe. If you specifically wanted the numpy scalar type, use `np.float64` here.\n",
      "Deprecated in NumPy 1.20; for more details and guidance: https://numpy.org/devdocs/release/1.20.0-notes.html#deprecations\n"
     ]
    }
   ],
   "source": [
    "# Tasks\n",
    "train_df_new = train_df.copy()\n",
    "train_df_new[\"task\"] = 1\n",
    "aux_number = 1\n",
    "df_aux = pd.DataFrame(\n",
    "    aux_datasets[aux_number].data_to_numpy(),\n",
    "    columns=aux_datasets[aux_number].data_columns\n",
    ")\n",
    "df_aux[\"task\"] = 0\n",
    "big_df = pd.concat([train_df_new, df_aux])\n",
    "\n",
    "# Features\n",
    "continuous_features = [\n",
    "    \"conc_cat\", \"temperature\", \"t\"\n",
    "]\n",
    "ordinal_features = [\"cat_index\"]\n",
    "features = continuous_features + ordinal_features\n",
    "features.append(\"y\")\n",
    "\n",
    "# Transform\n",
    "input_transform = get_ct(\n",
    "    continuous_features=continuous_features,\n",
    "    ordinal_features=ordinal_features\n",
    ")\n",
    "\n",
    "\n",
    "# Input transofrm\n",
    "train_X_multitask = input_transform.fit_transform(big_df)\n",
    "train_X_multitask = np.append(train_X_multitask, big_df[[\"task\"]], axis=1).astype(\n",
    "    np.float\n",
    ")\n",
    "train_X_task_1 = input_transform.fit_transform(train_df)\n",
    "test_X_multitask = input_transform.fit_transform(test_df)\n",
    "\n",
    "#Output transform\n",
    "output_scaler = StandardScaler()\n",
    "train_y_multitask = output_scaler.fit_transform(big_df[[\"y\"]])\n",
    "train_y_task_1 = output_scaler.fit_transform(train_df[[\"y\"]])\n",
    "test_y_multitask = output_scaler.fit_transform(test_df[[\"y\"]])"
   ]
  },
  {
   "cell_type": "code",
   "execution_count": 33,
   "metadata": {},
   "outputs": [
    {
     "name": "stderr",
     "output_type": "stream",
     "text": [
      "/Users/Kobi/Library/Caches/pypoetry/virtualenvs/multitask-z7ErTcQa-py3.7/lib/python3.7/site-packages/botorch/fit.py:130: NumericalWarning: A not p.d., added jitter of 1.0e-08 to the diagonal\n",
      "  warnings.warn(w.message, w.category)\n"
     ]
    }
   ],
   "source": [
    "model = MixedMultiTaskGP(\n",
    "    train_X=torch.tensor(train_X_multitask),\n",
    "    train_Y=torch.tensor(train_y_multitask),\n",
    "    task_feature = -1,\n",
    "    cat_dims=[-2],\n",
    "    output_tasks=[1]\n",
    "    \n",
    ")\n",
    "mll = ExactMarginalLogLikelihood(model.likelihood, model)\n",
    "_ = fit_gpytorch_model(mll)"
   ]
  },
  {
   "cell_type": "code",
   "execution_count": 34,
   "metadata": {},
   "outputs": [],
   "source": [
    "result =  {\n",
    "    \"input_transform\": input_transform,\n",
    "    \"output_transform\": output_scaler,\n",
    "    \"train_X\": train_X_task_1,\n",
    "    \"train_y\": train_y_task_1,\n",
    "    \"test_X\": test_X_multitask,\n",
    "    \"test_y\": test_y_multitask,\n",
    "    \"model\": model\n",
    "}"
   ]
  },
  {
   "cell_type": "code",
   "execution_count": 35,
   "metadata": {},
   "outputs": [
    {
     "name": "stdout",
     "output_type": "stream",
     "text": [
      "(5, 1)\n",
      "(5, 1)\n",
      "Test MAE: 0.11764800311716125\n"
     ]
    },
    {
     "name": "stderr",
     "output_type": "stream",
     "text": [
      "/Users/Kobi/Library/Caches/pypoetry/virtualenvs/multitask-z7ErTcQa-py3.7/lib/python3.7/site-packages/gpytorch/utils/cholesky.py:83: NumericalWarning: A not p.d., added jitter of 1.0e-08 to the diagonal\n",
      "  warnings.warn(f\"A not p.d., added jitter of {jitter_new:.1e} to the diagonal\", NumericalWarning)\n"
     ]
    },
    {
     "data": {
      "image/png": "[encoded data removed]",
      "text/plain": [
       "<Figure size 432x288 with 1 Axes>"
      ]
     },
     "metadata": {
      "needs_background": "light"
     },
     "output_type": "display_data"
    }
   ],
   "source": [
    "fig, ax = plt.subplots(1)\n",
    "parity_plot(result, ax)"
   ]
  },
  {
   "cell_type": "markdown",
   "metadata": {},
   "source": [
    "### LCM"
   ]
  },
  {
   "cell_type": "code",
   "execution_count": 36,
   "metadata": {},
   "outputs": [
    {
     "name": "stderr",
     "output_type": "stream",
     "text": [
      "/Users/Kobi/Library/Caches/pypoetry/virtualenvs/multitask-z7ErTcQa-py3.7/lib/python3.7/site-packages/botorch/fit.py:130: NumericalWarning: A not p.d., added jitter of 1.0e-08 to the diagonal\n",
      "  warnings.warn(w.message, w.category)\n"
     ]
    }
   ],
   "source": [
    "model = LCMMultitaskGP(\n",
    "    train_X=torch.tensor(train_X_multitask),\n",
    "    train_Y=torch.tensor(train_y_multitask),\n",
    "    num_independent_kernels=2,\n",
    "    task_feature = -1,\n",
    "    cat_dims=[-2],\n",
    "    output_tasks=[1]\n",
    "    \n",
    ")\n",
    "mll = ExactMarginalLogLikelihood(model.likelihood, model)\n",
    "_ = fit_gpytorch_model(mll)"
   ]
  },
  {
   "cell_type": "code",
   "execution_count": 37,
   "metadata": {},
   "outputs": [],
   "source": [
    "result =  {\n",
    "    \"input_transform\": input_transform,\n",
    "    \"output_transform\": output_scaler,\n",
    "    \"train_X\": train_X_task_1,\n",
    "    \"train_y\": train_y_task_1,\n",
    "    \"test_X\": test_X_multitask,\n",
    "    \"test_y\": test_y_multitask,\n",
    "    \"model\": model\n",
    "}"
   ]
  },
  {
   "cell_type": "code",
   "execution_count": 38,
   "metadata": {},
   "outputs": [
    {
     "name": "stderr",
     "output_type": "stream",
     "text": [
      "/Users/Kobi/Library/Caches/pypoetry/virtualenvs/multitask-z7ErTcQa-py3.7/lib/python3.7/site-packages/gpytorch/utils/cholesky.py:83: NumericalWarning: A not p.d., added jitter of 1.0e-08 to the diagonal\n",
      "  warnings.warn(f\"A not p.d., added jitter of {jitter_new:.1e} to the diagonal\", NumericalWarning)\n"
     ]
    },
    {
     "name": "stdout",
     "output_type": "stream",
     "text": [
      "(5, 1)\n",
      "(5, 1)\n",
      "Test MAE: 0.24390371084869536\n"
     ]
    },
    {
     "data": {
      "image/png": "[encoded data removed]",
      "text/plain": [
       "<Figure size 432x288 with 1 Axes>"
      ]
     },
     "metadata": {
      "needs_background": "light"
     },
     "output_type": "display_data"
    }
   ],
   "source": [
    "fig, ax = plt.subplots(1)\n",
    "parity_plot(result, ax)"
   ]
  },
  {
   "cell_type": "code",
   "execution_count": null,
   "metadata": {},
   "outputs": [],
   "source": []
  }
 ],
 "metadata": {
  "kernelspec": {
   "display_name": "Multitask",
   "language": "python",
   "name": "multitask"
  },
  "language_info": {
   "codemirror_mode": {
    "name": "ipython",
    "version": 3
   },
   "file_extension": ".py",
   "mimetype": "text/x-python",
   "name": "python",
   "nbconvert_exporter": "python",
   "pygments_lexer": "ipython3",
   "version": "3.7.3"
  }
 },
 "nbformat": 4,
 "nbformat_minor": 4
}
